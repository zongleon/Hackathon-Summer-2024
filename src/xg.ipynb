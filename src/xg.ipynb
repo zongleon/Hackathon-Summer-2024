{
 "cells": [
  {
   "cell_type": "code",
   "execution_count": 1,
   "id": "a2492357-49b0-4779-b4a3-0f43eceb3461",
   "metadata": {},
   "outputs": [],
   "source": [
    "from xgboost import XGBClassifier\n",
    "import pandas as pd\n",
    "import numpy as np\n",
    "from sklearn.metrics import classification_report, accuracy_score, f1_score, matthews_corrcoef\n",
    "from sklearn.model_selection import train_test_split, KFold\n",
    "import wandb\n",
    "from collections import namedtuple\n",
    "from sklearn.preprocessing import StandardScaler\n",
    "from scipy.stats import mode\n",
    "from sklearn import svm"
   ]
  },
  {
   "cell_type": "code",
   "execution_count": 2,
   "id": "da95cd2b-3e21-4b26-bf83-0e598a341a36",
   "metadata": {},
   "outputs": [
    {
     "name": "stderr",
     "output_type": "stream",
     "text": [
      "\u001b[34m\u001b[1mwandb\u001b[0m: Currently logged in as: \u001b[33mzongl\u001b[0m (\u001b[33mcsc240_lztp\u001b[0m). Use \u001b[1m`wandb login --relogin`\u001b[0m to force relogin\n"
     ]
    },
    {
     "data": {
      "text/plain": [
       "True"
      ]
     },
     "execution_count": 2,
     "metadata": {},
     "output_type": "execute_result"
    }
   ],
   "source": [
    "wandb.login()"
   ]
  },
  {
   "cell_type": "code",
   "execution_count": 3,
   "id": "42e07007-31ee-487e-9686-7fc79d3b4907",
   "metadata": {},
   "outputs": [],
   "source": [
    "# rename columns\n",
    "def remove_rename(df: pd.DataFrame) -> pd.DataFrame:\n",
    "    df = df.drop([\"peak.1\", \"gene.1\"], axis=1)\n",
    "\n",
    "    num_cells = (len(df.columns)-4) // 2\n",
    "    new_cols = ['peak', 'gene', 'Pair', 'is_pair'] + [\"atac.\" + str(x) for x in range(num_cells)] + [\"rna.\" + str(x) for x in range(num_cells)]\n",
    "    df = df.rename(columns=dict(zip(df.columns, new_cols)))\n",
    "    return df\n",
    "\n",
    "def set_labels(df: pd.DataFrame) -> pd.DataFrame:\n",
    "    df[\"is_pair\"] = df[\"is_pair\"].apply(lambda x: 1 if x else 0)\n",
    "    return df\n",
    "    \n",
    "def normalize(df: pd.DataFrame) -> pd.DataFrame:\n",
    "    # only counts\n",
    "    num_df = df[df.columns[4:]]\n",
    "    \n",
    "    # Summing each column (sample) to get library sizes\n",
    "    library_sizes = num_df.sum(axis=0)\n",
    "    \n",
    "    # Normalizing to CPM\n",
    "    cpm_df = num_df.div(library_sizes, axis=1) * 10**6\n",
    "    \n",
    "    # If you want to log-transform the CPM data\n",
    "    log_cpm_df = cpm_df.apply(lambda x: np.log2(x + 1))\n",
    "\n",
    "    return pd.concat([df[df.columns[:4]], log_cpm_df], axis=1)"
   ]
  },
  {
   "cell_type": "code",
   "execution_count": null,
   "id": "b4bb9f8e-f77f-43e5-96ab-18527dc2cb92",
   "metadata": {},
   "outputs": [],
   "source": [
    "# use only features given\n",
    "DATA_PATH = \"../data/Tab_delimited_text/\"\n",
    "train_df = pd.read_csv(DATA_PATH + \"train.csv\")\n",
    "test_df = pd.read_csv(DATA_PATH + \"test.csv\")\n",
    "\n",
    "train_df = remove_rename(train_df)\n",
    "train_df = set_labels(train_df)\n",
    "train_df = normalize(train_df)\n",
    "\n",
    "test_df = remove_rename(test_df)\n",
    "test_df = set_labels(test_df)\n",
    "test_df = normalize(test_df)\n",
    "\n",
    "# split features\n",
    "train_df, val_df = train_test_split(train_df, test_size=0.2, random_state=0)\n",
    "\n",
    "# split x, y\n",
    "X_train = train_df[train_df.columns[4:]]\n",
    "y_train = train_df[\"is_pair\"]\n",
    "\n",
    "X_val = val_df[val_df.columns[4:]]\n",
    "y_val = val_df[\"is_pair\"]\n",
    "\n",
    "X_test = test_df[test_df.columns[4:]]"
   ]
  },
  {
   "cell_type": "code",
   "execution_count": 4,
   "id": "696243a6-a29b-41f4-b8b8-21047cc6bf87",
   "metadata": {},
   "outputs": [],
   "source": [
    "# or use features from features.ipynb\n",
    "train_df = pd.read_csv(\"../data/train_features_3.csv\")\n",
    "test_df = pd.read_csv(\"../data/test_features_3.csv\")\n",
    "\n",
    "peak_score = \"peak_tf_score\"\n",
    "\n",
    "# Create interaction features, scale features\n",
    "for df in [train_df, test_df]:\n",
    "    # Initialize the scaler\n",
    "    scaler = StandardScaler()\n",
    "    \n",
    "    # Scale the 'peak_tf_score' column\n",
    "    df['correlation'] = scaler.fit_transform(df[['correlation']])\n",
    "    \n",
    "    # Scale the 'distance' column\n",
    "    # train_df['distance'] = np.log10(train_df['distance'])\n",
    "    df['distance'] = scaler.fit_transform(df[['distance']])\n",
    "    \n",
    "    # Scale the 'peak_tf_score' column\n",
    "    df[peak_score] = scaler.fit_transform(df[[peak_score]])\n",
    "    \n",
    "    df['interaction_c_d'] = df['correlation'] * df['distance']\n",
    "    df['interaction_d_s'] = df['distance'] * df[peak_score]\n",
    "    df['interaction_c_s'] = df['correlation'] * df[peak_score]\n",
    "    df['interaction_c_d_s'] = df['correlation'] * df['distance'] * df[peak_score]\n",
    "\n",
    "# split features\n",
    "# train_df, val_df = train_test_split(train_df, test_size=0.2, random_state=0)\n",
    "\n",
    "features = [\"correlation\", \"distance\", peak_score, \"interaction_c_d\", \"interaction_d_s\", \"interaction_c_s\", \"interaction_c_d_s\"] + [f\"pc_{x+1}\" for x in range(20)]\n",
    "# features= [\"correlation\", \"distance\"] + [f\"pc_{x+1}\" for x in range(20)]\n",
    "# features = [\"distance\", peak_score, \"interaction_c_d\", \"interaction_d_s\", \"interaction_c_s\", \"interaction_c_d_s\"] + [f\"pc_{x+1}\" for x in range(20)]\n",
    "\n",
    "# split x, y\n",
    "X_train = train_df[features]\n",
    "y_train = train_df[\"is_pair\"]\n",
    "\n",
    "# X_val = val_df[features]\n",
    "# y_val = val_df[\"is_pair\"]\n",
    "\n",
    "X_test = test_df[features]"
   ]
  },
  {
   "cell_type": "code",
   "execution_count": 159,
   "id": "5c62bdd2-8147-4dc7-ab12-db8d233db1b8",
   "metadata": {},
   "outputs": [
    {
     "name": "stdout",
     "output_type": "stream",
     "text": [
      "Create sweep with ID: 622kdym6\n",
      "Sweep URL: https://wandb.ai/csc240_lztp/hackathon-2024/sweeps/622kdym6\n"
     ]
    }
   ],
   "source": [
    "# parameter sweep\n",
    "# sweep_configuration = {\n",
    "#     \"method\": \"bayes\",\n",
    "#     \"name\": \"contrastive\",\n",
    "#     \"metric\": {\"goal\": \"maximize\", \"name\": \"val_mcc\"},\n",
    "#     \"parameters\": {\n",
    "#         'max_depth': {\"min\": 3, \"max\": 18, \"distribution\": \"q_uniform\"},\n",
    "#         'gamma': {\"min\": 1, \"max\": 9, \"distribution\": \"uniform\"},\n",
    "#         # 'reg_alpha': {\"min\":40, \"max\": 180, \"distribution\": \"q_uniform\"},\n",
    "#         # 'reg_lambda': {\"min\": 0.0, \"max\": 1.0},\n",
    "#         'colsample_bytree': {\"min\": 0.5, \"max\": 1.0},\n",
    "#         'subsample': {\"min\": 0.5, \"max\": 1.0},\n",
    "#         # 'min_child_weight': {\"min\": 0, \"max\": 10, \"distribution\": \"q_uniform\"},\n",
    "#         'n_estimators': {\"min\": 2, \"max\": 10},\n",
    "#         'learning_rate': {\"value\": 1},\n",
    "#         'seed': {\"value\": 0}\n",
    "#     },\n",
    "# }\n",
    "sweep_configuration = {\n",
    "    \"method\": \"bayes\",\n",
    "    \"name\": \"contrastive\",\n",
    "    \"metric\": {\"goal\": \"maximize\", \"name\": \"val_mcc\"},\n",
    "    \"parameters\": {\n",
    "        'max_depth': {\"min\": 1, \"max\": 10, \"distribution\": \"q_uniform\"},\n",
    "        'gamma': {\"min\": 1, \"max\": 9, \"distribution\": \"uniform\"},\n",
    "        'reg_alpha': {\"min\":40, \"max\": 180, \"distribution\": \"q_uniform\"},\n",
    "        'reg_lambda': {\"min\": 0.0, \"max\": 1.0},\n",
    "        'colsample_bytree': {\"min\": 0.5, \"max\": 1.0},\n",
    "        'subsample': {\"min\": 0.5, \"max\": 1.0},\n",
    "        'min_child_weight': {\"min\": 0, \"max\": 10, \"distribution\": \"q_uniform\"},\n",
    "        'n_estimators': {\"values\": [10, 50, 100, 250]},\n",
    "        'learning_rate': {\"values\": [0.001, 0.01, 0.1, 1]},\n",
    "    },\n",
    "}\n",
    "\n",
    "sweep_id = wandb.sweep(sweep=sweep_configuration, project=\"hackathon-2024\")"
   ]
  },
  {
   "cell_type": "code",
   "execution_count": 160,
   "id": "141029ba-ff87-4354-8355-ceaafb1e3dbf",
   "metadata": {},
   "outputs": [],
   "source": [
    "# define metrics\n",
    "metrics = [\n",
    "    (\"f1\", f1_score),\n",
    "    (\"acc\", accuracy_score),\n",
    "    (\"mcc\", matthews_corrcoef),\n",
    "]"
   ]
  },
  {
   "cell_type": "code",
   "execution_count": 161,
   "id": "447b4059-0e87-4f88-ba30-e7f9306503ef",
   "metadata": {},
   "outputs": [],
   "source": [
    "def train(use_wandb=True, params=None):\n",
    "    if use_wandb:\n",
    "        wandb.init()\n",
    "        config = wandb.config\n",
    "    else:\n",
    "        Config = namedtuple(\"configuration\", list(params.keys()))\n",
    "        config = Config(**params)\n",
    "    bst = XGBClassifier(max_depth=config.max_depth,\n",
    "                        gamma=config.gamma,\n",
    "                        reg_alpha=config.reg_alpha,\n",
    "                        reg_lambda=config.reg_lambda,\n",
    "                        colsample_bytree=config.colsample_bytree,\n",
    "                        subsample=config.subsample,\n",
    "                        min_child_weight=config.min_child_weight,\n",
    "                        n_estimators=config.n_estimators,\n",
    "                        learning_rate=config.learning_rate,\n",
    "                        objective=\"binary:hinge\")\n",
    "\n",
    "    # Define the number of folds\n",
    "    n_splits = 5\n",
    "    kf = KFold(n_splits=n_splits, shuffle=True, random_state=0)\n",
    "\n",
    "    train_metric_fold = {\n",
    "        \"f1\": [],\n",
    "        \"acc\": [],\n",
    "        \"mcc\": [],\n",
    "    }\n",
    "    test_metric_fold = {\n",
    "        \"f1\": [],\n",
    "        \"acc\": [],\n",
    "        \"mcc\": [],\n",
    "    }\n",
    "    for train_index, val_index in kf.split(X_train):\n",
    "        # Split the data into training and validation sets\n",
    "        X_train_fold, X_val_fold = X_train.to_numpy()[train_index], X_train.to_numpy()[val_index]\n",
    "        y_train_fold, y_val_fold = y_train.to_numpy()[train_index], y_train.to_numpy()[val_index]\n",
    "    \n",
    "        bst = XGBClassifier(n_estimators=100,\n",
    "                          gamma=1,\n",
    "                          max_depth=1,\n",
    "                          learning_rate=1,\n",
    "                          subsample=None,\n",
    "                          colsample_bytree=None,\n",
    "                          objective=\"binary:hinge\")\n",
    "        \n",
    "        bst.fit(X_train_fold, y_train_fold)\n",
    "        \n",
    "        y_pred_val = bst.predict(X_val_fold)\n",
    "        y_pred_train = bst.predict(X_train_fold)\n",
    "    \n",
    "        for name, metric in metrics:\n",
    "            train_metric_fold[name].append(metric(y_train_fold, y_pred_train))\n",
    "            test_metric_fold[name].append(metric(y_val_fold, y_pred_val))\n",
    "            \n",
    "    if use_wandb:\n",
    "        wandb.log({\"val_\" + metricname: np.mean(metriclist) for metricname, metriclist in test_metric_fold.items()})\n",
    "        wandb.log({\"train_\" + metricname: np.mean(metriclist) for metricname, metriclist in train_metric_fold.items()})\n",
    "    else:\n",
    "        print({f\"val_{metricname}\": f\"{np.mean(metriclist):.5f} ({np.std(metriclist):.5f})\" for metricname, metriclist in test_metric_fold.items()})\n",
    "        print({f\"train_{metricname}\": f\"{np.mean(metriclist):.5f} ({np.std(metriclist):.5f})\" for metricname, metriclist in train_metric_fold.items()})\n",
    "\n",
    "    return config"
   ]
  },
  {
   "cell_type": "code",
   "execution_count": 163,
   "id": "6e4fd61c-bc2d-4153-a879-4aba7ac64001",
   "metadata": {},
   "outputs": [
    {
     "name": "stderr",
     "output_type": "stream",
     "text": [
      "\u001b[34m\u001b[1mwandb\u001b[0m: Agent Starting Run: rapawzf8 with config:\n",
      "\u001b[34m\u001b[1mwandb\u001b[0m: \tcolsample_bytree: 0.906918228152246\n",
      "\u001b[34m\u001b[1mwandb\u001b[0m: \tgamma: 2.611809828912506\n",
      "\u001b[34m\u001b[1mwandb\u001b[0m: \tlearning_rate: 1\n",
      "\u001b[34m\u001b[1mwandb\u001b[0m: \tmax_depth: 5\n",
      "\u001b[34m\u001b[1mwandb\u001b[0m: \tmin_child_weight: 4\n",
      "\u001b[34m\u001b[1mwandb\u001b[0m: \tn_estimators: 50\n",
      "\u001b[34m\u001b[1mwandb\u001b[0m: \treg_alpha: 58\n",
      "\u001b[34m\u001b[1mwandb\u001b[0m: \treg_lambda: 0.21082387664922964\n",
      "\u001b[34m\u001b[1mwandb\u001b[0m: \tsubsample: 0.6982488103572396\n"
     ]
    },
    {
     "data": {
      "text/html": [
       "wandb version 0.17.7 is available!  To upgrade, please run:\n",
       " $ pip install wandb --upgrade"
      ],
      "text/plain": [
       "<IPython.core.display.HTML object>"
      ]
     },
     "metadata": {},
     "output_type": "display_data"
    },
    {
     "data": {
      "text/html": [
       "Tracking run with wandb version 0.17.6"
      ],
      "text/plain": [
       "<IPython.core.display.HTML object>"
      ]
     },
     "metadata": {},
     "output_type": "display_data"
    },
    {
     "data": {
      "text/html": [
       "Run data is saved locally in <code>/home/jovyan/work/src/wandb/run-20240816_182824-rapawzf8</code>"
      ],
      "text/plain": [
       "<IPython.core.display.HTML object>"
      ]
     },
     "metadata": {},
     "output_type": "display_data"
    },
    {
     "data": {
      "text/html": [
       "Syncing run <strong><a href='https://wandb.ai/csc240_lztp/hackathon-2024/runs/rapawzf8' target=\"_blank\">vocal-sweep-2</a></strong> to <a href='https://wandb.ai/csc240_lztp/hackathon-2024' target=\"_blank\">Weights & Biases</a> (<a href='https://wandb.me/run' target=\"_blank\">docs</a>)<br/>Sweep page: <a href='https://wandb.ai/csc240_lztp/hackathon-2024/sweeps/622kdym6' target=\"_blank\">https://wandb.ai/csc240_lztp/hackathon-2024/sweeps/622kdym6</a>"
      ],
      "text/plain": [
       "<IPython.core.display.HTML object>"
      ]
     },
     "metadata": {},
     "output_type": "display_data"
    },
    {
     "data": {
      "text/html": [
       " View project at <a href='https://wandb.ai/csc240_lztp/hackathon-2024' target=\"_blank\">https://wandb.ai/csc240_lztp/hackathon-2024</a>"
      ],
      "text/plain": [
       "<IPython.core.display.HTML object>"
      ]
     },
     "metadata": {},
     "output_type": "display_data"
    },
    {
     "data": {
      "text/html": [
       " View sweep at <a href='https://wandb.ai/csc240_lztp/hackathon-2024/sweeps/622kdym6' target=\"_blank\">https://wandb.ai/csc240_lztp/hackathon-2024/sweeps/622kdym6</a>"
      ],
      "text/plain": [
       "<IPython.core.display.HTML object>"
      ]
     },
     "metadata": {},
     "output_type": "display_data"
    },
    {
     "data": {
      "text/html": [
       " View run at <a href='https://wandb.ai/csc240_lztp/hackathon-2024/runs/rapawzf8' target=\"_blank\">https://wandb.ai/csc240_lztp/hackathon-2024/runs/rapawzf8</a>"
      ],
      "text/plain": [
       "<IPython.core.display.HTML object>"
      ]
     },
     "metadata": {},
     "output_type": "display_data"
    },
    {
     "data": {
      "application/vnd.jupyter.widget-view+json": {
       "model_id": "",
       "version_major": 2,
       "version_minor": 0
      },
      "text/plain": [
       "VBox(children=(Label(value='0.001 MB of 0.006 MB uploaded\\r'), FloatProgress(value=0.17634761833656862, max=1.…"
      ]
     },
     "metadata": {},
     "output_type": "display_data"
    },
    {
     "data": {
      "text/html": [
       "<style>\n",
       "    table.wandb td:nth-child(1) { padding: 0 10px; text-align: left ; width: auto;} td:nth-child(2) {text-align: left ; width: 100%}\n",
       "    .wandb-row { display: flex; flex-direction: row; flex-wrap: wrap; justify-content: flex-start; width: 100% }\n",
       "    .wandb-col { display: flex; flex-direction: column; flex-basis: 100%; flex: 1; padding: 10px; }\n",
       "    </style>\n",
       "<div class=\"wandb-row\"><div class=\"wandb-col\"><h3>Run history:</h3><br/><table class=\"wandb\"><tr><td>train_acc</td><td>▁</td></tr><tr><td>train_f1</td><td>▁</td></tr><tr><td>train_mcc</td><td>▁</td></tr><tr><td>val_acc</td><td>▁</td></tr><tr><td>val_f1</td><td>▁</td></tr><tr><td>val_mcc</td><td>▁</td></tr></table><br/></div><div class=\"wandb-col\"><h3>Run summary:</h3><br/><table class=\"wandb\"><tr><td>train_acc</td><td>1.0</td></tr><tr><td>train_f1</td><td>1.0</td></tr><tr><td>train_mcc</td><td>1.0</td></tr><tr><td>val_acc</td><td>0.99333</td></tr><tr><td>val_f1</td><td>0.99347</td></tr><tr><td>val_mcc</td><td>0.98669</td></tr></table><br/></div></div>"
      ],
      "text/plain": [
       "<IPython.core.display.HTML object>"
      ]
     },
     "metadata": {},
     "output_type": "display_data"
    },
    {
     "data": {
      "text/html": [
       " View run <strong style=\"color:#cdcd00\">vocal-sweep-2</strong> at: <a href='https://wandb.ai/csc240_lztp/hackathon-2024/runs/rapawzf8' target=\"_blank\">https://wandb.ai/csc240_lztp/hackathon-2024/runs/rapawzf8</a><br/> View project at: <a href='https://wandb.ai/csc240_lztp/hackathon-2024' target=\"_blank\">https://wandb.ai/csc240_lztp/hackathon-2024</a><br/>Synced 4 W&B file(s), 0 media file(s), 0 artifact file(s) and 0 other file(s)"
      ],
      "text/plain": [
       "<IPython.core.display.HTML object>"
      ]
     },
     "metadata": {},
     "output_type": "display_data"
    },
    {
     "data": {
      "text/html": [
       "Find logs at: <code>./wandb/run-20240816_182824-rapawzf8/logs</code>"
      ],
      "text/plain": [
       "<IPython.core.display.HTML object>"
      ]
     },
     "metadata": {},
     "output_type": "display_data"
    },
    {
     "data": {
      "text/html": [
       "The new W&B backend becomes opt-out in version 0.18.0; try it out with `wandb.require(\"core\")`! See https://wandb.me/wandb-core for more information."
      ],
      "text/plain": [
       "<IPython.core.display.HTML object>"
      ]
     },
     "metadata": {},
     "output_type": "display_data"
    },
    {
     "name": "stderr",
     "output_type": "stream",
     "text": [
      "\u001b[34m\u001b[1mwandb\u001b[0m: Agent Starting Run: rrziu5fy with config:\n",
      "\u001b[34m\u001b[1mwandb\u001b[0m: \tcolsample_bytree: 0.9191065422636928\n",
      "\u001b[34m\u001b[1mwandb\u001b[0m: \tgamma: 1.0622897722836724\n",
      "\u001b[34m\u001b[1mwandb\u001b[0m: \tlearning_rate: 0.01\n",
      "\u001b[34m\u001b[1mwandb\u001b[0m: \tmax_depth: 7\n",
      "\u001b[34m\u001b[1mwandb\u001b[0m: \tmin_child_weight: 4\n",
      "\u001b[34m\u001b[1mwandb\u001b[0m: \tn_estimators: 50\n",
      "\u001b[34m\u001b[1mwandb\u001b[0m: \treg_alpha: 67\n",
      "\u001b[34m\u001b[1mwandb\u001b[0m: \treg_lambda: 0.4381598974442754\n",
      "\u001b[34m\u001b[1mwandb\u001b[0m: \tsubsample: 0.5812351384309866\n"
     ]
    },
    {
     "data": {
      "text/html": [
       "wandb version 0.17.7 is available!  To upgrade, please run:\n",
       " $ pip install wandb --upgrade"
      ],
      "text/plain": [
       "<IPython.core.display.HTML object>"
      ]
     },
     "metadata": {},
     "output_type": "display_data"
    },
    {
     "data": {
      "text/html": [
       "Tracking run with wandb version 0.17.6"
      ],
      "text/plain": [
       "<IPython.core.display.HTML object>"
      ]
     },
     "metadata": {},
     "output_type": "display_data"
    },
    {
     "data": {
      "text/html": [
       "Run data is saved locally in <code>/home/jovyan/work/src/wandb/run-20240816_182850-rrziu5fy</code>"
      ],
      "text/plain": [
       "<IPython.core.display.HTML object>"
      ]
     },
     "metadata": {},
     "output_type": "display_data"
    },
    {
     "data": {
      "text/html": [
       "Syncing run <strong><a href='https://wandb.ai/csc240_lztp/hackathon-2024/runs/rrziu5fy' target=\"_blank\">rose-sweep-3</a></strong> to <a href='https://wandb.ai/csc240_lztp/hackathon-2024' target=\"_blank\">Weights & Biases</a> (<a href='https://wandb.me/run' target=\"_blank\">docs</a>)<br/>Sweep page: <a href='https://wandb.ai/csc240_lztp/hackathon-2024/sweeps/622kdym6' target=\"_blank\">https://wandb.ai/csc240_lztp/hackathon-2024/sweeps/622kdym6</a>"
      ],
      "text/plain": [
       "<IPython.core.display.HTML object>"
      ]
     },
     "metadata": {},
     "output_type": "display_data"
    },
    {
     "data": {
      "text/html": [
       " View project at <a href='https://wandb.ai/csc240_lztp/hackathon-2024' target=\"_blank\">https://wandb.ai/csc240_lztp/hackathon-2024</a>"
      ],
      "text/plain": [
       "<IPython.core.display.HTML object>"
      ]
     },
     "metadata": {},
     "output_type": "display_data"
    },
    {
     "data": {
      "text/html": [
       " View sweep at <a href='https://wandb.ai/csc240_lztp/hackathon-2024/sweeps/622kdym6' target=\"_blank\">https://wandb.ai/csc240_lztp/hackathon-2024/sweeps/622kdym6</a>"
      ],
      "text/plain": [
       "<IPython.core.display.HTML object>"
      ]
     },
     "metadata": {},
     "output_type": "display_data"
    },
    {
     "data": {
      "text/html": [
       " View run at <a href='https://wandb.ai/csc240_lztp/hackathon-2024/runs/rrziu5fy' target=\"_blank\">https://wandb.ai/csc240_lztp/hackathon-2024/runs/rrziu5fy</a>"
      ],
      "text/plain": [
       "<IPython.core.display.HTML object>"
      ]
     },
     "metadata": {},
     "output_type": "display_data"
    },
    {
     "data": {
      "application/vnd.jupyter.widget-view+json": {
       "model_id": "",
       "version_major": 2,
       "version_minor": 0
      },
      "text/plain": [
       "VBox(children=(Label(value='0.001 MB of 0.006 MB uploaded\\r'), FloatProgress(value=0.17624235188777795, max=1.…"
      ]
     },
     "metadata": {},
     "output_type": "display_data"
    },
    {
     "data": {
      "text/html": [
       "<style>\n",
       "    table.wandb td:nth-child(1) { padding: 0 10px; text-align: left ; width: auto;} td:nth-child(2) {text-align: left ; width: 100%}\n",
       "    .wandb-row { display: flex; flex-direction: row; flex-wrap: wrap; justify-content: flex-start; width: 100% }\n",
       "    .wandb-col { display: flex; flex-direction: column; flex-basis: 100%; flex: 1; padding: 10px; }\n",
       "    </style>\n",
       "<div class=\"wandb-row\"><div class=\"wandb-col\"><h3>Run history:</h3><br/><table class=\"wandb\"><tr><td>train_acc</td><td>▁</td></tr><tr><td>train_f1</td><td>▁</td></tr><tr><td>train_mcc</td><td>▁</td></tr><tr><td>val_acc</td><td>▁</td></tr><tr><td>val_f1</td><td>▁</td></tr><tr><td>val_mcc</td><td>▁</td></tr></table><br/></div><div class=\"wandb-col\"><h3>Run summary:</h3><br/><table class=\"wandb\"><tr><td>train_acc</td><td>1.0</td></tr><tr><td>train_f1</td><td>1.0</td></tr><tr><td>train_mcc</td><td>1.0</td></tr><tr><td>val_acc</td><td>0.99333</td></tr><tr><td>val_f1</td><td>0.99347</td></tr><tr><td>val_mcc</td><td>0.98669</td></tr></table><br/></div></div>"
      ],
      "text/plain": [
       "<IPython.core.display.HTML object>"
      ]
     },
     "metadata": {},
     "output_type": "display_data"
    },
    {
     "data": {
      "text/html": [
       " View run <strong style=\"color:#cdcd00\">rose-sweep-3</strong> at: <a href='https://wandb.ai/csc240_lztp/hackathon-2024/runs/rrziu5fy' target=\"_blank\">https://wandb.ai/csc240_lztp/hackathon-2024/runs/rrziu5fy</a><br/> View project at: <a href='https://wandb.ai/csc240_lztp/hackathon-2024' target=\"_blank\">https://wandb.ai/csc240_lztp/hackathon-2024</a><br/>Synced 4 W&B file(s), 0 media file(s), 0 artifact file(s) and 0 other file(s)"
      ],
      "text/plain": [
       "<IPython.core.display.HTML object>"
      ]
     },
     "metadata": {},
     "output_type": "display_data"
    },
    {
     "data": {
      "text/html": [
       "Find logs at: <code>./wandb/run-20240816_182850-rrziu5fy/logs</code>"
      ],
      "text/plain": [
       "<IPython.core.display.HTML object>"
      ]
     },
     "metadata": {},
     "output_type": "display_data"
    },
    {
     "data": {
      "text/html": [
       "The new W&B backend becomes opt-out in version 0.18.0; try it out with `wandb.require(\"core\")`! See https://wandb.me/wandb-core for more information."
      ],
      "text/plain": [
       "<IPython.core.display.HTML object>"
      ]
     },
     "metadata": {},
     "output_type": "display_data"
    },
    {
     "name": "stderr",
     "output_type": "stream",
     "text": [
      "\u001b[34m\u001b[1mwandb\u001b[0m: Agent Starting Run: yq025dgn with config:\n",
      "\u001b[34m\u001b[1mwandb\u001b[0m: \tcolsample_bytree: 0.7459326978277444\n",
      "\u001b[34m\u001b[1mwandb\u001b[0m: \tgamma: 4.953478561819055\n",
      "\u001b[34m\u001b[1mwandb\u001b[0m: \tlearning_rate: 0.01\n",
      "\u001b[34m\u001b[1mwandb\u001b[0m: \tmax_depth: 2\n",
      "\u001b[34m\u001b[1mwandb\u001b[0m: \tmin_child_weight: 10\n",
      "\u001b[34m\u001b[1mwandb\u001b[0m: \tn_estimators: 250\n",
      "\u001b[34m\u001b[1mwandb\u001b[0m: \treg_alpha: 129\n",
      "\u001b[34m\u001b[1mwandb\u001b[0m: \treg_lambda: 0.865095263878509\n",
      "\u001b[34m\u001b[1mwandb\u001b[0m: \tsubsample: 0.9809493786426202\n"
     ]
    },
    {
     "data": {
      "text/html": [
       "wandb version 0.17.7 is available!  To upgrade, please run:\n",
       " $ pip install wandb --upgrade"
      ],
      "text/plain": [
       "<IPython.core.display.HTML object>"
      ]
     },
     "metadata": {},
     "output_type": "display_data"
    },
    {
     "data": {
      "text/html": [
       "Tracking run with wandb version 0.17.6"
      ],
      "text/plain": [
       "<IPython.core.display.HTML object>"
      ]
     },
     "metadata": {},
     "output_type": "display_data"
    },
    {
     "data": {
      "text/html": [
       "Run data is saved locally in <code>/home/jovyan/work/src/wandb/run-20240816_182916-yq025dgn</code>"
      ],
      "text/plain": [
       "<IPython.core.display.HTML object>"
      ]
     },
     "metadata": {},
     "output_type": "display_data"
    },
    {
     "data": {
      "text/html": [
       "Syncing run <strong><a href='https://wandb.ai/csc240_lztp/hackathon-2024/runs/yq025dgn' target=\"_blank\">denim-sweep-4</a></strong> to <a href='https://wandb.ai/csc240_lztp/hackathon-2024' target=\"_blank\">Weights & Biases</a> (<a href='https://wandb.me/run' target=\"_blank\">docs</a>)<br/>Sweep page: <a href='https://wandb.ai/csc240_lztp/hackathon-2024/sweeps/622kdym6' target=\"_blank\">https://wandb.ai/csc240_lztp/hackathon-2024/sweeps/622kdym6</a>"
      ],
      "text/plain": [
       "<IPython.core.display.HTML object>"
      ]
     },
     "metadata": {},
     "output_type": "display_data"
    },
    {
     "data": {
      "text/html": [
       " View project at <a href='https://wandb.ai/csc240_lztp/hackathon-2024' target=\"_blank\">https://wandb.ai/csc240_lztp/hackathon-2024</a>"
      ],
      "text/plain": [
       "<IPython.core.display.HTML object>"
      ]
     },
     "metadata": {},
     "output_type": "display_data"
    },
    {
     "data": {
      "text/html": [
       " View sweep at <a href='https://wandb.ai/csc240_lztp/hackathon-2024/sweeps/622kdym6' target=\"_blank\">https://wandb.ai/csc240_lztp/hackathon-2024/sweeps/622kdym6</a>"
      ],
      "text/plain": [
       "<IPython.core.display.HTML object>"
      ]
     },
     "metadata": {},
     "output_type": "display_data"
    },
    {
     "data": {
      "text/html": [
       " View run at <a href='https://wandb.ai/csc240_lztp/hackathon-2024/runs/yq025dgn' target=\"_blank\">https://wandb.ai/csc240_lztp/hackathon-2024/runs/yq025dgn</a>"
      ],
      "text/plain": [
       "<IPython.core.display.HTML object>"
      ]
     },
     "metadata": {},
     "output_type": "display_data"
    },
    {
     "data": {
      "application/vnd.jupyter.widget-view+json": {
       "model_id": "",
       "version_major": 2,
       "version_minor": 0
      },
      "text/plain": [
       "VBox(children=(Label(value='0.006 MB of 0.006 MB uploaded\\r'), FloatProgress(value=1.0, max=1.0)))"
      ]
     },
     "metadata": {},
     "output_type": "display_data"
    },
    {
     "data": {
      "text/html": [
       "<style>\n",
       "    table.wandb td:nth-child(1) { padding: 0 10px; text-align: left ; width: auto;} td:nth-child(2) {text-align: left ; width: 100%}\n",
       "    .wandb-row { display: flex; flex-direction: row; flex-wrap: wrap; justify-content: flex-start; width: 100% }\n",
       "    .wandb-col { display: flex; flex-direction: column; flex-basis: 100%; flex: 1; padding: 10px; }\n",
       "    </style>\n",
       "<div class=\"wandb-row\"><div class=\"wandb-col\"><h3>Run history:</h3><br/><table class=\"wandb\"><tr><td>train_acc</td><td>▁</td></tr><tr><td>train_f1</td><td>▁</td></tr><tr><td>train_mcc</td><td>▁</td></tr><tr><td>val_acc</td><td>▁</td></tr><tr><td>val_f1</td><td>▁</td></tr><tr><td>val_mcc</td><td>▁</td></tr></table><br/></div><div class=\"wandb-col\"><h3>Run summary:</h3><br/><table class=\"wandb\"><tr><td>train_acc</td><td>1.0</td></tr><tr><td>train_f1</td><td>1.0</td></tr><tr><td>train_mcc</td><td>1.0</td></tr><tr><td>val_acc</td><td>0.99333</td></tr><tr><td>val_f1</td><td>0.99347</td></tr><tr><td>val_mcc</td><td>0.98669</td></tr></table><br/></div></div>"
      ],
      "text/plain": [
       "<IPython.core.display.HTML object>"
      ]
     },
     "metadata": {},
     "output_type": "display_data"
    },
    {
     "data": {
      "text/html": [
       " View run <strong style=\"color:#cdcd00\">denim-sweep-4</strong> at: <a href='https://wandb.ai/csc240_lztp/hackathon-2024/runs/yq025dgn' target=\"_blank\">https://wandb.ai/csc240_lztp/hackathon-2024/runs/yq025dgn</a><br/> View project at: <a href='https://wandb.ai/csc240_lztp/hackathon-2024' target=\"_blank\">https://wandb.ai/csc240_lztp/hackathon-2024</a><br/>Synced 4 W&B file(s), 0 media file(s), 0 artifact file(s) and 0 other file(s)"
      ],
      "text/plain": [
       "<IPython.core.display.HTML object>"
      ]
     },
     "metadata": {},
     "output_type": "display_data"
    },
    {
     "data": {
      "text/html": [
       "Find logs at: <code>./wandb/run-20240816_182916-yq025dgn/logs</code>"
      ],
      "text/plain": [
       "<IPython.core.display.HTML object>"
      ]
     },
     "metadata": {},
     "output_type": "display_data"
    },
    {
     "data": {
      "text/html": [
       "The new W&B backend becomes opt-out in version 0.18.0; try it out with `wandb.require(\"core\")`! See https://wandb.me/wandb-core for more information."
      ],
      "text/plain": [
       "<IPython.core.display.HTML object>"
      ]
     },
     "metadata": {},
     "output_type": "display_data"
    },
    {
     "name": "stderr",
     "output_type": "stream",
     "text": [
      "\u001b[34m\u001b[1mwandb\u001b[0m: Sweep Agent: Waiting for job.\n",
      "\u001b[34m\u001b[1mwandb\u001b[0m: Job received.\n",
      "\u001b[34m\u001b[1mwandb\u001b[0m: Agent Starting Run: pqw6aq8k with config:\n",
      "\u001b[34m\u001b[1mwandb\u001b[0m: \tcolsample_bytree: 0.827836042092621\n",
      "\u001b[34m\u001b[1mwandb\u001b[0m: \tgamma: 6.492260876626737\n",
      "\u001b[34m\u001b[1mwandb\u001b[0m: \tlearning_rate: 0.1\n",
      "\u001b[34m\u001b[1mwandb\u001b[0m: \tmax_depth: 10\n",
      "\u001b[34m\u001b[1mwandb\u001b[0m: \tmin_child_weight: 2\n",
      "\u001b[34m\u001b[1mwandb\u001b[0m: \tn_estimators: 50\n",
      "\u001b[34m\u001b[1mwandb\u001b[0m: \treg_alpha: 54\n",
      "\u001b[34m\u001b[1mwandb\u001b[0m: \treg_lambda: 0.18220302236859257\n",
      "\u001b[34m\u001b[1mwandb\u001b[0m: \tsubsample: 0.6740201728908175\n"
     ]
    },
    {
     "data": {
      "text/html": [
       "wandb version 0.17.7 is available!  To upgrade, please run:\n",
       " $ pip install wandb --upgrade"
      ],
      "text/plain": [
       "<IPython.core.display.HTML object>"
      ]
     },
     "metadata": {},
     "output_type": "display_data"
    },
    {
     "data": {
      "text/html": [
       "Tracking run with wandb version 0.17.6"
      ],
      "text/plain": [
       "<IPython.core.display.HTML object>"
      ]
     },
     "metadata": {},
     "output_type": "display_data"
    },
    {
     "data": {
      "text/html": [
       "Run data is saved locally in <code>/home/jovyan/work/src/wandb/run-20240816_182949-pqw6aq8k</code>"
      ],
      "text/plain": [
       "<IPython.core.display.HTML object>"
      ]
     },
     "metadata": {},
     "output_type": "display_data"
    },
    {
     "data": {
      "text/html": [
       "Syncing run <strong><a href='https://wandb.ai/csc240_lztp/hackathon-2024/runs/pqw6aq8k' target=\"_blank\">ancient-sweep-5</a></strong> to <a href='https://wandb.ai/csc240_lztp/hackathon-2024' target=\"_blank\">Weights & Biases</a> (<a href='https://wandb.me/run' target=\"_blank\">docs</a>)<br/>Sweep page: <a href='https://wandb.ai/csc240_lztp/hackathon-2024/sweeps/622kdym6' target=\"_blank\">https://wandb.ai/csc240_lztp/hackathon-2024/sweeps/622kdym6</a>"
      ],
      "text/plain": [
       "<IPython.core.display.HTML object>"
      ]
     },
     "metadata": {},
     "output_type": "display_data"
    },
    {
     "data": {
      "text/html": [
       " View project at <a href='https://wandb.ai/csc240_lztp/hackathon-2024' target=\"_blank\">https://wandb.ai/csc240_lztp/hackathon-2024</a>"
      ],
      "text/plain": [
       "<IPython.core.display.HTML object>"
      ]
     },
     "metadata": {},
     "output_type": "display_data"
    },
    {
     "data": {
      "text/html": [
       " View sweep at <a href='https://wandb.ai/csc240_lztp/hackathon-2024/sweeps/622kdym6' target=\"_blank\">https://wandb.ai/csc240_lztp/hackathon-2024/sweeps/622kdym6</a>"
      ],
      "text/plain": [
       "<IPython.core.display.HTML object>"
      ]
     },
     "metadata": {},
     "output_type": "display_data"
    },
    {
     "data": {
      "text/html": [
       " View run at <a href='https://wandb.ai/csc240_lztp/hackathon-2024/runs/pqw6aq8k' target=\"_blank\">https://wandb.ai/csc240_lztp/hackathon-2024/runs/pqw6aq8k</a>"
      ],
      "text/plain": [
       "<IPython.core.display.HTML object>"
      ]
     },
     "metadata": {},
     "output_type": "display_data"
    },
    {
     "data": {
      "application/vnd.jupyter.widget-view+json": {
       "model_id": "",
       "version_major": 2,
       "version_minor": 0
      },
      "text/plain": [
       "VBox(children=(Label(value='0.006 MB of 0.006 MB uploaded\\r'), FloatProgress(value=1.0, max=1.0)))"
      ]
     },
     "metadata": {},
     "output_type": "display_data"
    },
    {
     "data": {
      "text/html": [
       "<style>\n",
       "    table.wandb td:nth-child(1) { padding: 0 10px; text-align: left ; width: auto;} td:nth-child(2) {text-align: left ; width: 100%}\n",
       "    .wandb-row { display: flex; flex-direction: row; flex-wrap: wrap; justify-content: flex-start; width: 100% }\n",
       "    .wandb-col { display: flex; flex-direction: column; flex-basis: 100%; flex: 1; padding: 10px; }\n",
       "    </style>\n",
       "<div class=\"wandb-row\"><div class=\"wandb-col\"><h3>Run history:</h3><br/><table class=\"wandb\"><tr><td>train_acc</td><td>▁</td></tr><tr><td>train_f1</td><td>▁</td></tr><tr><td>train_mcc</td><td>▁</td></tr><tr><td>val_acc</td><td>▁</td></tr><tr><td>val_f1</td><td>▁</td></tr><tr><td>val_mcc</td><td>▁</td></tr></table><br/></div><div class=\"wandb-col\"><h3>Run summary:</h3><br/><table class=\"wandb\"><tr><td>train_acc</td><td>1.0</td></tr><tr><td>train_f1</td><td>1.0</td></tr><tr><td>train_mcc</td><td>1.0</td></tr><tr><td>val_acc</td><td>0.99333</td></tr><tr><td>val_f1</td><td>0.99347</td></tr><tr><td>val_mcc</td><td>0.98669</td></tr></table><br/></div></div>"
      ],
      "text/plain": [
       "<IPython.core.display.HTML object>"
      ]
     },
     "metadata": {},
     "output_type": "display_data"
    },
    {
     "data": {
      "text/html": [
       " View run <strong style=\"color:#cdcd00\">ancient-sweep-5</strong> at: <a href='https://wandb.ai/csc240_lztp/hackathon-2024/runs/pqw6aq8k' target=\"_blank\">https://wandb.ai/csc240_lztp/hackathon-2024/runs/pqw6aq8k</a><br/> View project at: <a href='https://wandb.ai/csc240_lztp/hackathon-2024' target=\"_blank\">https://wandb.ai/csc240_lztp/hackathon-2024</a><br/>Synced 4 W&B file(s), 0 media file(s), 0 artifact file(s) and 0 other file(s)"
      ],
      "text/plain": [
       "<IPython.core.display.HTML object>"
      ]
     },
     "metadata": {},
     "output_type": "display_data"
    },
    {
     "data": {
      "text/html": [
       "Find logs at: <code>./wandb/run-20240816_182949-pqw6aq8k/logs</code>"
      ],
      "text/plain": [
       "<IPython.core.display.HTML object>"
      ]
     },
     "metadata": {},
     "output_type": "display_data"
    },
    {
     "data": {
      "text/html": [
       "The new W&B backend becomes opt-out in version 0.18.0; try it out with `wandb.require(\"core\")`! See https://wandb.me/wandb-core for more information."
      ],
      "text/plain": [
       "<IPython.core.display.HTML object>"
      ]
     },
     "metadata": {},
     "output_type": "display_data"
    },
    {
     "name": "stderr",
     "output_type": "stream",
     "text": [
      "\u001b[34m\u001b[1mwandb\u001b[0m: Agent Starting Run: xcp96h5r with config:\n",
      "\u001b[34m\u001b[1mwandb\u001b[0m: \tcolsample_bytree: 0.8438790550972926\n",
      "\u001b[34m\u001b[1mwandb\u001b[0m: \tgamma: 6.390745512129087\n",
      "\u001b[34m\u001b[1mwandb\u001b[0m: \tlearning_rate: 0.01\n",
      "\u001b[34m\u001b[1mwandb\u001b[0m: \tmax_depth: 6\n",
      "\u001b[34m\u001b[1mwandb\u001b[0m: \tmin_child_weight: 1\n",
      "\u001b[34m\u001b[1mwandb\u001b[0m: \tn_estimators: 100\n",
      "\u001b[34m\u001b[1mwandb\u001b[0m: \treg_alpha: 159\n",
      "\u001b[34m\u001b[1mwandb\u001b[0m: \treg_lambda: 0.019615789276609785\n",
      "\u001b[34m\u001b[1mwandb\u001b[0m: \tsubsample: 0.8632365114265541\n"
     ]
    },
    {
     "data": {
      "text/html": [
       "wandb version 0.17.7 is available!  To upgrade, please run:\n",
       " $ pip install wandb --upgrade"
      ],
      "text/plain": [
       "<IPython.core.display.HTML object>"
      ]
     },
     "metadata": {},
     "output_type": "display_data"
    },
    {
     "data": {
      "text/html": [
       "Tracking run with wandb version 0.17.6"
      ],
      "text/plain": [
       "<IPython.core.display.HTML object>"
      ]
     },
     "metadata": {},
     "output_type": "display_data"
    },
    {
     "data": {
      "text/html": [
       "Run data is saved locally in <code>/home/jovyan/work/src/wandb/run-20240816_183014-xcp96h5r</code>"
      ],
      "text/plain": [
       "<IPython.core.display.HTML object>"
      ]
     },
     "metadata": {},
     "output_type": "display_data"
    },
    {
     "data": {
      "text/html": [
       "Syncing run <strong><a href='https://wandb.ai/csc240_lztp/hackathon-2024/runs/xcp96h5r' target=\"_blank\">stellar-sweep-6</a></strong> to <a href='https://wandb.ai/csc240_lztp/hackathon-2024' target=\"_blank\">Weights & Biases</a> (<a href='https://wandb.me/run' target=\"_blank\">docs</a>)<br/>Sweep page: <a href='https://wandb.ai/csc240_lztp/hackathon-2024/sweeps/622kdym6' target=\"_blank\">https://wandb.ai/csc240_lztp/hackathon-2024/sweeps/622kdym6</a>"
      ],
      "text/plain": [
       "<IPython.core.display.HTML object>"
      ]
     },
     "metadata": {},
     "output_type": "display_data"
    },
    {
     "data": {
      "text/html": [
       " View project at <a href='https://wandb.ai/csc240_lztp/hackathon-2024' target=\"_blank\">https://wandb.ai/csc240_lztp/hackathon-2024</a>"
      ],
      "text/plain": [
       "<IPython.core.display.HTML object>"
      ]
     },
     "metadata": {},
     "output_type": "display_data"
    },
    {
     "data": {
      "text/html": [
       " View sweep at <a href='https://wandb.ai/csc240_lztp/hackathon-2024/sweeps/622kdym6' target=\"_blank\">https://wandb.ai/csc240_lztp/hackathon-2024/sweeps/622kdym6</a>"
      ],
      "text/plain": [
       "<IPython.core.display.HTML object>"
      ]
     },
     "metadata": {},
     "output_type": "display_data"
    },
    {
     "data": {
      "text/html": [
       " View run at <a href='https://wandb.ai/csc240_lztp/hackathon-2024/runs/xcp96h5r' target=\"_blank\">https://wandb.ai/csc240_lztp/hackathon-2024/runs/xcp96h5r</a>"
      ],
      "text/plain": [
       "<IPython.core.display.HTML object>"
      ]
     },
     "metadata": {},
     "output_type": "display_data"
    },
    {
     "data": {
      "application/vnd.jupyter.widget-view+json": {
       "model_id": "8c47b9059ec04a2184e2e69ad9ff3518",
       "version_major": 2,
       "version_minor": 0
      },
      "text/plain": [
       "VBox(children=(Label(value='0.001 MB of 0.006 MB uploaded\\r'), FloatProgress(value=0.176189765776518, max=1.0)…"
      ]
     },
     "metadata": {},
     "output_type": "display_data"
    },
    {
     "data": {
      "text/html": [
       "<style>\n",
       "    table.wandb td:nth-child(1) { padding: 0 10px; text-align: left ; width: auto;} td:nth-child(2) {text-align: left ; width: 100%}\n",
       "    .wandb-row { display: flex; flex-direction: row; flex-wrap: wrap; justify-content: flex-start; width: 100% }\n",
       "    .wandb-col { display: flex; flex-direction: column; flex-basis: 100%; flex: 1; padding: 10px; }\n",
       "    </style>\n",
       "<div class=\"wandb-row\"><div class=\"wandb-col\"><h3>Run history:</h3><br/><table class=\"wandb\"><tr><td>train_acc</td><td>▁</td></tr><tr><td>train_f1</td><td>▁</td></tr><tr><td>train_mcc</td><td>▁</td></tr><tr><td>val_acc</td><td>▁</td></tr><tr><td>val_f1</td><td>▁</td></tr><tr><td>val_mcc</td><td>▁</td></tr></table><br/></div><div class=\"wandb-col\"><h3>Run summary:</h3><br/><table class=\"wandb\"><tr><td>train_acc</td><td>1.0</td></tr><tr><td>train_f1</td><td>1.0</td></tr><tr><td>train_mcc</td><td>1.0</td></tr><tr><td>val_acc</td><td>0.99333</td></tr><tr><td>val_f1</td><td>0.99347</td></tr><tr><td>val_mcc</td><td>0.98669</td></tr></table><br/></div></div>"
      ],
      "text/plain": [
       "<IPython.core.display.HTML object>"
      ]
     },
     "metadata": {},
     "output_type": "display_data"
    },
    {
     "data": {
      "text/html": [
       " View run <strong style=\"color:#cdcd00\">stellar-sweep-6</strong> at: <a href='https://wandb.ai/csc240_lztp/hackathon-2024/runs/xcp96h5r' target=\"_blank\">https://wandb.ai/csc240_lztp/hackathon-2024/runs/xcp96h5r</a><br/> View project at: <a href='https://wandb.ai/csc240_lztp/hackathon-2024' target=\"_blank\">https://wandb.ai/csc240_lztp/hackathon-2024</a><br/>Synced 4 W&B file(s), 0 media file(s), 0 artifact file(s) and 0 other file(s)"
      ],
      "text/plain": [
       "<IPython.core.display.HTML object>"
      ]
     },
     "metadata": {},
     "output_type": "display_data"
    },
    {
     "data": {
      "text/html": [
       "Find logs at: <code>./wandb/run-20240816_183014-xcp96h5r/logs</code>"
      ],
      "text/plain": [
       "<IPython.core.display.HTML object>"
      ]
     },
     "metadata": {},
     "output_type": "display_data"
    },
    {
     "data": {
      "text/html": [
       "The new W&B backend becomes opt-out in version 0.18.0; try it out with `wandb.require(\"core\")`! See https://wandb.me/wandb-core for more information."
      ],
      "text/plain": [
       "<IPython.core.display.HTML object>"
      ]
     },
     "metadata": {},
     "output_type": "display_data"
    },
    {
     "name": "stderr",
     "output_type": "stream",
     "text": [
      "\u001b[34m\u001b[1mwandb\u001b[0m: Agent Starting Run: lduygyoo with config:\n",
      "\u001b[34m\u001b[1mwandb\u001b[0m: \tcolsample_bytree: 0.960099204042372\n",
      "\u001b[34m\u001b[1mwandb\u001b[0m: \tgamma: 4.3473712583884065\n",
      "\u001b[34m\u001b[1mwandb\u001b[0m: \tlearning_rate: 0.001\n",
      "\u001b[34m\u001b[1mwandb\u001b[0m: \tmax_depth: 2\n",
      "\u001b[34m\u001b[1mwandb\u001b[0m: \tmin_child_weight: 2\n",
      "\u001b[34m\u001b[1mwandb\u001b[0m: \tn_estimators: 10\n",
      "\u001b[34m\u001b[1mwandb\u001b[0m: \treg_alpha: 114\n",
      "\u001b[34m\u001b[1mwandb\u001b[0m: \treg_lambda: 0.7319253557355424\n",
      "\u001b[34m\u001b[1mwandb\u001b[0m: \tsubsample: 0.8194421650282162\n"
     ]
    },
    {
     "data": {
      "text/html": [
       "wandb version 0.17.7 is available!  To upgrade, please run:\n",
       " $ pip install wandb --upgrade"
      ],
      "text/plain": [
       "<IPython.core.display.HTML object>"
      ]
     },
     "metadata": {},
     "output_type": "display_data"
    },
    {
     "data": {
      "text/html": [
       "Tracking run with wandb version 0.17.6"
      ],
      "text/plain": [
       "<IPython.core.display.HTML object>"
      ]
     },
     "metadata": {},
     "output_type": "display_data"
    },
    {
     "data": {
      "text/html": [
       "Run data is saved locally in <code>/home/jovyan/work/src/wandb/run-20240816_183040-lduygyoo</code>"
      ],
      "text/plain": [
       "<IPython.core.display.HTML object>"
      ]
     },
     "metadata": {},
     "output_type": "display_data"
    },
    {
     "data": {
      "text/html": [
       "Syncing run <strong><a href='https://wandb.ai/csc240_lztp/hackathon-2024/runs/lduygyoo' target=\"_blank\">robust-sweep-7</a></strong> to <a href='https://wandb.ai/csc240_lztp/hackathon-2024' target=\"_blank\">Weights & Biases</a> (<a href='https://wandb.me/run' target=\"_blank\">docs</a>)<br/>Sweep page: <a href='https://wandb.ai/csc240_lztp/hackathon-2024/sweeps/622kdym6' target=\"_blank\">https://wandb.ai/csc240_lztp/hackathon-2024/sweeps/622kdym6</a>"
      ],
      "text/plain": [
       "<IPython.core.display.HTML object>"
      ]
     },
     "metadata": {},
     "output_type": "display_data"
    },
    {
     "data": {
      "text/html": [
       " View project at <a href='https://wandb.ai/csc240_lztp/hackathon-2024' target=\"_blank\">https://wandb.ai/csc240_lztp/hackathon-2024</a>"
      ],
      "text/plain": [
       "<IPython.core.display.HTML object>"
      ]
     },
     "metadata": {},
     "output_type": "display_data"
    },
    {
     "data": {
      "text/html": [
       " View sweep at <a href='https://wandb.ai/csc240_lztp/hackathon-2024/sweeps/622kdym6' target=\"_blank\">https://wandb.ai/csc240_lztp/hackathon-2024/sweeps/622kdym6</a>"
      ],
      "text/plain": [
       "<IPython.core.display.HTML object>"
      ]
     },
     "metadata": {},
     "output_type": "display_data"
    },
    {
     "data": {
      "text/html": [
       " View run at <a href='https://wandb.ai/csc240_lztp/hackathon-2024/runs/lduygyoo' target=\"_blank\">https://wandb.ai/csc240_lztp/hackathon-2024/runs/lduygyoo</a>"
      ],
      "text/plain": [
       "<IPython.core.display.HTML object>"
      ]
     },
     "metadata": {},
     "output_type": "display_data"
    },
    {
     "data": {
      "application/vnd.jupyter.widget-view+json": {
       "model_id": "7d16b3896cb24f2d98f7a15989c9c52c",
       "version_major": 2,
       "version_minor": 0
      },
      "text/plain": [
       "VBox(children=(Label(value='0.006 MB of 0.006 MB uploaded\\r'), FloatProgress(value=1.0, max=1.0)))"
      ]
     },
     "metadata": {},
     "output_type": "display_data"
    },
    {
     "data": {
      "text/html": [
       "<style>\n",
       "    table.wandb td:nth-child(1) { padding: 0 10px; text-align: left ; width: auto;} td:nth-child(2) {text-align: left ; width: 100%}\n",
       "    .wandb-row { display: flex; flex-direction: row; flex-wrap: wrap; justify-content: flex-start; width: 100% }\n",
       "    .wandb-col { display: flex; flex-direction: column; flex-basis: 100%; flex: 1; padding: 10px; }\n",
       "    </style>\n",
       "<div class=\"wandb-row\"><div class=\"wandb-col\"><h3>Run history:</h3><br/><table class=\"wandb\"><tr><td>train_acc</td><td>▁</td></tr><tr><td>train_f1</td><td>▁</td></tr><tr><td>train_mcc</td><td>▁</td></tr><tr><td>val_acc</td><td>▁</td></tr><tr><td>val_f1</td><td>▁</td></tr><tr><td>val_mcc</td><td>▁</td></tr></table><br/></div><div class=\"wandb-col\"><h3>Run summary:</h3><br/><table class=\"wandb\"><tr><td>train_acc</td><td>1.0</td></tr><tr><td>train_f1</td><td>1.0</td></tr><tr><td>train_mcc</td><td>1.0</td></tr><tr><td>val_acc</td><td>0.99333</td></tr><tr><td>val_f1</td><td>0.99347</td></tr><tr><td>val_mcc</td><td>0.98669</td></tr></table><br/></div></div>"
      ],
      "text/plain": [
       "<IPython.core.display.HTML object>"
      ]
     },
     "metadata": {},
     "output_type": "display_data"
    },
    {
     "data": {
      "text/html": [
       " View run <strong style=\"color:#cdcd00\">robust-sweep-7</strong> at: <a href='https://wandb.ai/csc240_lztp/hackathon-2024/runs/lduygyoo' target=\"_blank\">https://wandb.ai/csc240_lztp/hackathon-2024/runs/lduygyoo</a><br/> View project at: <a href='https://wandb.ai/csc240_lztp/hackathon-2024' target=\"_blank\">https://wandb.ai/csc240_lztp/hackathon-2024</a><br/>Synced 4 W&B file(s), 0 media file(s), 0 artifact file(s) and 0 other file(s)"
      ],
      "text/plain": [
       "<IPython.core.display.HTML object>"
      ]
     },
     "metadata": {},
     "output_type": "display_data"
    },
    {
     "data": {
      "text/html": [
       "Find logs at: <code>./wandb/run-20240816_183040-lduygyoo/logs</code>"
      ],
      "text/plain": [
       "<IPython.core.display.HTML object>"
      ]
     },
     "metadata": {},
     "output_type": "display_data"
    },
    {
     "data": {
      "text/html": [
       "The new W&B backend becomes opt-out in version 0.18.0; try it out with `wandb.require(\"core\")`! See https://wandb.me/wandb-core for more information."
      ],
      "text/plain": [
       "<IPython.core.display.HTML object>"
      ]
     },
     "metadata": {},
     "output_type": "display_data"
    },
    {
     "name": "stderr",
     "output_type": "stream",
     "text": [
      "\u001b[34m\u001b[1mwandb\u001b[0m: Sweep Agent: Waiting for job.\n",
      "\u001b[34m\u001b[1mwandb\u001b[0m: Job received.\n",
      "\u001b[34m\u001b[1mwandb\u001b[0m: Agent Starting Run: xn905yju with config:\n",
      "\u001b[34m\u001b[1mwandb\u001b[0m: \tcolsample_bytree: 0.5736568365700225\n",
      "\u001b[34m\u001b[1mwandb\u001b[0m: \tgamma: 6.115210720634398\n",
      "\u001b[34m\u001b[1mwandb\u001b[0m: \tlearning_rate: 0.001\n",
      "\u001b[34m\u001b[1mwandb\u001b[0m: \tmax_depth: 10\n",
      "\u001b[34m\u001b[1mwandb\u001b[0m: \tmin_child_weight: 9\n",
      "\u001b[34m\u001b[1mwandb\u001b[0m: \tn_estimators: 100\n",
      "\u001b[34m\u001b[1mwandb\u001b[0m: \treg_alpha: 57\n",
      "\u001b[34m\u001b[1mwandb\u001b[0m: \treg_lambda: 0.9387593690044832\n",
      "\u001b[34m\u001b[1mwandb\u001b[0m: \tsubsample: 0.5226015564742974\n"
     ]
    },
    {
     "data": {
      "text/html": [
       "wandb version 0.17.7 is available!  To upgrade, please run:\n",
       " $ pip install wandb --upgrade"
      ],
      "text/plain": [
       "<IPython.core.display.HTML object>"
      ]
     },
     "metadata": {},
     "output_type": "display_data"
    },
    {
     "data": {
      "text/html": [
       "Tracking run with wandb version 0.17.6"
      ],
      "text/plain": [
       "<IPython.core.display.HTML object>"
      ]
     },
     "metadata": {},
     "output_type": "display_data"
    },
    {
     "data": {
      "text/html": [
       "Run data is saved locally in <code>/home/jovyan/work/src/wandb/run-20240816_183112-xn905yju</code>"
      ],
      "text/plain": [
       "<IPython.core.display.HTML object>"
      ]
     },
     "metadata": {},
     "output_type": "display_data"
    },
    {
     "data": {
      "text/html": [
       "Syncing run <strong><a href='https://wandb.ai/csc240_lztp/hackathon-2024/runs/xn905yju' target=\"_blank\">exalted-sweep-8</a></strong> to <a href='https://wandb.ai/csc240_lztp/hackathon-2024' target=\"_blank\">Weights & Biases</a> (<a href='https://wandb.me/run' target=\"_blank\">docs</a>)<br/>Sweep page: <a href='https://wandb.ai/csc240_lztp/hackathon-2024/sweeps/622kdym6' target=\"_blank\">https://wandb.ai/csc240_lztp/hackathon-2024/sweeps/622kdym6</a>"
      ],
      "text/plain": [
       "<IPython.core.display.HTML object>"
      ]
     },
     "metadata": {},
     "output_type": "display_data"
    },
    {
     "data": {
      "text/html": [
       " View project at <a href='https://wandb.ai/csc240_lztp/hackathon-2024' target=\"_blank\">https://wandb.ai/csc240_lztp/hackathon-2024</a>"
      ],
      "text/plain": [
       "<IPython.core.display.HTML object>"
      ]
     },
     "metadata": {},
     "output_type": "display_data"
    },
    {
     "data": {
      "text/html": [
       " View sweep at <a href='https://wandb.ai/csc240_lztp/hackathon-2024/sweeps/622kdym6' target=\"_blank\">https://wandb.ai/csc240_lztp/hackathon-2024/sweeps/622kdym6</a>"
      ],
      "text/plain": [
       "<IPython.core.display.HTML object>"
      ]
     },
     "metadata": {},
     "output_type": "display_data"
    },
    {
     "data": {
      "text/html": [
       " View run at <a href='https://wandb.ai/csc240_lztp/hackathon-2024/runs/xn905yju' target=\"_blank\">https://wandb.ai/csc240_lztp/hackathon-2024/runs/xn905yju</a>"
      ],
      "text/plain": [
       "<IPython.core.display.HTML object>"
      ]
     },
     "metadata": {},
     "output_type": "display_data"
    },
    {
     "data": {
      "application/vnd.jupyter.widget-view+json": {
       "model_id": "cd192da0d8354309983aa059e54bbf39",
       "version_major": 2,
       "version_minor": 0
      },
      "text/plain": [
       "VBox(children=(Label(value='0.001 MB of 0.006 MB uploaded\\r'), FloatProgress(value=0.1762160549089824, max=1.0…"
      ]
     },
     "metadata": {},
     "output_type": "display_data"
    },
    {
     "data": {
      "text/html": [
       "<style>\n",
       "    table.wandb td:nth-child(1) { padding: 0 10px; text-align: left ; width: auto;} td:nth-child(2) {text-align: left ; width: 100%}\n",
       "    .wandb-row { display: flex; flex-direction: row; flex-wrap: wrap; justify-content: flex-start; width: 100% }\n",
       "    .wandb-col { display: flex; flex-direction: column; flex-basis: 100%; flex: 1; padding: 10px; }\n",
       "    </style>\n",
       "<div class=\"wandb-row\"><div class=\"wandb-col\"><h3>Run history:</h3><br/><table class=\"wandb\"><tr><td>train_acc</td><td>▁</td></tr><tr><td>train_f1</td><td>▁</td></tr><tr><td>train_mcc</td><td>▁</td></tr><tr><td>val_acc</td><td>▁</td></tr><tr><td>val_f1</td><td>▁</td></tr><tr><td>val_mcc</td><td>▁</td></tr></table><br/></div><div class=\"wandb-col\"><h3>Run summary:</h3><br/><table class=\"wandb\"><tr><td>train_acc</td><td>1.0</td></tr><tr><td>train_f1</td><td>1.0</td></tr><tr><td>train_mcc</td><td>1.0</td></tr><tr><td>val_acc</td><td>0.99333</td></tr><tr><td>val_f1</td><td>0.99347</td></tr><tr><td>val_mcc</td><td>0.98669</td></tr></table><br/></div></div>"
      ],
      "text/plain": [
       "<IPython.core.display.HTML object>"
      ]
     },
     "metadata": {},
     "output_type": "display_data"
    },
    {
     "data": {
      "text/html": [
       " View run <strong style=\"color:#cdcd00\">exalted-sweep-8</strong> at: <a href='https://wandb.ai/csc240_lztp/hackathon-2024/runs/xn905yju' target=\"_blank\">https://wandb.ai/csc240_lztp/hackathon-2024/runs/xn905yju</a><br/> View project at: <a href='https://wandb.ai/csc240_lztp/hackathon-2024' target=\"_blank\">https://wandb.ai/csc240_lztp/hackathon-2024</a><br/>Synced 4 W&B file(s), 0 media file(s), 0 artifact file(s) and 0 other file(s)"
      ],
      "text/plain": [
       "<IPython.core.display.HTML object>"
      ]
     },
     "metadata": {},
     "output_type": "display_data"
    },
    {
     "data": {
      "text/html": [
       "Find logs at: <code>./wandb/run-20240816_183112-xn905yju/logs</code>"
      ],
      "text/plain": [
       "<IPython.core.display.HTML object>"
      ]
     },
     "metadata": {},
     "output_type": "display_data"
    },
    {
     "data": {
      "text/html": [
       "The new W&B backend becomes opt-out in version 0.18.0; try it out with `wandb.require(\"core\")`! See https://wandb.me/wandb-core for more information."
      ],
      "text/plain": [
       "<IPython.core.display.HTML object>"
      ]
     },
     "metadata": {},
     "output_type": "display_data"
    },
    {
     "name": "stderr",
     "output_type": "stream",
     "text": [
      "\u001b[34m\u001b[1mwandb\u001b[0m: Agent Starting Run: ihj89iz7 with config:\n",
      "\u001b[34m\u001b[1mwandb\u001b[0m: \tcolsample_bytree: 0.6213121238461423\n",
      "\u001b[34m\u001b[1mwandb\u001b[0m: \tgamma: 8.612715100467309\n",
      "\u001b[34m\u001b[1mwandb\u001b[0m: \tlearning_rate: 0.1\n",
      "\u001b[34m\u001b[1mwandb\u001b[0m: \tmax_depth: 6\n",
      "\u001b[34m\u001b[1mwandb\u001b[0m: \tmin_child_weight: 9\n",
      "\u001b[34m\u001b[1mwandb\u001b[0m: \tn_estimators: 100\n",
      "\u001b[34m\u001b[1mwandb\u001b[0m: \treg_alpha: 152\n",
      "\u001b[34m\u001b[1mwandb\u001b[0m: \treg_lambda: 0.42865855473104153\n",
      "\u001b[34m\u001b[1mwandb\u001b[0m: \tsubsample: 0.762447479958198\n"
     ]
    },
    {
     "data": {
      "text/html": [
       "wandb version 0.17.7 is available!  To upgrade, please run:\n",
       " $ pip install wandb --upgrade"
      ],
      "text/plain": [
       "<IPython.core.display.HTML object>"
      ]
     },
     "metadata": {},
     "output_type": "display_data"
    },
    {
     "data": {
      "text/html": [
       "Tracking run with wandb version 0.17.6"
      ],
      "text/plain": [
       "<IPython.core.display.HTML object>"
      ]
     },
     "metadata": {},
     "output_type": "display_data"
    },
    {
     "data": {
      "text/html": [
       "Run data is saved locally in <code>/home/jovyan/work/src/wandb/run-20240816_183138-ihj89iz7</code>"
      ],
      "text/plain": [
       "<IPython.core.display.HTML object>"
      ]
     },
     "metadata": {},
     "output_type": "display_data"
    },
    {
     "data": {
      "text/html": [
       "Syncing run <strong><a href='https://wandb.ai/csc240_lztp/hackathon-2024/runs/ihj89iz7' target=\"_blank\">bright-sweep-9</a></strong> to <a href='https://wandb.ai/csc240_lztp/hackathon-2024' target=\"_blank\">Weights & Biases</a> (<a href='https://wandb.me/run' target=\"_blank\">docs</a>)<br/>Sweep page: <a href='https://wandb.ai/csc240_lztp/hackathon-2024/sweeps/622kdym6' target=\"_blank\">https://wandb.ai/csc240_lztp/hackathon-2024/sweeps/622kdym6</a>"
      ],
      "text/plain": [
       "<IPython.core.display.HTML object>"
      ]
     },
     "metadata": {},
     "output_type": "display_data"
    },
    {
     "data": {
      "text/html": [
       " View project at <a href='https://wandb.ai/csc240_lztp/hackathon-2024' target=\"_blank\">https://wandb.ai/csc240_lztp/hackathon-2024</a>"
      ],
      "text/plain": [
       "<IPython.core.display.HTML object>"
      ]
     },
     "metadata": {},
     "output_type": "display_data"
    },
    {
     "data": {
      "text/html": [
       " View sweep at <a href='https://wandb.ai/csc240_lztp/hackathon-2024/sweeps/622kdym6' target=\"_blank\">https://wandb.ai/csc240_lztp/hackathon-2024/sweeps/622kdym6</a>"
      ],
      "text/plain": [
       "<IPython.core.display.HTML object>"
      ]
     },
     "metadata": {},
     "output_type": "display_data"
    },
    {
     "data": {
      "text/html": [
       " View run at <a href='https://wandb.ai/csc240_lztp/hackathon-2024/runs/ihj89iz7' target=\"_blank\">https://wandb.ai/csc240_lztp/hackathon-2024/runs/ihj89iz7</a>"
      ],
      "text/plain": [
       "<IPython.core.display.HTML object>"
      ]
     },
     "metadata": {},
     "output_type": "display_data"
    },
    {
     "data": {
      "application/vnd.jupyter.widget-view+json": {
       "model_id": "ce738e51a1f7482c88bee1e345d1077c",
       "version_major": 2,
       "version_minor": 0
      },
      "text/plain": [
       "VBox(children=(Label(value='0.006 MB of 0.006 MB uploaded\\r'), FloatProgress(value=1.0, max=1.0)))"
      ]
     },
     "metadata": {},
     "output_type": "display_data"
    },
    {
     "data": {
      "text/html": [
       "<style>\n",
       "    table.wandb td:nth-child(1) { padding: 0 10px; text-align: left ; width: auto;} td:nth-child(2) {text-align: left ; width: 100%}\n",
       "    .wandb-row { display: flex; flex-direction: row; flex-wrap: wrap; justify-content: flex-start; width: 100% }\n",
       "    .wandb-col { display: flex; flex-direction: column; flex-basis: 100%; flex: 1; padding: 10px; }\n",
       "    </style>\n",
       "<div class=\"wandb-row\"><div class=\"wandb-col\"><h3>Run history:</h3><br/><table class=\"wandb\"><tr><td>train_acc</td><td>▁</td></tr><tr><td>train_f1</td><td>▁</td></tr><tr><td>train_mcc</td><td>▁</td></tr><tr><td>val_acc</td><td>▁</td></tr><tr><td>val_f1</td><td>▁</td></tr><tr><td>val_mcc</td><td>▁</td></tr></table><br/></div><div class=\"wandb-col\"><h3>Run summary:</h3><br/><table class=\"wandb\"><tr><td>train_acc</td><td>1.0</td></tr><tr><td>train_f1</td><td>1.0</td></tr><tr><td>train_mcc</td><td>1.0</td></tr><tr><td>val_acc</td><td>0.99333</td></tr><tr><td>val_f1</td><td>0.99347</td></tr><tr><td>val_mcc</td><td>0.98669</td></tr></table><br/></div></div>"
      ],
      "text/plain": [
       "<IPython.core.display.HTML object>"
      ]
     },
     "metadata": {},
     "output_type": "display_data"
    },
    {
     "data": {
      "text/html": [
       " View run <strong style=\"color:#cdcd00\">bright-sweep-9</strong> at: <a href='https://wandb.ai/csc240_lztp/hackathon-2024/runs/ihj89iz7' target=\"_blank\">https://wandb.ai/csc240_lztp/hackathon-2024/runs/ihj89iz7</a><br/> View project at: <a href='https://wandb.ai/csc240_lztp/hackathon-2024' target=\"_blank\">https://wandb.ai/csc240_lztp/hackathon-2024</a><br/>Synced 4 W&B file(s), 0 media file(s), 0 artifact file(s) and 0 other file(s)"
      ],
      "text/plain": [
       "<IPython.core.display.HTML object>"
      ]
     },
     "metadata": {},
     "output_type": "display_data"
    },
    {
     "data": {
      "text/html": [
       "Find logs at: <code>./wandb/run-20240816_183138-ihj89iz7/logs</code>"
      ],
      "text/plain": [
       "<IPython.core.display.HTML object>"
      ]
     },
     "metadata": {},
     "output_type": "display_data"
    },
    {
     "data": {
      "text/html": [
       "The new W&B backend becomes opt-out in version 0.18.0; try it out with `wandb.require(\"core\")`! See https://wandb.me/wandb-core for more information."
      ],
      "text/plain": [
       "<IPython.core.display.HTML object>"
      ]
     },
     "metadata": {},
     "output_type": "display_data"
    },
    {
     "name": "stderr",
     "output_type": "stream",
     "text": [
      "\u001b[34m\u001b[1mwandb\u001b[0m: Sweep Agent: Waiting for job.\n",
      "\u001b[34m\u001b[1mwandb\u001b[0m: Ctrl + C detected. Stopping sweep.\n"
     ]
    }
   ],
   "source": [
    "wandb.agent(sweep_id, function=train, count=30)"
   ]
  },
  {
   "cell_type": "markdown",
   "id": "5ac734ff-0a53-421c-9a6c-aa4521bc4c17",
   "metadata": {},
   "source": [
    "# Evaluate Best Model"
   ]
  },
  {
   "cell_type": "code",
   "execution_count": 21,
   "id": "4fb325f5-b1bc-47db-b44b-5a51870a289a",
   "metadata": {},
   "outputs": [],
   "source": [
    "# parameters\n",
    "params = {\n",
    "    \"n_estimators\": 5,\n",
    "    \"gamma\": 5.681,\n",
    "    \"max_depth\": 12,\n",
    "    \"learning_rate\": 1,\n",
    "    \"subsample\": 0.883,\n",
    "    \"colsample_bytree\": 0.795,\n",
    "    \"objective\": \"binary:logistic\",\n",
    "    \"seed\": 0\n",
    "}"
   ]
  },
  {
   "cell_type": "code",
   "execution_count": 33,
   "id": "009119a6-1823-409d-9a6b-b4b18a86d8bd",
   "metadata": {},
   "outputs": [
    {
     "name": "stdout",
     "output_type": "stream",
     "text": [
      "{'val_f1': 0.736842105263158, 'val_acc': 0.75, 'val_mcc': 0.4991650425568579}\n",
      "{'train_f1': 0.943089430894309, 'train_acc': 0.9416666666666667, 'train_mcc': 0.8837842790654808}\n"
     ]
    }
   ],
   "source": [
    "model = train(use_wandb=False, params=params)"
   ]
  },
  {
   "cell_type": "code",
   "execution_count": 37,
   "id": "ee447e93-8a18-400f-a180-2edf98254a3d",
   "metadata": {},
   "outputs": [],
   "source": [
    "# make predictions on test set\n",
    "y_pred = model.predict(X_test)"
   ]
  },
  {
   "cell_type": "code",
   "execution_count": 60,
   "id": "90031ade-3ea2-4626-881d-3c388a8a481d",
   "metadata": {},
   "outputs": [],
   "source": [
    "# generate merge\n",
    "merge_df = test_df[[\"Pair\"]].copy(deep=True)\n",
    "merge_df[\"pred\"] = pd.Series(y_pred)\n",
    "\n",
    "# update predictions\n",
    "pred_df = pd.read_csv(\"../prediction/prediction_templ.csv\")\n",
    "merged_df = pred_df.merge(merge_df, on=\"Pair\")[[\"peak\", \"gene\", \"Pair\", \"pred\"]].rename(columns={\"pred\": \"Peak2Gene\"})\n",
    "merged_df[\"Peak2Gene\"] = merged_df[\"Peak2Gene\"].apply(lambda x: \"TRUE\" if x else \"FALSE\")"
   ]
  },
  {
   "cell_type": "code",
   "execution_count": 62,
   "id": "0942444f-8a20-46fb-8bdb-6e5aada02af6",
   "metadata": {},
   "outputs": [
    {
     "data": {
      "text/html": [
       "<div>\n",
       "<style scoped>\n",
       "    .dataframe tbody tr th:only-of-type {\n",
       "        vertical-align: middle;\n",
       "    }\n",
       "\n",
       "    .dataframe tbody tr th {\n",
       "        vertical-align: top;\n",
       "    }\n",
       "\n",
       "    .dataframe thead th {\n",
       "        text-align: right;\n",
       "    }\n",
       "</style>\n",
       "<table border=\"1\" class=\"dataframe\">\n",
       "  <thead>\n",
       "    <tr style=\"text-align: right;\">\n",
       "      <th></th>\n",
       "      <th>peak</th>\n",
       "      <th>gene</th>\n",
       "      <th>Pair</th>\n",
       "      <th>Peak2Gene</th>\n",
       "    </tr>\n",
       "  </thead>\n",
       "  <tbody>\n",
       "    <tr>\n",
       "      <th>0</th>\n",
       "      <td>chr1-109466154-109467690</td>\n",
       "      <td>SORT1</td>\n",
       "      <td>chr1-109466154-109467690_SORT1</td>\n",
       "      <td>FALSE</td>\n",
       "    </tr>\n",
       "    <tr>\n",
       "      <th>1</th>\n",
       "      <td>chr1-116762742-116771198</td>\n",
       "      <td>CD2</td>\n",
       "      <td>chr1-116762742-116771198_CD2</td>\n",
       "      <td>TRUE</td>\n",
       "    </tr>\n",
       "    <tr>\n",
       "      <th>2</th>\n",
       "      <td>chr1-1245493-1248050</td>\n",
       "      <td>SDF4</td>\n",
       "      <td>chr1-1245493-1248050_SDF4</td>\n",
       "      <td>FALSE</td>\n",
       "    </tr>\n",
       "    <tr>\n",
       "      <th>3</th>\n",
       "      <td>chr1-1330394-1334148</td>\n",
       "      <td>MRPL20</td>\n",
       "      <td>chr1-1330394-1334148_MRPL20</td>\n",
       "      <td>FALSE</td>\n",
       "    </tr>\n",
       "    <tr>\n",
       "      <th>4</th>\n",
       "      <td>chr1-151939435-151947234</td>\n",
       "      <td>S100A10</td>\n",
       "      <td>chr1-151939435-151947234_S100A10</td>\n",
       "      <td>TRUE</td>\n",
       "    </tr>\n",
       "  </tbody>\n",
       "</table>\n",
       "</div>"
      ],
      "text/plain": [
       "                       peak     gene                              Pair  \\\n",
       "0  chr1-109466154-109467690    SORT1    chr1-109466154-109467690_SORT1   \n",
       "1  chr1-116762742-116771198      CD2      chr1-116762742-116771198_CD2   \n",
       "2      chr1-1245493-1248050     SDF4         chr1-1245493-1248050_SDF4   \n",
       "3      chr1-1330394-1334148   MRPL20       chr1-1330394-1334148_MRPL20   \n",
       "4  chr1-151939435-151947234  S100A10  chr1-151939435-151947234_S100A10   \n",
       "\n",
       "  Peak2Gene  \n",
       "0     FALSE  \n",
       "1      TRUE  \n",
       "2     FALSE  \n",
       "3     FALSE  \n",
       "4      TRUE  "
      ]
     },
     "execution_count": 62,
     "metadata": {},
     "output_type": "execute_result"
    }
   ],
   "source": [
    "merged_df.head()"
   ]
  },
  {
   "cell_type": "code",
   "execution_count": 64,
   "id": "c6b6e453-72cf-41f1-a2ff-ce694e353399",
   "metadata": {},
   "outputs": [],
   "source": [
    "merged_df.to_csv(\"../prediction/prediction.csv\", index=False)"
   ]
  },
  {
   "cell_type": "markdown",
   "id": "cdc65213-90d5-4d44-8c60-7dd665383753",
   "metadata": {},
   "source": [
    "# with features only"
   ]
  },
  {
   "cell_type": "markdown",
   "id": "6229417b-d3a9-4ce0-a2ea-e05394c6b246",
   "metadata": {},
   "source": [
    "## bagged model"
   ]
  },
  {
   "cell_type": "code",
   "execution_count": 110,
   "id": "ecee28ce-9596-4d3a-a44e-793eb7563781",
   "metadata": {},
   "outputs": [],
   "source": [
    "def train_bagged_xgboost(X_train, y_train, num_models=5, subsample_size=0.8):\n",
    "    models = []\n",
    "    X_train = X_train.to_numpy()\n",
    "    y_train = y_train.to_numpy()\n",
    "    for _ in range(num_models):\n",
    "        # Bootstrap sampling\n",
    "        indices = np.random.choice(range(X_train.shape[0]), size=int(subsample_size * X_train.shape[0]), replace=True)\n",
    "        X_subset, y_subset = X_train[indices], y_train[indices]\n",
    "        \n",
    "        # Train model\n",
    "        model = XGBClassifier(n_estimators=10,\n",
    "                                  gamma=1,\n",
    "                                  max_depth=3,\n",
    "                                  learning_rate=1,\n",
    "                                  subsample=None,\n",
    "                                  colsample_bytree=None,\n",
    "                                  seed=0,\n",
    "                                  objective=\"binary:logistic\")\n",
    "        model.fit(X_subset, y_subset)\n",
    "        models.append(model)\n",
    "    return models\n",
    "\n",
    "def bagged_predict(models, X_test):\n",
    "    preds = np.column_stack([model.predict(X_test) for model in models])\n",
    "    return mode(preds, axis=1).mode"
   ]
  },
  {
   "cell_type": "code",
   "execution_count": 114,
   "id": "3f0fe71d-fd1f-4438-99a2-92e6ca095194",
   "metadata": {},
   "outputs": [
    {
     "name": "stdout",
     "output_type": "stream",
     "text": [
      "{'val_f1': 0.9824561403508771, 'val_acc': 0.9833333333333333, 'val_mcc': 0.9671322699539122}\n",
      "{'train_f1': 0.995850622406639, 'train_acc': 0.9958333333333333, 'train_mcc': 0.9917011013305196}\n"
     ]
    }
   ],
   "source": [
    "models = train_bagged_xgboost(X_train, y_train, num_models=31, subsample_size=0.6)\n",
    "y_pred_val = bagged_predict(models, X_val)\n",
    "y_pred_train = bagged_predict(models, X_train)\n",
    "\n",
    "print({\"val_\" + metricname: metric(y_val, y_pred_val) for metricname, metric in metrics})\n",
    "print({\"train_\" + metricname: metric(y_train, y_pred_train) for metricname, metric in metrics})"
   ]
  },
  {
   "cell_type": "markdown",
   "id": "d53dc11c-2e89-4843-9acf-38c7c3f444e5",
   "metadata": {},
   "source": [
    "## baseline model"
   ]
  },
  {
   "cell_type": "code",
   "execution_count": 153,
   "id": "61bb521a-23ff-4a5b-b8c8-eca045f64f11",
   "metadata": {},
   "outputs": [
    {
     "name": "stdout",
     "output_type": "stream",
     "text": [
      "{'val_f1': '0.99347 (0.00809)', 'val_acc': '0.99333 (0.00816)', 'val_mcc': '0.98669 (0.01630)'}\n",
      "{'train_f1': '1.00000 (0.00000)', 'train_acc': '1.00000 (0.00000)', 'train_mcc': '1.00000 (0.00000)'}\n"
     ]
    }
   ],
   "source": [
    "# Define the number of folds\n",
    "n_splits = 5\n",
    "kf = KFold(n_splits=n_splits, shuffle=True, random_state=0)\n",
    "\n",
    "train_metric_fold = {\n",
    "    \"f1\": [],\n",
    "    \"acc\": [],\n",
    "    \"mcc\": [],\n",
    "}\n",
    "test_metric_fold = {\n",
    "    \"f1\": [],\n",
    "    \"acc\": [],\n",
    "    \"mcc\": [],\n",
    "}\n",
    "for train_index, val_index in kf.split(X_train):\n",
    "    # Split the data into training and validation sets\n",
    "    X_train_fold, X_val_fold = X_train.to_numpy()[train_index], X_train.to_numpy()[val_index]\n",
    "    y_train_fold, y_val_fold = y_train.to_numpy()[train_index], y_train.to_numpy()[val_index]\n",
    "\n",
    "    bst = XGBClassifier(n_estimators=100,\n",
    "                      gamma=1,\n",
    "                      max_depth=1,\n",
    "                      learning_rate=1,\n",
    "                      subsample=None,\n",
    "                      colsample_bytree=None,\n",
    "                      objective=\"binary:hinge\")\n",
    "    \n",
    "    bst.fit(X_train_fold, y_train_fold)\n",
    "    \n",
    "    y_pred_val = bst.predict(X_val_fold)\n",
    "    y_pred_train = bst.predict(X_train_fold)\n",
    "\n",
    "    for name, metric in metrics:\n",
    "        train_metric_fold[name].append(metric(y_train_fold, y_pred_train))\n",
    "        test_metric_fold[name].append(metric(y_val_fold, y_pred_val))\n",
    "        \n",
    "\n",
    "print({f\"val_{metricname}\": f\"{np.mean(metriclist):.5f} ({np.std(metriclist):.5f})\" for metricname, metriclist in test_metric_fold.items()})\n",
    "print({f\"train_{metricname}\": f\"{np.mean(metriclist):.5f} ({np.std(metriclist):.5f})\" for metricname, metriclist in train_metric_fold.items()})"
   ]
  },
  {
   "cell_type": "markdown",
   "id": "32c07706-7bd9-421e-847e-db8345079ea0",
   "metadata": {},
   "source": [
    "## generate predictions"
   ]
  },
  {
   "cell_type": "code",
   "execution_count": 5,
   "id": "57545670-3d03-4b3c-b910-d0eec07f2f11",
   "metadata": {},
   "outputs": [
    {
     "data": {
      "text/plain": [
       "{'correlation': 4.0}"
      ]
     },
     "execution_count": 5,
     "metadata": {},
     "output_type": "execute_result"
    }
   ],
   "source": [
    "bst = XGBClassifier(n_estimators=10,\n",
    "                      gamma=1,\n",
    "                      max_depth=1,\n",
    "                      learning_rate=1,\n",
    "                      subsample=None,\n",
    "                      colsample_bytree=None,\n",
    "                      objective=\"binary:hinge\")\n",
    "    \n",
    "bst.fit(X_train, y_train)\n",
    "bst.get_booster().get_score()"
   ]
  },
  {
   "cell_type": "code",
   "execution_count": 6,
   "id": "572fb43d-1b87-4ee9-b668-fd15fd589b86",
   "metadata": {},
   "outputs": [],
   "source": [
    "# make predictions on test set\n",
    "y_pred = bst.predict(X_test)"
   ]
  },
  {
   "cell_type": "code",
   "execution_count": 7,
   "id": "71a2597b-195d-47e0-b9e1-22fa27ba5cd1",
   "metadata": {},
   "outputs": [],
   "source": [
    "# generate merge\n",
    "merge_df = test_df[[\"Pair\"]].copy(deep=True)\n",
    "merge_df[\"pred\"] = pd.Series(y_pred)\n",
    "\n",
    "# update predictions\n",
    "pred_df = pd.read_csv(\"../prediction/prediction_templ.csv\")\n",
    "merged_df = pred_df.merge(merge_df, on=\"Pair\")[[\"peak\", \"gene\", \"Pair\", \"pred\"]].rename(columns={\"pred\": \"Peak2Gene\"})\n",
    "merged_df[\"Peak2Gene\"] = merged_df[\"Peak2Gene\"].apply(lambda x: \"TRUE\" if x else \"FALSE\")"
   ]
  },
  {
   "cell_type": "code",
   "execution_count": 8,
   "id": "fa4e7b62-5942-44da-b6ff-1f249586fd32",
   "metadata": {},
   "outputs": [],
   "source": [
    "merged_df.to_csv(\"../prediction/prediction.csv\", index=False)"
   ]
  },
  {
   "cell_type": "code",
   "execution_count": 9,
   "id": "417455ff-7d96-4e8a-8cec-15c45da7e1d3",
   "metadata": {},
   "outputs": [
    {
     "data": {
      "text/plain": [
       "array([0, 0, 0, 1, 1, 1, 1, 1, 1, 1, 0, 1, 1, 1, 0, 1, 1, 0, 0, 1, 0, 1,\n",
       "       1, 1, 1, 1, 1, 1, 1, 0, 1, 0, 0, 1, 1, 1, 0, 1, 0, 0, 1, 0, 0, 0,\n",
       "       0, 1, 1, 1, 0, 0, 0, 0, 0, 1, 1, 1, 0, 0, 1, 1, 0, 1, 0, 0, 1, 1,\n",
       "       1, 0, 1, 0, 0, 1, 1, 1, 0, 0, 0, 1, 1, 1, 1, 1, 1, 0, 0, 1, 1, 1,\n",
       "       1, 1, 1, 1, 1, 1, 1, 0, 1, 1, 1, 1, 1, 1, 1, 1, 1, 0, 0, 0, 0, 0,\n",
       "       0, 1, 0, 0, 0, 0, 0, 1, 1, 1, 1, 1, 1, 1, 1, 1, 0, 0, 0, 0, 0, 1,\n",
       "       0, 1, 1, 0, 0, 1, 0, 0, 1, 1, 0, 0, 1, 1, 1, 1, 1, 1, 0, 1, 1, 0,\n",
       "       0, 0, 0, 0, 0, 0, 0, 0, 0, 0, 0, 0, 0, 1, 1, 1, 1, 0, 1, 1, 1, 0,\n",
       "       0, 0, 1, 0, 0, 1, 1, 0, 0, 0, 0, 1, 1, 0, 1, 0, 0, 1, 1, 0, 0, 1,\n",
       "       0, 1, 1, 1, 0, 1, 1, 0, 0, 1, 1, 1, 0, 0, 0, 0, 0, 0, 1, 0, 0, 0,\n",
       "       0, 0, 0, 0, 0, 0, 0, 0, 0, 1, 0, 0, 0, 0, 0, 1, 1, 1, 0, 1, 1, 1,\n",
       "       1, 1, 1, 1, 0, 0, 0, 1, 0, 0, 0, 1, 0, 0, 0, 0, 1, 0, 0, 0, 0, 0,\n",
       "       0, 0, 1, 0, 0, 0, 0, 0, 1, 0, 1, 1, 1, 1, 0, 0, 1, 1, 0, 0, 0, 0,\n",
       "       1, 1, 1, 1, 0, 0, 1, 0, 1, 0, 0, 0, 0, 0])"
      ]
     },
     "execution_count": 9,
     "metadata": {},
     "output_type": "execute_result"
    }
   ],
   "source": [
    "y_pred"
   ]
  },
  {
   "cell_type": "code",
   "execution_count": null,
   "id": "37c5a02b-66ea-4f54-916b-ad9e2274c045",
   "metadata": {},
   "outputs": [],
   "source": []
  }
 ],
 "metadata": {
  "kernelspec": {
   "display_name": "Python 3 (ipykernel)",
   "language": "python",
   "name": "python3"
  },
  "language_info": {
   "codemirror_mode": {
    "name": "ipython",
    "version": 3
   },
   "file_extension": ".py",
   "mimetype": "text/x-python",
   "name": "python",
   "nbconvert_exporter": "python",
   "pygments_lexer": "ipython3",
   "version": "3.11.6"
  }
 },
 "nbformat": 4,
 "nbformat_minor": 5
}
