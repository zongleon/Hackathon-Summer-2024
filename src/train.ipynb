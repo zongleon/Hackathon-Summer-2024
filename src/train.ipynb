{
 "cells": [
  {
   "cell_type": "code",
   "execution_count": 1,
   "id": "a559e609-68c3-4546-8466-cdc54de2be63",
   "metadata": {},
   "outputs": [],
   "source": [
    "import pandas as pd\n",
    "from model import ContrastiveLoss, MultiPosConLoss, SequenceEncoder\n",
    "from torch.utils.data import Dataset, DataLoader\n",
    "import torch.optim as optim\n",
    "import torch\n",
    "import torch.nn as nn\n",
    "import numpy as np\n",
    "from sklearn.linear_model import LogisticRegression\n",
    "from sklearn.model_selection import train_test_split\n",
    "from sklearn.metrics import classification_report, accuracy_score, f1_score, matthews_corrcoef\n",
    "import wandb\n",
    "from collections import namedtuple"
   ]
  },
  {
   "cell_type": "code",
   "execution_count": 2,
   "id": "e041c7fa-c21e-428c-add1-ab5a3644f9fc",
   "metadata": {},
   "outputs": [
    {
     "name": "stderr",
     "output_type": "stream",
     "text": [
      "\u001b[34m\u001b[1mwandb\u001b[0m: Currently logged in as: \u001b[33mzongl\u001b[0m (\u001b[33mcsc240_lztp\u001b[0m). Use \u001b[1m`wandb login --relogin`\u001b[0m to force relogin\n"
     ]
    },
    {
     "data": {
      "text/plain": [
       "True"
      ]
     },
     "execution_count": 2,
     "metadata": {},
     "output_type": "execute_result"
    }
   ],
   "source": [
    "wandb.login()"
   ]
  },
  {
   "cell_type": "markdown",
   "id": "75f12d7f-c092-4a1c-8c02-38c30464d9d8",
   "metadata": {},
   "source": [
    "# Load Data"
   ]
  },
  {
   "cell_type": "code",
   "execution_count": 3,
   "id": "2fb3e581-73d8-41a4-80b5-8aba421ff5c9",
   "metadata": {},
   "outputs": [],
   "source": [
    "# rename columns\n",
    "def remove_rename(df: pd.DataFrame) -> pd.DataFrame:\n",
    "    df = df.drop([\"peak.1\", \"gene.1\"], axis=1)\n",
    "\n",
    "    num_cells = (len(df.columns)-4) // 2\n",
    "    new_cols = ['peak', 'gene', 'Pair', 'is_pair'] + [\"atac.\" + str(x) for x in range(num_cells)] + [\"rna.\" + str(x) for x in range(num_cells)]\n",
    "    df = df.rename(columns=dict(zip(df.columns, new_cols)))\n",
    "    return df\n",
    "\n",
    "def set_labels(df: pd.DataFrame) -> pd.DataFrame:\n",
    "    df[\"is_pair\"] = df[\"is_pair\"].apply(lambda x: 1 if x else 0)\n",
    "    return df\n",
    "    \n",
    "def normalize(df: pd.DataFrame) -> pd.DataFrame:\n",
    "    # only counts\n",
    "    num_df = df[df.columns[4:]]\n",
    "    \n",
    "    # Summing each column (sample) to get library sizes\n",
    "    library_sizes = num_df.sum(axis=0)\n",
    "    \n",
    "    # Normalizing to CPM\n",
    "    cpm_df = num_df.div(library_sizes, axis=1) * 10**6\n",
    "    \n",
    "    # If you want to log-transform the CPM data\n",
    "    log_cpm_df = cpm_df.apply(lambda x: np.log2(x + 1))\n",
    "\n",
    "    return pd.concat([df[df.columns[:4]], log_cpm_df], axis=1)\n",
    "    \n",
    "DATA_PATH = \"../data/Tab_delimited_text/\"\n",
    "train_df = pd.read_csv(DATA_PATH + \"train.csv\")\n",
    "test_df = pd.read_csv(DATA_PATH + \"test.csv\")\n",
    "\n",
    "train_df = remove_rename(train_df)\n",
    "train_df = set_labels(train_df)\n",
    "train_df = normalize(train_df)\n",
    "\n",
    "test_df = remove_rename(test_df)\n",
    "test_df = set_labels(test_df)\n",
    "test_df = normalize(test_df)\n",
    "\n",
    "train_df, val_df = train_test_split(train_df, test_size=0.2, random_state=42)"
   ]
  },
  {
   "cell_type": "markdown",
   "id": "dcea4ad9-e32c-436e-9faf-adab79749680",
   "metadata": {},
   "source": [
    "# Train Embedding Model"
   ]
  },
  {
   "cell_type": "code",
   "execution_count": 4,
   "id": "edcfea6d-e671-4850-9367-7773fd3967df",
   "metadata": {},
   "outputs": [],
   "source": [
    "# dataset\n",
    "class SequencingDataset(Dataset):\n",
    "    def __init__(self, dataframe):\n",
    "        self.data = dataframe\n",
    "        self.features_atac = dataframe.drop([\"peak\", \"gene\", \"Pair\", \"is_pair\"] + [x for x in dataframe.columns if \"rna\" in x], axis=1).values\n",
    "        self.features_rna = dataframe.drop([\"peak\", \"gene\", \"Pair\", \"is_pair\"] + [x for x in dataframe.columns if \"atac\" in x], axis=1).values\n",
    "        self.labels = dataframe[\"is_pair\"].values\n",
    "\n",
    "    def __len__(self):\n",
    "        return len(self.data)\n",
    "\n",
    "    def __getitem__(self, idx):\n",
    "        x1 = torch.tensor(self.features_atac[idx], dtype=torch.float32)\n",
    "        x2 = torch.tensor(self.features_rna[idx], dtype=torch.float32)\n",
    "        y = torch.tensor(self.labels[idx], dtype=torch.long)\n",
    "        return x1, x2, y"
   ]
  },
  {
   "cell_type": "code",
   "execution_count": 5,
   "id": "bfc5add9-f4b6-45c7-8761-3bf6d54c00c1",
   "metadata": {},
   "outputs": [],
   "source": [
    "def relationship_score(model, sequence1, sequence2):\n",
    "    model.eval()  # Set model to evaluation mode\n",
    "    \n",
    "    with torch.no_grad():  # No need to track gradients during inference\n",
    "        embedding1 = model(sequence1)\n",
    "        embedding2 = model(sequence2)\n",
    "        \n",
    "        # Compute distance between embeddings\n",
    "        distance = nn.functional.pairwise_distance(embedding1, embedding2)\n",
    "\n",
    "        relation = torch.sigmoid(-distance)\n",
    "        \n",
    "    return relation.item()\n",
    "\n",
    "def make_binary_task(model, dataloader):\n",
    "    X = []\n",
    "    y = []\n",
    "    for point in dataloader:\n",
    "        relation = relationship_score(model, point[0], point[1])\n",
    "        X.append(relation)\n",
    "        y.append(point[2].item())\n",
    "    return np.array(X).reshape(-1, 1), y"
   ]
  },
  {
   "cell_type": "code",
   "execution_count": 6,
   "id": "de0695eb-8851-487b-990b-95ded1670a25",
   "metadata": {},
   "outputs": [],
   "source": [
    "# data loading\n",
    "train_dataset = SequencingDataset(train_df)\n",
    "val_dataset = SequencingDataset(val_df)\n",
    "test_dataset = SequencingDataset(test_df)\n",
    "\n",
    "# Create DataLoader\n",
    "train2_dataloader = DataLoader(train_dataset)\n",
    "val_dataloader = DataLoader(val_dataset)\n",
    "test_dataloader = DataLoader(test_dataset)\n",
    "\n",
    "# define metrics\n",
    "metrics = [\n",
    "    (\"f1\", f1_score),\n",
    "    (\"acc\", accuracy_score),\n",
    "    (\"mcc\", matthews_corrcoef),\n",
    "]\n",
    "\n",
    "def train(use_wandb=True):\n",
    "    if use_wandb:\n",
    "        wandb.init()\n",
    "        config = wandb.config\n",
    "    else:\n",
    "        config = {\n",
    "            \"batch_size\": 8,\n",
    "            \"embedding_dim\": 64,\n",
    "            \"epochs\": 10,\n",
    "            \"lr\": 1e-3,\n",
    "            \"margin\": 1.0,\n",
    "        }\n",
    "        Config = namedtuple(\"configuration\", list(config.keys()))\n",
    "        config = Config(**config)\n",
    "    train_dataloader = DataLoader(train_dataset, batch_size=config.batch_size, shuffle=True)\n",
    "    \n",
    "    # Assuming you have defined your model `SequenceEncoder` and loaded it\n",
    "    model = SequenceEncoder(embedding_dim=config.embedding_dim)\n",
    "    optimizer = optim.Adam(model.parameters(), lr=config.lr)\n",
    "    \n",
    "    # Training loop\n",
    "    criterion = ContrastiveLoss(margin=config.margin)\n",
    "    \n",
    "    num_epochs = config.epochs\n",
    "    for epoch in range(num_epochs):\n",
    "        for batch_idx, (atac, rna, labels) in enumerate(train_dataloader):\n",
    "            optimizer.zero_grad()\n",
    "            \n",
    "            atac_features = model(atac)\n",
    "            rna_features = model(rna)\n",
    "            \n",
    "            loss = criterion(atac_features, rna_features, labels)\n",
    "            loss.backward()\n",
    "            optimizer.step()\n",
    "\n",
    "        if use_wandb:\n",
    "            wandb.log({\"epoch\": epoch+1, \"loss\": loss.item()})\n",
    "        # print(f\"Epoch {epoch+1}/{num_epochs}, Loss: {loss.item()}\")\n",
    "        \n",
    "    X, y = make_binary_task(model, train2_dataloader)\n",
    "    clf = LogisticRegression(random_state=42).fit(X, y)\n",
    "\n",
    "    X, y_true = make_binary_task(model, val_dataloader)\n",
    "    y_pred = clf.predict(X)\n",
    "\n",
    "    if use_wandb:\n",
    "        wandb.log({\"val_\" + metricname: metric(y_true, y_pred) for metricname, metric in metrics})\n",
    "    else:\n",
    "        print({\"val_\" + metricname: metric(y_true, y_pred) for metricname, metric in metrics})\n",
    "    return model, clf"
   ]
  },
  {
   "cell_type": "code",
   "execution_count": 9,
   "id": "bcf85a58-0247-4bf0-b7c4-a54f7bed6085",
   "metadata": {},
   "outputs": [
    {
     "name": "stdout",
     "output_type": "stream",
     "text": [
      "Create sweep with ID: 8lf1jk1n\n",
      "Sweep URL: https://wandb.ai/csc240_lztp/hackathon-2024/sweeps/8lf1jk1n\n"
     ]
    }
   ],
   "source": [
    "# parameter sweep\n",
    "sweep_configuration = {\n",
    "    \"method\": \"grid\",\n",
    "    \"name\": \"contrastive\",\n",
    "    \"metric\": {\"goal\": \"maximize\", \"name\": \"val_f1\"},\n",
    "    \"parameters\": {\n",
    "        \"batch_size\": {\"values\": [16, 32, 64]},\n",
    "        \"embedding_dim\": {\"values\": [64, 128, 256]},\n",
    "        \"epochs\": {\"min\": 3, \"max\": 10, \"distribution\": \"int_uniform\"},\n",
    "        \"lr\": {\"max\": 1e-1, \"min\": 1e-5, \"distribution\": \"log_uniform_values\"},\n",
    "        \"margin\": {\"min\": 0.5, \"max\": 1.5},\n",
    "    },\n",
    "}\n",
    "\n",
    "sweep_id = wandb.sweep(sweep=sweep_configuration, project=\"hackathon-2024\")"
   ]
  },
  {
   "cell_type": "code",
   "execution_count": 10,
   "id": "50f3a8a7-40f4-45ef-9dd8-3549985bb1c9",
   "metadata": {},
   "outputs": [
    {
     "name": "stderr",
     "output_type": "stream",
     "text": [
      "\u001b[34m\u001b[1mwandb\u001b[0m: Agent Starting Run: 108cywli with config:\n",
      "\u001b[34m\u001b[1mwandb\u001b[0m: \tbatch_size: 4\n",
      "\u001b[34m\u001b[1mwandb\u001b[0m: \tembedding_dim: 64\n",
      "\u001b[34m\u001b[1mwandb\u001b[0m: \tepochs: 3\n",
      "\u001b[34m\u001b[1mwandb\u001b[0m: \tlr: 0.0001154506272506112\n",
      "\u001b[34m\u001b[1mwandb\u001b[0m: \tmargin: 1.0867454096026874\n"
     ]
    },
    {
     "data": {
      "application/vnd.jupyter.widget-view+json": {
       "model_id": "6798536dbcda4b8e8c8aacb804319fd2",
       "version_major": 2,
       "version_minor": 0
      },
      "text/plain": [
       "VBox(children=(Label(value='Waiting for wandb.init()...\\r'), FloatProgress(value=0.011163564144468788, max=1.0…"
      ]
     },
     "metadata": {},
     "output_type": "display_data"
    },
    {
     "data": {
      "text/html": [
       "Tracking run with wandb version 0.17.6"
      ],
      "text/plain": [
       "<IPython.core.display.HTML object>"
      ]
     },
     "metadata": {},
     "output_type": "display_data"
    },
    {
     "data": {
      "text/html": [
       "Run data is saved locally in <code>/home/jovyan/work/src/wandb/run-20240812_205030-108cywli</code>"
      ],
      "text/plain": [
       "<IPython.core.display.HTML object>"
      ]
     },
     "metadata": {},
     "output_type": "display_data"
    },
    {
     "data": {
      "text/html": [
       "Syncing run <strong><a href='https://wandb.ai/csc240_lztp/hackathon-2024/runs/108cywli' target=\"_blank\">dashing-sweep-1</a></strong> to <a href='https://wandb.ai/csc240_lztp/hackathon-2024' target=\"_blank\">Weights & Biases</a> (<a href='https://wandb.me/run' target=\"_blank\">docs</a>)<br/>Sweep page: <a href='https://wandb.ai/csc240_lztp/hackathon-2024/sweeps/8lf1jk1n' target=\"_blank\">https://wandb.ai/csc240_lztp/hackathon-2024/sweeps/8lf1jk1n</a>"
      ],
      "text/plain": [
       "<IPython.core.display.HTML object>"
      ]
     },
     "metadata": {},
     "output_type": "display_data"
    },
    {
     "data": {
      "text/html": [
       " View project at <a href='https://wandb.ai/csc240_lztp/hackathon-2024' target=\"_blank\">https://wandb.ai/csc240_lztp/hackathon-2024</a>"
      ],
      "text/plain": [
       "<IPython.core.display.HTML object>"
      ]
     },
     "metadata": {},
     "output_type": "display_data"
    },
    {
     "data": {
      "text/html": [
       " View sweep at <a href='https://wandb.ai/csc240_lztp/hackathon-2024/sweeps/8lf1jk1n' target=\"_blank\">https://wandb.ai/csc240_lztp/hackathon-2024/sweeps/8lf1jk1n</a>"
      ],
      "text/plain": [
       "<IPython.core.display.HTML object>"
      ]
     },
     "metadata": {},
     "output_type": "display_data"
    },
    {
     "data": {
      "text/html": [
       " View run at <a href='https://wandb.ai/csc240_lztp/hackathon-2024/runs/108cywli' target=\"_blank\">https://wandb.ai/csc240_lztp/hackathon-2024/runs/108cywli</a>"
      ],
      "text/plain": [
       "<IPython.core.display.HTML object>"
      ]
     },
     "metadata": {},
     "output_type": "display_data"
    },
    {
     "data": {
      "application/vnd.jupyter.widget-view+json": {
       "model_id": "",
       "version_major": 2,
       "version_minor": 0
      },
      "text/plain": [
       "VBox(children=(Label(value='0.006 MB of 0.006 MB uploaded\\r'), FloatProgress(value=1.0, max=1.0)))"
      ]
     },
     "metadata": {},
     "output_type": "display_data"
    },
    {
     "data": {
      "text/html": [
       "<style>\n",
       "    table.wandb td:nth-child(1) { padding: 0 10px; text-align: left ; width: auto;} td:nth-child(2) {text-align: left ; width: 100%}\n",
       "    .wandb-row { display: flex; flex-direction: row; flex-wrap: wrap; justify-content: flex-start; width: 100% }\n",
       "    .wandb-col { display: flex; flex-direction: column; flex-basis: 100%; flex: 1; padding: 10px; }\n",
       "    </style>\n",
       "<div class=\"wandb-row\"><div class=\"wandb-col\"><h3>Run history:</h3><br/><table class=\"wandb\"><tr><td>epoch</td><td>▁▅█</td></tr><tr><td>loss</td><td>█▁▁</td></tr><tr><td>val_acc</td><td>▁</td></tr><tr><td>val_f1</td><td>▁</td></tr><tr><td>val_mcc</td><td>▁</td></tr></table><br/></div><div class=\"wandb-col\"><h3>Run summary:</h3><br/><table class=\"wandb\"><tr><td>epoch</td><td>3</td></tr><tr><td>loss</td><td>0.86835</td></tr><tr><td>val_acc</td><td>0.46667</td></tr><tr><td>val_f1</td><td>0.61905</td></tr><tr><td>val_mcc</td><td>-0.07039</td></tr></table><br/></div></div>"
      ],
      "text/plain": [
       "<IPython.core.display.HTML object>"
      ]
     },
     "metadata": {},
     "output_type": "display_data"
    },
    {
     "data": {
      "text/html": [
       " View run <strong style=\"color:#cdcd00\">dashing-sweep-1</strong> at: <a href='https://wandb.ai/csc240_lztp/hackathon-2024/runs/108cywli' target=\"_blank\">https://wandb.ai/csc240_lztp/hackathon-2024/runs/108cywli</a><br/> View project at: <a href='https://wandb.ai/csc240_lztp/hackathon-2024' target=\"_blank\">https://wandb.ai/csc240_lztp/hackathon-2024</a><br/>Synced 4 W&B file(s), 0 media file(s), 0 artifact file(s) and 0 other file(s)"
      ],
      "text/plain": [
       "<IPython.core.display.HTML object>"
      ]
     },
     "metadata": {},
     "output_type": "display_data"
    },
    {
     "data": {
      "text/html": [
       "Find logs at: <code>./wandb/run-20240812_205030-108cywli/logs</code>"
      ],
      "text/plain": [
       "<IPython.core.display.HTML object>"
      ]
     },
     "metadata": {},
     "output_type": "display_data"
    },
    {
     "data": {
      "text/html": [
       "The new W&B backend becomes opt-out in version 0.18.0; try it out with `wandb.require(\"core\")`! See https://wandb.me/wandb-core for more information."
      ],
      "text/plain": [
       "<IPython.core.display.HTML object>"
      ]
     },
     "metadata": {},
     "output_type": "display_data"
    },
    {
     "name": "stderr",
     "output_type": "stream",
     "text": [
      "\u001b[34m\u001b[1mwandb\u001b[0m: Agent Starting Run: kukk5u4u with config:\n",
      "\u001b[34m\u001b[1mwandb\u001b[0m: \tbatch_size: 16\n",
      "\u001b[34m\u001b[1mwandb\u001b[0m: \tembedding_dim: 128\n",
      "\u001b[34m\u001b[1mwandb\u001b[0m: \tepochs: 6\n",
      "\u001b[34m\u001b[1mwandb\u001b[0m: \tlr: 0.0004319362458375587\n",
      "\u001b[34m\u001b[1mwandb\u001b[0m: \tmargin: 0.9485007517515488\n"
     ]
    },
    {
     "data": {
      "text/html": [
       "Tracking run with wandb version 0.17.6"
      ],
      "text/plain": [
       "<IPython.core.display.HTML object>"
      ]
     },
     "metadata": {},
     "output_type": "display_data"
    },
    {
     "data": {
      "text/html": [
       "Run data is saved locally in <code>/home/jovyan/work/src/wandb/run-20240812_205056-kukk5u4u</code>"
      ],
      "text/plain": [
       "<IPython.core.display.HTML object>"
      ]
     },
     "metadata": {},
     "output_type": "display_data"
    },
    {
     "data": {
      "text/html": [
       "Syncing run <strong><a href='https://wandb.ai/csc240_lztp/hackathon-2024/runs/kukk5u4u' target=\"_blank\">crisp-sweep-2</a></strong> to <a href='https://wandb.ai/csc240_lztp/hackathon-2024' target=\"_blank\">Weights & Biases</a> (<a href='https://wandb.me/run' target=\"_blank\">docs</a>)<br/>Sweep page: <a href='https://wandb.ai/csc240_lztp/hackathon-2024/sweeps/8lf1jk1n' target=\"_blank\">https://wandb.ai/csc240_lztp/hackathon-2024/sweeps/8lf1jk1n</a>"
      ],
      "text/plain": [
       "<IPython.core.display.HTML object>"
      ]
     },
     "metadata": {},
     "output_type": "display_data"
    },
    {
     "data": {
      "text/html": [
       " View project at <a href='https://wandb.ai/csc240_lztp/hackathon-2024' target=\"_blank\">https://wandb.ai/csc240_lztp/hackathon-2024</a>"
      ],
      "text/plain": [
       "<IPython.core.display.HTML object>"
      ]
     },
     "metadata": {},
     "output_type": "display_data"
    },
    {
     "data": {
      "text/html": [
       " View sweep at <a href='https://wandb.ai/csc240_lztp/hackathon-2024/sweeps/8lf1jk1n' target=\"_blank\">https://wandb.ai/csc240_lztp/hackathon-2024/sweeps/8lf1jk1n</a>"
      ],
      "text/plain": [
       "<IPython.core.display.HTML object>"
      ]
     },
     "metadata": {},
     "output_type": "display_data"
    },
    {
     "data": {
      "text/html": [
       " View run at <a href='https://wandb.ai/csc240_lztp/hackathon-2024/runs/kukk5u4u' target=\"_blank\">https://wandb.ai/csc240_lztp/hackathon-2024/runs/kukk5u4u</a>"
      ],
      "text/plain": [
       "<IPython.core.display.HTML object>"
      ]
     },
     "metadata": {},
     "output_type": "display_data"
    },
    {
     "data": {
      "application/vnd.jupyter.widget-view+json": {
       "model_id": "",
       "version_major": 2,
       "version_minor": 0
      },
      "text/plain": [
       "VBox(children=(Label(value='0.006 MB of 0.006 MB uploaded\\r'), FloatProgress(value=1.0, max=1.0)))"
      ]
     },
     "metadata": {},
     "output_type": "display_data"
    },
    {
     "data": {
      "text/html": [
       "<style>\n",
       "    table.wandb td:nth-child(1) { padding: 0 10px; text-align: left ; width: auto;} td:nth-child(2) {text-align: left ; width: 100%}\n",
       "    .wandb-row { display: flex; flex-direction: row; flex-wrap: wrap; justify-content: flex-start; width: 100% }\n",
       "    .wandb-col { display: flex; flex-direction: column; flex-basis: 100%; flex: 1; padding: 10px; }\n",
       "    </style>\n",
       "<div class=\"wandb-row\"><div class=\"wandb-col\"><h3>Run history:</h3><br/><table class=\"wandb\"><tr><td>epoch</td><td>▁▂▄▅▇█</td></tr><tr><td>loss</td><td>█▃▁▁▃▁</td></tr><tr><td>val_acc</td><td>▁</td></tr><tr><td>val_f1</td><td>▁</td></tr><tr><td>val_mcc</td><td>▁</td></tr></table><br/></div><div class=\"wandb-col\"><h3>Run summary:</h3><br/><table class=\"wandb\"><tr><td>epoch</td><td>6</td></tr><tr><td>loss</td><td>0.18591</td></tr><tr><td>val_acc</td><td>0.48333</td></tr><tr><td>val_f1</td><td>0.65169</td></tr><tr><td>val_mcc</td><td>0.0</td></tr></table><br/></div></div>"
      ],
      "text/plain": [
       "<IPython.core.display.HTML object>"
      ]
     },
     "metadata": {},
     "output_type": "display_data"
    },
    {
     "data": {
      "text/html": [
       " View run <strong style=\"color:#cdcd00\">crisp-sweep-2</strong> at: <a href='https://wandb.ai/csc240_lztp/hackathon-2024/runs/kukk5u4u' target=\"_blank\">https://wandb.ai/csc240_lztp/hackathon-2024/runs/kukk5u4u</a><br/> View project at: <a href='https://wandb.ai/csc240_lztp/hackathon-2024' target=\"_blank\">https://wandb.ai/csc240_lztp/hackathon-2024</a><br/>Synced 4 W&B file(s), 0 media file(s), 0 artifact file(s) and 0 other file(s)"
      ],
      "text/plain": [
       "<IPython.core.display.HTML object>"
      ]
     },
     "metadata": {},
     "output_type": "display_data"
    },
    {
     "data": {
      "text/html": [
       "Find logs at: <code>./wandb/run-20240812_205056-kukk5u4u/logs</code>"
      ],
      "text/plain": [
       "<IPython.core.display.HTML object>"
      ]
     },
     "metadata": {},
     "output_type": "display_data"
    },
    {
     "data": {
      "text/html": [
       "The new W&B backend becomes opt-out in version 0.18.0; try it out with `wandb.require(\"core\")`! See https://wandb.me/wandb-core for more information."
      ],
      "text/plain": [
       "<IPython.core.display.HTML object>"
      ]
     },
     "metadata": {},
     "output_type": "display_data"
    },
    {
     "name": "stderr",
     "output_type": "stream",
     "text": [
      "\u001b[34m\u001b[1mwandb\u001b[0m: Agent Starting Run: myzzomug with config:\n",
      "\u001b[34m\u001b[1mwandb\u001b[0m: \tbatch_size: 8\n",
      "\u001b[34m\u001b[1mwandb\u001b[0m: \tembedding_dim: 64\n",
      "\u001b[34m\u001b[1mwandb\u001b[0m: \tepochs: 7\n",
      "\u001b[34m\u001b[1mwandb\u001b[0m: \tlr: 0.001045790969981246\n",
      "\u001b[34m\u001b[1mwandb\u001b[0m: \tmargin: 0.9303192539427846\n"
     ]
    },
    {
     "data": {
      "application/vnd.jupyter.widget-view+json": {
       "model_id": "fc751e3c65c944d9aca33209efc0a6d2",
       "version_major": 2,
       "version_minor": 0
      },
      "text/plain": [
       "VBox(children=(Label(value='Waiting for wandb.init()...\\r'), FloatProgress(value=0.011163545833308792, max=1.0…"
      ]
     },
     "metadata": {},
     "output_type": "display_data"
    },
    {
     "data": {
      "text/html": [
       "Tracking run with wandb version 0.17.6"
      ],
      "text/plain": [
       "<IPython.core.display.HTML object>"
      ]
     },
     "metadata": {},
     "output_type": "display_data"
    },
    {
     "data": {
      "text/html": [
       "Run data is saved locally in <code>/home/jovyan/work/src/wandb/run-20240812_205120-myzzomug</code>"
      ],
      "text/plain": [
       "<IPython.core.display.HTML object>"
      ]
     },
     "metadata": {},
     "output_type": "display_data"
    },
    {
     "data": {
      "text/html": [
       "Syncing run <strong><a href='https://wandb.ai/csc240_lztp/hackathon-2024/runs/myzzomug' target=\"_blank\">twilight-sweep-3</a></strong> to <a href='https://wandb.ai/csc240_lztp/hackathon-2024' target=\"_blank\">Weights & Biases</a> (<a href='https://wandb.me/run' target=\"_blank\">docs</a>)<br/>Sweep page: <a href='https://wandb.ai/csc240_lztp/hackathon-2024/sweeps/8lf1jk1n' target=\"_blank\">https://wandb.ai/csc240_lztp/hackathon-2024/sweeps/8lf1jk1n</a>"
      ],
      "text/plain": [
       "<IPython.core.display.HTML object>"
      ]
     },
     "metadata": {},
     "output_type": "display_data"
    },
    {
     "data": {
      "text/html": [
       " View project at <a href='https://wandb.ai/csc240_lztp/hackathon-2024' target=\"_blank\">https://wandb.ai/csc240_lztp/hackathon-2024</a>"
      ],
      "text/plain": [
       "<IPython.core.display.HTML object>"
      ]
     },
     "metadata": {},
     "output_type": "display_data"
    },
    {
     "data": {
      "text/html": [
       " View sweep at <a href='https://wandb.ai/csc240_lztp/hackathon-2024/sweeps/8lf1jk1n' target=\"_blank\">https://wandb.ai/csc240_lztp/hackathon-2024/sweeps/8lf1jk1n</a>"
      ],
      "text/plain": [
       "<IPython.core.display.HTML object>"
      ]
     },
     "metadata": {},
     "output_type": "display_data"
    },
    {
     "data": {
      "text/html": [
       " View run at <a href='https://wandb.ai/csc240_lztp/hackathon-2024/runs/myzzomug' target=\"_blank\">https://wandb.ai/csc240_lztp/hackathon-2024/runs/myzzomug</a>"
      ],
      "text/plain": [
       "<IPython.core.display.HTML object>"
      ]
     },
     "metadata": {},
     "output_type": "display_data"
    },
    {
     "data": {
      "application/vnd.jupyter.widget-view+json": {
       "model_id": "",
       "version_major": 2,
       "version_minor": 0
      },
      "text/plain": [
       "VBox(children=(Label(value='0.006 MB of 0.006 MB uploaded\\r'), FloatProgress(value=1.0, max=1.0)))"
      ]
     },
     "metadata": {},
     "output_type": "display_data"
    },
    {
     "data": {
      "text/html": [
       "<style>\n",
       "    table.wandb td:nth-child(1) { padding: 0 10px; text-align: left ; width: auto;} td:nth-child(2) {text-align: left ; width: 100%}\n",
       "    .wandb-row { display: flex; flex-direction: row; flex-wrap: wrap; justify-content: flex-start; width: 100% }\n",
       "    .wandb-col { display: flex; flex-direction: column; flex-basis: 100%; flex: 1; padding: 10px; }\n",
       "    </style>\n",
       "<div class=\"wandb-row\"><div class=\"wandb-col\"><h3>Run history:</h3><br/><table class=\"wandb\"><tr><td>epoch</td><td>▁▂▃▅▆▇█</td></tr><tr><td>loss</td><td>█▁▂▁▁▁▁</td></tr><tr><td>val_acc</td><td>▁</td></tr><tr><td>val_f1</td><td>▁</td></tr><tr><td>val_mcc</td><td>▁</td></tr></table><br/></div><div class=\"wandb-col\"><h3>Run summary:</h3><br/><table class=\"wandb\"><tr><td>epoch</td><td>7</td></tr><tr><td>loss</td><td>0.5413</td></tr><tr><td>val_acc</td><td>0.48333</td></tr><tr><td>val_f1</td><td>0.65169</td></tr><tr><td>val_mcc</td><td>0.0</td></tr></table><br/></div></div>"
      ],
      "text/plain": [
       "<IPython.core.display.HTML object>"
      ]
     },
     "metadata": {},
     "output_type": "display_data"
    },
    {
     "data": {
      "text/html": [
       " View run <strong style=\"color:#cdcd00\">twilight-sweep-3</strong> at: <a href='https://wandb.ai/csc240_lztp/hackathon-2024/runs/myzzomug' target=\"_blank\">https://wandb.ai/csc240_lztp/hackathon-2024/runs/myzzomug</a><br/> View project at: <a href='https://wandb.ai/csc240_lztp/hackathon-2024' target=\"_blank\">https://wandb.ai/csc240_lztp/hackathon-2024</a><br/>Synced 4 W&B file(s), 0 media file(s), 0 artifact file(s) and 0 other file(s)"
      ],
      "text/plain": [
       "<IPython.core.display.HTML object>"
      ]
     },
     "metadata": {},
     "output_type": "display_data"
    },
    {
     "data": {
      "text/html": [
       "Find logs at: <code>./wandb/run-20240812_205120-myzzomug/logs</code>"
      ],
      "text/plain": [
       "<IPython.core.display.HTML object>"
      ]
     },
     "metadata": {},
     "output_type": "display_data"
    },
    {
     "data": {
      "text/html": [
       "The new W&B backend becomes opt-out in version 0.18.0; try it out with `wandb.require(\"core\")`! See https://wandb.me/wandb-core for more information."
      ],
      "text/plain": [
       "<IPython.core.display.HTML object>"
      ]
     },
     "metadata": {},
     "output_type": "display_data"
    },
    {
     "name": "stderr",
     "output_type": "stream",
     "text": [
      "\u001b[34m\u001b[1mwandb\u001b[0m: Agent Starting Run: u5uozrm0 with config:\n",
      "\u001b[34m\u001b[1mwandb\u001b[0m: \tbatch_size: 4\n",
      "\u001b[34m\u001b[1mwandb\u001b[0m: \tembedding_dim: 64\n",
      "\u001b[34m\u001b[1mwandb\u001b[0m: \tepochs: 4\n",
      "\u001b[34m\u001b[1mwandb\u001b[0m: \tlr: 4.048996795118957e-05\n",
      "\u001b[34m\u001b[1mwandb\u001b[0m: \tmargin: 1.3321669566330954\n"
     ]
    },
    {
     "data": {
      "text/html": [
       "Tracking run with wandb version 0.17.6"
      ],
      "text/plain": [
       "<IPython.core.display.HTML object>"
      ]
     },
     "metadata": {},
     "output_type": "display_data"
    },
    {
     "data": {
      "text/html": [
       "Run data is saved locally in <code>/home/jovyan/work/src/wandb/run-20240812_205147-u5uozrm0</code>"
      ],
      "text/plain": [
       "<IPython.core.display.HTML object>"
      ]
     },
     "metadata": {},
     "output_type": "display_data"
    },
    {
     "data": {
      "text/html": [
       "Syncing run <strong><a href='https://wandb.ai/csc240_lztp/hackathon-2024/runs/u5uozrm0' target=\"_blank\">logical-sweep-4</a></strong> to <a href='https://wandb.ai/csc240_lztp/hackathon-2024' target=\"_blank\">Weights & Biases</a> (<a href='https://wandb.me/run' target=\"_blank\">docs</a>)<br/>Sweep page: <a href='https://wandb.ai/csc240_lztp/hackathon-2024/sweeps/8lf1jk1n' target=\"_blank\">https://wandb.ai/csc240_lztp/hackathon-2024/sweeps/8lf1jk1n</a>"
      ],
      "text/plain": [
       "<IPython.core.display.HTML object>"
      ]
     },
     "metadata": {},
     "output_type": "display_data"
    },
    {
     "data": {
      "text/html": [
       " View project at <a href='https://wandb.ai/csc240_lztp/hackathon-2024' target=\"_blank\">https://wandb.ai/csc240_lztp/hackathon-2024</a>"
      ],
      "text/plain": [
       "<IPython.core.display.HTML object>"
      ]
     },
     "metadata": {},
     "output_type": "display_data"
    },
    {
     "data": {
      "text/html": [
       " View sweep at <a href='https://wandb.ai/csc240_lztp/hackathon-2024/sweeps/8lf1jk1n' target=\"_blank\">https://wandb.ai/csc240_lztp/hackathon-2024/sweeps/8lf1jk1n</a>"
      ],
      "text/plain": [
       "<IPython.core.display.HTML object>"
      ]
     },
     "metadata": {},
     "output_type": "display_data"
    },
    {
     "data": {
      "text/html": [
       " View run at <a href='https://wandb.ai/csc240_lztp/hackathon-2024/runs/u5uozrm0' target=\"_blank\">https://wandb.ai/csc240_lztp/hackathon-2024/runs/u5uozrm0</a>"
      ],
      "text/plain": [
       "<IPython.core.display.HTML object>"
      ]
     },
     "metadata": {},
     "output_type": "display_data"
    },
    {
     "data": {
      "application/vnd.jupyter.widget-view+json": {
       "model_id": "",
       "version_major": 2,
       "version_minor": 0
      },
      "text/plain": [
       "VBox(children=(Label(value='0.006 MB of 0.006 MB uploaded\\r'), FloatProgress(value=1.0, max=1.0)))"
      ]
     },
     "metadata": {},
     "output_type": "display_data"
    },
    {
     "data": {
      "text/html": [
       "<style>\n",
       "    table.wandb td:nth-child(1) { padding: 0 10px; text-align: left ; width: auto;} td:nth-child(2) {text-align: left ; width: 100%}\n",
       "    .wandb-row { display: flex; flex-direction: row; flex-wrap: wrap; justify-content: flex-start; width: 100% }\n",
       "    .wandb-col { display: flex; flex-direction: column; flex-basis: 100%; flex: 1; padding: 10px; }\n",
       "    </style>\n",
       "<div class=\"wandb-row\"><div class=\"wandb-col\"><h3>Run history:</h3><br/><table class=\"wandb\"><tr><td>epoch</td><td>▁▃▆█</td></tr><tr><td>loss</td><td>▂█▂▁</td></tr><tr><td>val_acc</td><td>▁</td></tr><tr><td>val_f1</td><td>▁</td></tr><tr><td>val_mcc</td><td>▁</td></tr></table><br/></div><div class=\"wandb-col\"><h3>Run summary:</h3><br/><table class=\"wandb\"><tr><td>epoch</td><td>4</td></tr><tr><td>loss</td><td>1.45365</td></tr><tr><td>val_acc</td><td>0.45</td></tr><tr><td>val_f1</td><td>0.61176</td></tr><tr><td>val_mcc</td><td>-0.14262</td></tr></table><br/></div></div>"
      ],
      "text/plain": [
       "<IPython.core.display.HTML object>"
      ]
     },
     "metadata": {},
     "output_type": "display_data"
    },
    {
     "data": {
      "text/html": [
       " View run <strong style=\"color:#cdcd00\">logical-sweep-4</strong> at: <a href='https://wandb.ai/csc240_lztp/hackathon-2024/runs/u5uozrm0' target=\"_blank\">https://wandb.ai/csc240_lztp/hackathon-2024/runs/u5uozrm0</a><br/> View project at: <a href='https://wandb.ai/csc240_lztp/hackathon-2024' target=\"_blank\">https://wandb.ai/csc240_lztp/hackathon-2024</a><br/>Synced 4 W&B file(s), 0 media file(s), 0 artifact file(s) and 0 other file(s)"
      ],
      "text/plain": [
       "<IPython.core.display.HTML object>"
      ]
     },
     "metadata": {},
     "output_type": "display_data"
    },
    {
     "data": {
      "text/html": [
       "Find logs at: <code>./wandb/run-20240812_205147-u5uozrm0/logs</code>"
      ],
      "text/plain": [
       "<IPython.core.display.HTML object>"
      ]
     },
     "metadata": {},
     "output_type": "display_data"
    },
    {
     "data": {
      "text/html": [
       "The new W&B backend becomes opt-out in version 0.18.0; try it out with `wandb.require(\"core\")`! See https://wandb.me/wandb-core for more information."
      ],
      "text/plain": [
       "<IPython.core.display.HTML object>"
      ]
     },
     "metadata": {},
     "output_type": "display_data"
    },
    {
     "name": "stderr",
     "output_type": "stream",
     "text": [
      "\u001b[34m\u001b[1mwandb\u001b[0m: Agent Starting Run: e9am54mc with config:\n",
      "\u001b[34m\u001b[1mwandb\u001b[0m: \tbatch_size: 4\n",
      "\u001b[34m\u001b[1mwandb\u001b[0m: \tembedding_dim: 128\n",
      "\u001b[34m\u001b[1mwandb\u001b[0m: \tepochs: 7\n",
      "\u001b[34m\u001b[1mwandb\u001b[0m: \tlr: 0.018996069317532137\n",
      "\u001b[34m\u001b[1mwandb\u001b[0m: \tmargin: 0.8969712214307501\n"
     ]
    },
    {
     "data": {
      "text/html": [
       "Tracking run with wandb version 0.17.6"
      ],
      "text/plain": [
       "<IPython.core.display.HTML object>"
      ]
     },
     "metadata": {},
     "output_type": "display_data"
    },
    {
     "data": {
      "text/html": [
       "Run data is saved locally in <code>/home/jovyan/work/src/wandb/run-20240812_205212-e9am54mc</code>"
      ],
      "text/plain": [
       "<IPython.core.display.HTML object>"
      ]
     },
     "metadata": {},
     "output_type": "display_data"
    },
    {
     "data": {
      "text/html": [
       "Syncing run <strong><a href='https://wandb.ai/csc240_lztp/hackathon-2024/runs/e9am54mc' target=\"_blank\">divine-sweep-5</a></strong> to <a href='https://wandb.ai/csc240_lztp/hackathon-2024' target=\"_blank\">Weights & Biases</a> (<a href='https://wandb.me/run' target=\"_blank\">docs</a>)<br/>Sweep page: <a href='https://wandb.ai/csc240_lztp/hackathon-2024/sweeps/8lf1jk1n' target=\"_blank\">https://wandb.ai/csc240_lztp/hackathon-2024/sweeps/8lf1jk1n</a>"
      ],
      "text/plain": [
       "<IPython.core.display.HTML object>"
      ]
     },
     "metadata": {},
     "output_type": "display_data"
    },
    {
     "data": {
      "text/html": [
       " View project at <a href='https://wandb.ai/csc240_lztp/hackathon-2024' target=\"_blank\">https://wandb.ai/csc240_lztp/hackathon-2024</a>"
      ],
      "text/plain": [
       "<IPython.core.display.HTML object>"
      ]
     },
     "metadata": {},
     "output_type": "display_data"
    },
    {
     "data": {
      "text/html": [
       " View sweep at <a href='https://wandb.ai/csc240_lztp/hackathon-2024/sweeps/8lf1jk1n' target=\"_blank\">https://wandb.ai/csc240_lztp/hackathon-2024/sweeps/8lf1jk1n</a>"
      ],
      "text/plain": [
       "<IPython.core.display.HTML object>"
      ]
     },
     "metadata": {},
     "output_type": "display_data"
    },
    {
     "data": {
      "text/html": [
       " View run at <a href='https://wandb.ai/csc240_lztp/hackathon-2024/runs/e9am54mc' target=\"_blank\">https://wandb.ai/csc240_lztp/hackathon-2024/runs/e9am54mc</a>"
      ],
      "text/plain": [
       "<IPython.core.display.HTML object>"
      ]
     },
     "metadata": {},
     "output_type": "display_data"
    },
    {
     "data": {
      "application/vnd.jupyter.widget-view+json": {
       "model_id": "a8725c834a114fd9a0e8ea0042a12477",
       "version_major": 2,
       "version_minor": 0
      },
      "text/plain": [
       "VBox(children=(Label(value='0.006 MB of 0.006 MB uploaded\\r'), FloatProgress(value=1.0, max=1.0)))"
      ]
     },
     "metadata": {},
     "output_type": "display_data"
    },
    {
     "data": {
      "text/html": [
       "<style>\n",
       "    table.wandb td:nth-child(1) { padding: 0 10px; text-align: left ; width: auto;} td:nth-child(2) {text-align: left ; width: 100%}\n",
       "    .wandb-row { display: flex; flex-direction: row; flex-wrap: wrap; justify-content: flex-start; width: 100% }\n",
       "    .wandb-col { display: flex; flex-direction: column; flex-basis: 100%; flex: 1; padding: 10px; }\n",
       "    </style>\n",
       "<div class=\"wandb-row\"><div class=\"wandb-col\"><h3>Run history:</h3><br/><table class=\"wandb\"><tr><td>epoch</td><td>▁▂▃▅▆▇█</td></tr><tr><td>loss</td><td>▁▁▁█▁▁▁</td></tr><tr><td>val_acc</td><td>▁</td></tr><tr><td>val_f1</td><td>▁</td></tr><tr><td>val_mcc</td><td>▁</td></tr></table><br/></div><div class=\"wandb-col\"><h3>Run summary:</h3><br/><table class=\"wandb\"><tr><td>epoch</td><td>7</td></tr><tr><td>loss</td><td>14.92507</td></tr><tr><td>val_acc</td><td>0.48333</td></tr><tr><td>val_f1</td><td>0.64368</td></tr><tr><td>val_mcc</td><td>-0.00619</td></tr></table><br/></div></div>"
      ],
      "text/plain": [
       "<IPython.core.display.HTML object>"
      ]
     },
     "metadata": {},
     "output_type": "display_data"
    },
    {
     "data": {
      "text/html": [
       " View run <strong style=\"color:#cdcd00\">divine-sweep-5</strong> at: <a href='https://wandb.ai/csc240_lztp/hackathon-2024/runs/e9am54mc' target=\"_blank\">https://wandb.ai/csc240_lztp/hackathon-2024/runs/e9am54mc</a><br/> View project at: <a href='https://wandb.ai/csc240_lztp/hackathon-2024' target=\"_blank\">https://wandb.ai/csc240_lztp/hackathon-2024</a><br/>Synced 4 W&B file(s), 0 media file(s), 0 artifact file(s) and 0 other file(s)"
      ],
      "text/plain": [
       "<IPython.core.display.HTML object>"
      ]
     },
     "metadata": {},
     "output_type": "display_data"
    },
    {
     "data": {
      "text/html": [
       "Find logs at: <code>./wandb/run-20240812_205212-e9am54mc/logs</code>"
      ],
      "text/plain": [
       "<IPython.core.display.HTML object>"
      ]
     },
     "metadata": {},
     "output_type": "display_data"
    },
    {
     "data": {
      "text/html": [
       "The new W&B backend becomes opt-out in version 0.18.0; try it out with `wandb.require(\"core\")`! See https://wandb.me/wandb-core for more information."
      ],
      "text/plain": [
       "<IPython.core.display.HTML object>"
      ]
     },
     "metadata": {},
     "output_type": "display_data"
    },
    {
     "name": "stderr",
     "output_type": "stream",
     "text": [
      "\u001b[34m\u001b[1mwandb\u001b[0m: Agent Starting Run: gsv56hcc with config:\n",
      "\u001b[34m\u001b[1mwandb\u001b[0m: \tbatch_size: 16\n",
      "\u001b[34m\u001b[1mwandb\u001b[0m: \tembedding_dim: 128\n",
      "\u001b[34m\u001b[1mwandb\u001b[0m: \tepochs: 7\n",
      "\u001b[34m\u001b[1mwandb\u001b[0m: \tlr: 0.030765652837904757\n",
      "\u001b[34m\u001b[1mwandb\u001b[0m: \tmargin: 0.7055300949974258\n"
     ]
    },
    {
     "data": {
      "text/html": [
       "Tracking run with wandb version 0.17.6"
      ],
      "text/plain": [
       "<IPython.core.display.HTML object>"
      ]
     },
     "metadata": {},
     "output_type": "display_data"
    },
    {
     "data": {
      "text/html": [
       "Run data is saved locally in <code>/home/jovyan/work/src/wandb/run-20240812_205242-gsv56hcc</code>"
      ],
      "text/plain": [
       "<IPython.core.display.HTML object>"
      ]
     },
     "metadata": {},
     "output_type": "display_data"
    },
    {
     "data": {
      "text/html": [
       "Syncing run <strong><a href='https://wandb.ai/csc240_lztp/hackathon-2024/runs/gsv56hcc' target=\"_blank\">proud-sweep-6</a></strong> to <a href='https://wandb.ai/csc240_lztp/hackathon-2024' target=\"_blank\">Weights & Biases</a> (<a href='https://wandb.me/run' target=\"_blank\">docs</a>)<br/>Sweep page: <a href='https://wandb.ai/csc240_lztp/hackathon-2024/sweeps/8lf1jk1n' target=\"_blank\">https://wandb.ai/csc240_lztp/hackathon-2024/sweeps/8lf1jk1n</a>"
      ],
      "text/plain": [
       "<IPython.core.display.HTML object>"
      ]
     },
     "metadata": {},
     "output_type": "display_data"
    },
    {
     "data": {
      "text/html": [
       " View project at <a href='https://wandb.ai/csc240_lztp/hackathon-2024' target=\"_blank\">https://wandb.ai/csc240_lztp/hackathon-2024</a>"
      ],
      "text/plain": [
       "<IPython.core.display.HTML object>"
      ]
     },
     "metadata": {},
     "output_type": "display_data"
    },
    {
     "data": {
      "text/html": [
       " View sweep at <a href='https://wandb.ai/csc240_lztp/hackathon-2024/sweeps/8lf1jk1n' target=\"_blank\">https://wandb.ai/csc240_lztp/hackathon-2024/sweeps/8lf1jk1n</a>"
      ],
      "text/plain": [
       "<IPython.core.display.HTML object>"
      ]
     },
     "metadata": {},
     "output_type": "display_data"
    },
    {
     "data": {
      "text/html": [
       " View run at <a href='https://wandb.ai/csc240_lztp/hackathon-2024/runs/gsv56hcc' target=\"_blank\">https://wandb.ai/csc240_lztp/hackathon-2024/runs/gsv56hcc</a>"
      ],
      "text/plain": [
       "<IPython.core.display.HTML object>"
      ]
     },
     "metadata": {},
     "output_type": "display_data"
    },
    {
     "data": {
      "application/vnd.jupyter.widget-view+json": {
       "model_id": "8ec662edd6ab4ee7a7a183d32f036aee",
       "version_major": 2,
       "version_minor": 0
      },
      "text/plain": [
       "VBox(children=(Label(value='0.001 MB of 0.001 MB uploaded\\r'), FloatProgress(value=1.0, max=1.0)))"
      ]
     },
     "metadata": {},
     "output_type": "display_data"
    },
    {
     "data": {
      "text/html": [
       "<style>\n",
       "    table.wandb td:nth-child(1) { padding: 0 10px; text-align: left ; width: auto;} td:nth-child(2) {text-align: left ; width: 100%}\n",
       "    .wandb-row { display: flex; flex-direction: row; flex-wrap: wrap; justify-content: flex-start; width: 100% }\n",
       "    .wandb-col { display: flex; flex-direction: column; flex-basis: 100%; flex: 1; padding: 10px; }\n",
       "    </style>\n",
       "<div class=\"wandb-row\"><div class=\"wandb-col\"><h3>Run history:</h3><br/><table class=\"wandb\"><tr><td>epoch</td><td>▁▂▃▅▆▇█</td></tr><tr><td>loss</td><td>▁█▁▁▁▁▁</td></tr><tr><td>val_acc</td><td>▁</td></tr><tr><td>val_f1</td><td>▁</td></tr><tr><td>val_mcc</td><td>▁</td></tr></table><br/></div><div class=\"wandb-col\"><h3>Run summary:</h3><br/><table class=\"wandb\"><tr><td>epoch</td><td>7</td></tr><tr><td>loss</td><td>0.27999</td></tr><tr><td>val_acc</td><td>0.48333</td></tr><tr><td>val_f1</td><td>0.65169</td></tr><tr><td>val_mcc</td><td>0.0</td></tr></table><br/></div></div>"
      ],
      "text/plain": [
       "<IPython.core.display.HTML object>"
      ]
     },
     "metadata": {},
     "output_type": "display_data"
    },
    {
     "data": {
      "text/html": [
       " View run <strong style=\"color:#cdcd00\">proud-sweep-6</strong> at: <a href='https://wandb.ai/csc240_lztp/hackathon-2024/runs/gsv56hcc' target=\"_blank\">https://wandb.ai/csc240_lztp/hackathon-2024/runs/gsv56hcc</a><br/> View project at: <a href='https://wandb.ai/csc240_lztp/hackathon-2024' target=\"_blank\">https://wandb.ai/csc240_lztp/hackathon-2024</a><br/>Synced 4 W&B file(s), 0 media file(s), 0 artifact file(s) and 0 other file(s)"
      ],
      "text/plain": [
       "<IPython.core.display.HTML object>"
      ]
     },
     "metadata": {},
     "output_type": "display_data"
    },
    {
     "data": {
      "text/html": [
       "Find logs at: <code>./wandb/run-20240812_205242-gsv56hcc/logs</code>"
      ],
      "text/plain": [
       "<IPython.core.display.HTML object>"
      ]
     },
     "metadata": {},
     "output_type": "display_data"
    },
    {
     "data": {
      "text/html": [
       "The new W&B backend becomes opt-out in version 0.18.0; try it out with `wandb.require(\"core\")`! See https://wandb.me/wandb-core for more information."
      ],
      "text/plain": [
       "<IPython.core.display.HTML object>"
      ]
     },
     "metadata": {},
     "output_type": "display_data"
    },
    {
     "name": "stderr",
     "output_type": "stream",
     "text": [
      "\u001b[34m\u001b[1mwandb\u001b[0m: Agent Starting Run: 0ep65oh3 with config:\n",
      "\u001b[34m\u001b[1mwandb\u001b[0m: \tbatch_size: 8\n",
      "\u001b[34m\u001b[1mwandb\u001b[0m: \tembedding_dim: 64\n",
      "\u001b[34m\u001b[1mwandb\u001b[0m: \tepochs: 10\n",
      "\u001b[34m\u001b[1mwandb\u001b[0m: \tlr: 0.03639569638060656\n",
      "\u001b[34m\u001b[1mwandb\u001b[0m: \tmargin: 0.994303159095732\n"
     ]
    },
    {
     "data": {
      "text/html": [
       "Tracking run with wandb version 0.17.6"
      ],
      "text/plain": [
       "<IPython.core.display.HTML object>"
      ]
     },
     "metadata": {},
     "output_type": "display_data"
    },
    {
     "data": {
      "text/html": [
       "Run data is saved locally in <code>/home/jovyan/work/src/wandb/run-20240812_205309-0ep65oh3</code>"
      ],
      "text/plain": [
       "<IPython.core.display.HTML object>"
      ]
     },
     "metadata": {},
     "output_type": "display_data"
    },
    {
     "data": {
      "text/html": [
       "Syncing run <strong><a href='https://wandb.ai/csc240_lztp/hackathon-2024/runs/0ep65oh3' target=\"_blank\">copper-sweep-7</a></strong> to <a href='https://wandb.ai/csc240_lztp/hackathon-2024' target=\"_blank\">Weights & Biases</a> (<a href='https://wandb.me/run' target=\"_blank\">docs</a>)<br/>Sweep page: <a href='https://wandb.ai/csc240_lztp/hackathon-2024/sweeps/8lf1jk1n' target=\"_blank\">https://wandb.ai/csc240_lztp/hackathon-2024/sweeps/8lf1jk1n</a>"
      ],
      "text/plain": [
       "<IPython.core.display.HTML object>"
      ]
     },
     "metadata": {},
     "output_type": "display_data"
    },
    {
     "data": {
      "text/html": [
       " View project at <a href='https://wandb.ai/csc240_lztp/hackathon-2024' target=\"_blank\">https://wandb.ai/csc240_lztp/hackathon-2024</a>"
      ],
      "text/plain": [
       "<IPython.core.display.HTML object>"
      ]
     },
     "metadata": {},
     "output_type": "display_data"
    },
    {
     "data": {
      "text/html": [
       " View sweep at <a href='https://wandb.ai/csc240_lztp/hackathon-2024/sweeps/8lf1jk1n' target=\"_blank\">https://wandb.ai/csc240_lztp/hackathon-2024/sweeps/8lf1jk1n</a>"
      ],
      "text/plain": [
       "<IPython.core.display.HTML object>"
      ]
     },
     "metadata": {},
     "output_type": "display_data"
    },
    {
     "data": {
      "text/html": [
       " View run at <a href='https://wandb.ai/csc240_lztp/hackathon-2024/runs/0ep65oh3' target=\"_blank\">https://wandb.ai/csc240_lztp/hackathon-2024/runs/0ep65oh3</a>"
      ],
      "text/plain": [
       "<IPython.core.display.HTML object>"
      ]
     },
     "metadata": {},
     "output_type": "display_data"
    },
    {
     "data": {
      "application/vnd.jupyter.widget-view+json": {
       "model_id": "11059d3af21443e3958885563dbc4a1b",
       "version_major": 2,
       "version_minor": 0
      },
      "text/plain": [
       "VBox(children=(Label(value='0.006 MB of 0.006 MB uploaded\\r'), FloatProgress(value=1.0, max=1.0)))"
      ]
     },
     "metadata": {},
     "output_type": "display_data"
    },
    {
     "data": {
      "text/html": [
       "<style>\n",
       "    table.wandb td:nth-child(1) { padding: 0 10px; text-align: left ; width: auto;} td:nth-child(2) {text-align: left ; width: 100%}\n",
       "    .wandb-row { display: flex; flex-direction: row; flex-wrap: wrap; justify-content: flex-start; width: 100% }\n",
       "    .wandb-col { display: flex; flex-direction: column; flex-basis: 100%; flex: 1; padding: 10px; }\n",
       "    </style>\n",
       "<div class=\"wandb-row\"><div class=\"wandb-col\"><h3>Run history:</h3><br/><table class=\"wandb\"><tr><td>epoch</td><td>▁▂▃▃▄▅▆▆▇█</td></tr><tr><td>loss</td><td>▁▁▁█▁▁▁▁▁▁</td></tr><tr><td>val_acc</td><td>▁</td></tr><tr><td>val_f1</td><td>▁</td></tr><tr><td>val_mcc</td><td>▁</td></tr></table><br/></div><div class=\"wandb-col\"><h3>Run summary:</h3><br/><table class=\"wandb\"><tr><td>epoch</td><td>10</td></tr><tr><td>loss</td><td>21.81164</td></tr><tr><td>val_acc</td><td>0.48333</td></tr><tr><td>val_f1</td><td>0.65169</td></tr><tr><td>val_mcc</td><td>0.0</td></tr></table><br/></div></div>"
      ],
      "text/plain": [
       "<IPython.core.display.HTML object>"
      ]
     },
     "metadata": {},
     "output_type": "display_data"
    },
    {
     "data": {
      "text/html": [
       " View run <strong style=\"color:#cdcd00\">copper-sweep-7</strong> at: <a href='https://wandb.ai/csc240_lztp/hackathon-2024/runs/0ep65oh3' target=\"_blank\">https://wandb.ai/csc240_lztp/hackathon-2024/runs/0ep65oh3</a><br/> View project at: <a href='https://wandb.ai/csc240_lztp/hackathon-2024' target=\"_blank\">https://wandb.ai/csc240_lztp/hackathon-2024</a><br/>Synced 4 W&B file(s), 0 media file(s), 0 artifact file(s) and 0 other file(s)"
      ],
      "text/plain": [
       "<IPython.core.display.HTML object>"
      ]
     },
     "metadata": {},
     "output_type": "display_data"
    },
    {
     "data": {
      "text/html": [
       "Find logs at: <code>./wandb/run-20240812_205309-0ep65oh3/logs</code>"
      ],
      "text/plain": [
       "<IPython.core.display.HTML object>"
      ]
     },
     "metadata": {},
     "output_type": "display_data"
    },
    {
     "data": {
      "text/html": [
       "The new W&B backend becomes opt-out in version 0.18.0; try it out with `wandb.require(\"core\")`! See https://wandb.me/wandb-core for more information."
      ],
      "text/plain": [
       "<IPython.core.display.HTML object>"
      ]
     },
     "metadata": {},
     "output_type": "display_data"
    },
    {
     "name": "stderr",
     "output_type": "stream",
     "text": [
      "\u001b[34m\u001b[1mwandb\u001b[0m: Sweep Agent: Waiting for job.\n",
      "\u001b[34m\u001b[1mwandb\u001b[0m: Job received.\n",
      "\u001b[34m\u001b[1mwandb\u001b[0m: Agent Starting Run: 25wythkm with config:\n",
      "\u001b[34m\u001b[1mwandb\u001b[0m: \tbatch_size: 8\n",
      "\u001b[34m\u001b[1mwandb\u001b[0m: \tembedding_dim: 256\n",
      "\u001b[34m\u001b[1mwandb\u001b[0m: \tepochs: 4\n",
      "\u001b[34m\u001b[1mwandb\u001b[0m: \tlr: 1.7559388845380295e-05\n",
      "\u001b[34m\u001b[1mwandb\u001b[0m: \tmargin: 1.459367972764954\n"
     ]
    },
    {
     "data": {
      "text/html": [
       "Tracking run with wandb version 0.17.6"
      ],
      "text/plain": [
       "<IPython.core.display.HTML object>"
      ]
     },
     "metadata": {},
     "output_type": "display_data"
    },
    {
     "data": {
      "text/html": [
       "Run data is saved locally in <code>/home/jovyan/work/src/wandb/run-20240812_205344-25wythkm</code>"
      ],
      "text/plain": [
       "<IPython.core.display.HTML object>"
      ]
     },
     "metadata": {},
     "output_type": "display_data"
    },
    {
     "data": {
      "text/html": [
       "Syncing run <strong><a href='https://wandb.ai/csc240_lztp/hackathon-2024/runs/25wythkm' target=\"_blank\">lucky-sweep-8</a></strong> to <a href='https://wandb.ai/csc240_lztp/hackathon-2024' target=\"_blank\">Weights & Biases</a> (<a href='https://wandb.me/run' target=\"_blank\">docs</a>)<br/>Sweep page: <a href='https://wandb.ai/csc240_lztp/hackathon-2024/sweeps/8lf1jk1n' target=\"_blank\">https://wandb.ai/csc240_lztp/hackathon-2024/sweeps/8lf1jk1n</a>"
      ],
      "text/plain": [
       "<IPython.core.display.HTML object>"
      ]
     },
     "metadata": {},
     "output_type": "display_data"
    },
    {
     "data": {
      "text/html": [
       " View project at <a href='https://wandb.ai/csc240_lztp/hackathon-2024' target=\"_blank\">https://wandb.ai/csc240_lztp/hackathon-2024</a>"
      ],
      "text/plain": [
       "<IPython.core.display.HTML object>"
      ]
     },
     "metadata": {},
     "output_type": "display_data"
    },
    {
     "data": {
      "text/html": [
       " View sweep at <a href='https://wandb.ai/csc240_lztp/hackathon-2024/sweeps/8lf1jk1n' target=\"_blank\">https://wandb.ai/csc240_lztp/hackathon-2024/sweeps/8lf1jk1n</a>"
      ],
      "text/plain": [
       "<IPython.core.display.HTML object>"
      ]
     },
     "metadata": {},
     "output_type": "display_data"
    },
    {
     "data": {
      "text/html": [
       " View run at <a href='https://wandb.ai/csc240_lztp/hackathon-2024/runs/25wythkm' target=\"_blank\">https://wandb.ai/csc240_lztp/hackathon-2024/runs/25wythkm</a>"
      ],
      "text/plain": [
       "<IPython.core.display.HTML object>"
      ]
     },
     "metadata": {},
     "output_type": "display_data"
    },
    {
     "data": {
      "application/vnd.jupyter.widget-view+json": {
       "model_id": "f3245e84507d4fdd8e8f14501e779cf5",
       "version_major": 2,
       "version_minor": 0
      },
      "text/plain": [
       "VBox(children=(Label(value='0.001 MB of 0.006 MB uploaded\\r'), FloatProgress(value=0.18373680943513346, max=1.…"
      ]
     },
     "metadata": {},
     "output_type": "display_data"
    },
    {
     "data": {
      "text/html": [
       "<style>\n",
       "    table.wandb td:nth-child(1) { padding: 0 10px; text-align: left ; width: auto;} td:nth-child(2) {text-align: left ; width: 100%}\n",
       "    .wandb-row { display: flex; flex-direction: row; flex-wrap: wrap; justify-content: flex-start; width: 100% }\n",
       "    .wandb-col { display: flex; flex-direction: column; flex-basis: 100%; flex: 1; padding: 10px; }\n",
       "    </style>\n",
       "<div class=\"wandb-row\"><div class=\"wandb-col\"><h3>Run history:</h3><br/><table class=\"wandb\"><tr><td>epoch</td><td>▁▃▆█</td></tr><tr><td>loss</td><td>▅█▅▁</td></tr><tr><td>val_acc</td><td>▁</td></tr><tr><td>val_f1</td><td>▁</td></tr><tr><td>val_mcc</td><td>▁</td></tr></table><br/></div><div class=\"wandb-col\"><h3>Run summary:</h3><br/><table class=\"wandb\"><tr><td>epoch</td><td>4</td></tr><tr><td>loss</td><td>10.25145</td></tr><tr><td>val_acc</td><td>0.48333</td></tr><tr><td>val_f1</td><td>0.65169</td></tr><tr><td>val_mcc</td><td>0.0</td></tr></table><br/></div></div>"
      ],
      "text/plain": [
       "<IPython.core.display.HTML object>"
      ]
     },
     "metadata": {},
     "output_type": "display_data"
    },
    {
     "data": {
      "text/html": [
       " View run <strong style=\"color:#cdcd00\">lucky-sweep-8</strong> at: <a href='https://wandb.ai/csc240_lztp/hackathon-2024/runs/25wythkm' target=\"_blank\">https://wandb.ai/csc240_lztp/hackathon-2024/runs/25wythkm</a><br/> View project at: <a href='https://wandb.ai/csc240_lztp/hackathon-2024' target=\"_blank\">https://wandb.ai/csc240_lztp/hackathon-2024</a><br/>Synced 4 W&B file(s), 0 media file(s), 0 artifact file(s) and 0 other file(s)"
      ],
      "text/plain": [
       "<IPython.core.display.HTML object>"
      ]
     },
     "metadata": {},
     "output_type": "display_data"
    },
    {
     "data": {
      "text/html": [
       "Find logs at: <code>./wandb/run-20240812_205344-25wythkm/logs</code>"
      ],
      "text/plain": [
       "<IPython.core.display.HTML object>"
      ]
     },
     "metadata": {},
     "output_type": "display_data"
    },
    {
     "data": {
      "text/html": [
       "The new W&B backend becomes opt-out in version 0.18.0; try it out with `wandb.require(\"core\")`! See https://wandb.me/wandb-core for more information."
      ],
      "text/plain": [
       "<IPython.core.display.HTML object>"
      ]
     },
     "metadata": {},
     "output_type": "display_data"
    },
    {
     "name": "stderr",
     "output_type": "stream",
     "text": [
      "\u001b[34m\u001b[1mwandb\u001b[0m: Agent Starting Run: gl7b6ujb with config:\n",
      "\u001b[34m\u001b[1mwandb\u001b[0m: \tbatch_size: 4\n",
      "\u001b[34m\u001b[1mwandb\u001b[0m: \tembedding_dim: 128\n",
      "\u001b[34m\u001b[1mwandb\u001b[0m: \tepochs: 3\n",
      "\u001b[34m\u001b[1mwandb\u001b[0m: \tlr: 0.0026900170147286266\n",
      "\u001b[34m\u001b[1mwandb\u001b[0m: \tmargin: 1.1763820184352332\n"
     ]
    },
    {
     "data": {
      "text/html": [
       "Tracking run with wandb version 0.17.6"
      ],
      "text/plain": [
       "<IPython.core.display.HTML object>"
      ]
     },
     "metadata": {},
     "output_type": "display_data"
    },
    {
     "data": {
      "text/html": [
       "Run data is saved locally in <code>/home/jovyan/work/src/wandb/run-20240812_205410-gl7b6ujb</code>"
      ],
      "text/plain": [
       "<IPython.core.display.HTML object>"
      ]
     },
     "metadata": {},
     "output_type": "display_data"
    },
    {
     "data": {
      "text/html": [
       "Syncing run <strong><a href='https://wandb.ai/csc240_lztp/hackathon-2024/runs/gl7b6ujb' target=\"_blank\">warm-sweep-9</a></strong> to <a href='https://wandb.ai/csc240_lztp/hackathon-2024' target=\"_blank\">Weights & Biases</a> (<a href='https://wandb.me/run' target=\"_blank\">docs</a>)<br/>Sweep page: <a href='https://wandb.ai/csc240_lztp/hackathon-2024/sweeps/8lf1jk1n' target=\"_blank\">https://wandb.ai/csc240_lztp/hackathon-2024/sweeps/8lf1jk1n</a>"
      ],
      "text/plain": [
       "<IPython.core.display.HTML object>"
      ]
     },
     "metadata": {},
     "output_type": "display_data"
    },
    {
     "data": {
      "text/html": [
       " View project at <a href='https://wandb.ai/csc240_lztp/hackathon-2024' target=\"_blank\">https://wandb.ai/csc240_lztp/hackathon-2024</a>"
      ],
      "text/plain": [
       "<IPython.core.display.HTML object>"
      ]
     },
     "metadata": {},
     "output_type": "display_data"
    },
    {
     "data": {
      "text/html": [
       " View sweep at <a href='https://wandb.ai/csc240_lztp/hackathon-2024/sweeps/8lf1jk1n' target=\"_blank\">https://wandb.ai/csc240_lztp/hackathon-2024/sweeps/8lf1jk1n</a>"
      ],
      "text/plain": [
       "<IPython.core.display.HTML object>"
      ]
     },
     "metadata": {},
     "output_type": "display_data"
    },
    {
     "data": {
      "text/html": [
       " View run at <a href='https://wandb.ai/csc240_lztp/hackathon-2024/runs/gl7b6ujb' target=\"_blank\">https://wandb.ai/csc240_lztp/hackathon-2024/runs/gl7b6ujb</a>"
      ],
      "text/plain": [
       "<IPython.core.display.HTML object>"
      ]
     },
     "metadata": {},
     "output_type": "display_data"
    },
    {
     "data": {
      "application/vnd.jupyter.widget-view+json": {
       "model_id": "9c5ea685957e445a84b26d024b039b00",
       "version_major": 2,
       "version_minor": 0
      },
      "text/plain": [
       "VBox(children=(Label(value='0.006 MB of 0.006 MB uploaded\\r'), FloatProgress(value=1.0, max=1.0)))"
      ]
     },
     "metadata": {},
     "output_type": "display_data"
    },
    {
     "data": {
      "text/html": [
       "<style>\n",
       "    table.wandb td:nth-child(1) { padding: 0 10px; text-align: left ; width: auto;} td:nth-child(2) {text-align: left ; width: 100%}\n",
       "    .wandb-row { display: flex; flex-direction: row; flex-wrap: wrap; justify-content: flex-start; width: 100% }\n",
       "    .wandb-col { display: flex; flex-direction: column; flex-basis: 100%; flex: 1; padding: 10px; }\n",
       "    </style>\n",
       "<div class=\"wandb-row\"><div class=\"wandb-col\"><h3>Run history:</h3><br/><table class=\"wandb\"><tr><td>epoch</td><td>▁▅█</td></tr><tr><td>loss</td><td>▁▃█</td></tr><tr><td>val_acc</td><td>▁</td></tr><tr><td>val_f1</td><td>▁</td></tr><tr><td>val_mcc</td><td>▁</td></tr></table><br/></div><div class=\"wandb-col\"><h3>Run summary:</h3><br/><table class=\"wandb\"><tr><td>epoch</td><td>3</td></tr><tr><td>loss</td><td>0.69192</td></tr><tr><td>val_acc</td><td>0.48333</td></tr><tr><td>val_f1</td><td>0.65169</td></tr><tr><td>val_mcc</td><td>0.0</td></tr></table><br/></div></div>"
      ],
      "text/plain": [
       "<IPython.core.display.HTML object>"
      ]
     },
     "metadata": {},
     "output_type": "display_data"
    },
    {
     "data": {
      "text/html": [
       " View run <strong style=\"color:#cdcd00\">warm-sweep-9</strong> at: <a href='https://wandb.ai/csc240_lztp/hackathon-2024/runs/gl7b6ujb' target=\"_blank\">https://wandb.ai/csc240_lztp/hackathon-2024/runs/gl7b6ujb</a><br/> View project at: <a href='https://wandb.ai/csc240_lztp/hackathon-2024' target=\"_blank\">https://wandb.ai/csc240_lztp/hackathon-2024</a><br/>Synced 4 W&B file(s), 0 media file(s), 0 artifact file(s) and 0 other file(s)"
      ],
      "text/plain": [
       "<IPython.core.display.HTML object>"
      ]
     },
     "metadata": {},
     "output_type": "display_data"
    },
    {
     "data": {
      "text/html": [
       "Find logs at: <code>./wandb/run-20240812_205410-gl7b6ujb/logs</code>"
      ],
      "text/plain": [
       "<IPython.core.display.HTML object>"
      ]
     },
     "metadata": {},
     "output_type": "display_data"
    },
    {
     "data": {
      "text/html": [
       "The new W&B backend becomes opt-out in version 0.18.0; try it out with `wandb.require(\"core\")`! See https://wandb.me/wandb-core for more information."
      ],
      "text/plain": [
       "<IPython.core.display.HTML object>"
      ]
     },
     "metadata": {},
     "output_type": "display_data"
    },
    {
     "name": "stderr",
     "output_type": "stream",
     "text": [
      "\u001b[34m\u001b[1mwandb\u001b[0m: Agent Starting Run: za706r0r with config:\n",
      "\u001b[34m\u001b[1mwandb\u001b[0m: \tbatch_size: 16\n",
      "\u001b[34m\u001b[1mwandb\u001b[0m: \tembedding_dim: 256\n",
      "\u001b[34m\u001b[1mwandb\u001b[0m: \tepochs: 9\n",
      "\u001b[34m\u001b[1mwandb\u001b[0m: \tlr: 0.019120252387131106\n",
      "\u001b[34m\u001b[1mwandb\u001b[0m: \tmargin: 0.8096864124483761\n"
     ]
    },
    {
     "data": {
      "text/html": [
       "Tracking run with wandb version 0.17.6"
      ],
      "text/plain": [
       "<IPython.core.display.HTML object>"
      ]
     },
     "metadata": {},
     "output_type": "display_data"
    },
    {
     "data": {
      "text/html": [
       "Run data is saved locally in <code>/home/jovyan/work/src/wandb/run-20240812_205436-za706r0r</code>"
      ],
      "text/plain": [
       "<IPython.core.display.HTML object>"
      ]
     },
     "metadata": {},
     "output_type": "display_data"
    },
    {
     "data": {
      "text/html": [
       "Syncing run <strong><a href='https://wandb.ai/csc240_lztp/hackathon-2024/runs/za706r0r' target=\"_blank\">fluent-sweep-10</a></strong> to <a href='https://wandb.ai/csc240_lztp/hackathon-2024' target=\"_blank\">Weights & Biases</a> (<a href='https://wandb.me/run' target=\"_blank\">docs</a>)<br/>Sweep page: <a href='https://wandb.ai/csc240_lztp/hackathon-2024/sweeps/8lf1jk1n' target=\"_blank\">https://wandb.ai/csc240_lztp/hackathon-2024/sweeps/8lf1jk1n</a>"
      ],
      "text/plain": [
       "<IPython.core.display.HTML object>"
      ]
     },
     "metadata": {},
     "output_type": "display_data"
    },
    {
     "data": {
      "text/html": [
       " View project at <a href='https://wandb.ai/csc240_lztp/hackathon-2024' target=\"_blank\">https://wandb.ai/csc240_lztp/hackathon-2024</a>"
      ],
      "text/plain": [
       "<IPython.core.display.HTML object>"
      ]
     },
     "metadata": {},
     "output_type": "display_data"
    },
    {
     "data": {
      "text/html": [
       " View sweep at <a href='https://wandb.ai/csc240_lztp/hackathon-2024/sweeps/8lf1jk1n' target=\"_blank\">https://wandb.ai/csc240_lztp/hackathon-2024/sweeps/8lf1jk1n</a>"
      ],
      "text/plain": [
       "<IPython.core.display.HTML object>"
      ]
     },
     "metadata": {},
     "output_type": "display_data"
    },
    {
     "data": {
      "text/html": [
       " View run at <a href='https://wandb.ai/csc240_lztp/hackathon-2024/runs/za706r0r' target=\"_blank\">https://wandb.ai/csc240_lztp/hackathon-2024/runs/za706r0r</a>"
      ],
      "text/plain": [
       "<IPython.core.display.HTML object>"
      ]
     },
     "metadata": {},
     "output_type": "display_data"
    },
    {
     "data": {
      "application/vnd.jupyter.widget-view+json": {
       "model_id": "ee76381f31c445ccb313e4bc0725ce2b",
       "version_major": 2,
       "version_minor": 0
      },
      "text/plain": [
       "VBox(children=(Label(value='0.001 MB of 0.006 MB uploaded\\r'), FloatProgress(value=0.18373680943513346, max=1.…"
      ]
     },
     "metadata": {},
     "output_type": "display_data"
    },
    {
     "data": {
      "text/html": [
       "<style>\n",
       "    table.wandb td:nth-child(1) { padding: 0 10px; text-align: left ; width: auto;} td:nth-child(2) {text-align: left ; width: 100%}\n",
       "    .wandb-row { display: flex; flex-direction: row; flex-wrap: wrap; justify-content: flex-start; width: 100% }\n",
       "    .wandb-col { display: flex; flex-direction: column; flex-basis: 100%; flex: 1; padding: 10px; }\n",
       "    </style>\n",
       "<div class=\"wandb-row\"><div class=\"wandb-col\"><h3>Run history:</h3><br/><table class=\"wandb\"><tr><td>epoch</td><td>▁▂▃▄▅▅▆▇█</td></tr><tr><td>loss</td><td>▁▅▁▁▁▁▁█▁</td></tr><tr><td>val_acc</td><td>▁</td></tr><tr><td>val_f1</td><td>▁</td></tr><tr><td>val_mcc</td><td>▁</td></tr></table><br/></div><div class=\"wandb-col\"><h3>Run summary:</h3><br/><table class=\"wandb\"><tr><td>epoch</td><td>9</td></tr><tr><td>loss</td><td>0.36876</td></tr><tr><td>val_acc</td><td>0.48333</td></tr><tr><td>val_f1</td><td>0.65169</td></tr><tr><td>val_mcc</td><td>0.0</td></tr></table><br/></div></div>"
      ],
      "text/plain": [
       "<IPython.core.display.HTML object>"
      ]
     },
     "metadata": {},
     "output_type": "display_data"
    },
    {
     "data": {
      "text/html": [
       " View run <strong style=\"color:#cdcd00\">fluent-sweep-10</strong> at: <a href='https://wandb.ai/csc240_lztp/hackathon-2024/runs/za706r0r' target=\"_blank\">https://wandb.ai/csc240_lztp/hackathon-2024/runs/za706r0r</a><br/> View project at: <a href='https://wandb.ai/csc240_lztp/hackathon-2024' target=\"_blank\">https://wandb.ai/csc240_lztp/hackathon-2024</a><br/>Synced 4 W&B file(s), 0 media file(s), 0 artifact file(s) and 0 other file(s)"
      ],
      "text/plain": [
       "<IPython.core.display.HTML object>"
      ]
     },
     "metadata": {},
     "output_type": "display_data"
    },
    {
     "data": {
      "text/html": [
       "Find logs at: <code>./wandb/run-20240812_205436-za706r0r/logs</code>"
      ],
      "text/plain": [
       "<IPython.core.display.HTML object>"
      ]
     },
     "metadata": {},
     "output_type": "display_data"
    },
    {
     "data": {
      "text/html": [
       "The new W&B backend becomes opt-out in version 0.18.0; try it out with `wandb.require(\"core\")`! See https://wandb.me/wandb-core for more information."
      ],
      "text/plain": [
       "<IPython.core.display.HTML object>"
      ]
     },
     "metadata": {},
     "output_type": "display_data"
    },
    {
     "name": "stderr",
     "output_type": "stream",
     "text": [
      "\u001b[34m\u001b[1mwandb\u001b[0m: Agent Starting Run: 9o8b5wgo with config:\n",
      "\u001b[34m\u001b[1mwandb\u001b[0m: \tbatch_size: 16\n",
      "\u001b[34m\u001b[1mwandb\u001b[0m: \tembedding_dim: 128\n",
      "\u001b[34m\u001b[1mwandb\u001b[0m: \tepochs: 3\n",
      "\u001b[34m\u001b[1mwandb\u001b[0m: \tlr: 0.00019792801211801923\n",
      "\u001b[34m\u001b[1mwandb\u001b[0m: \tmargin: 1.0845279667847645\n"
     ]
    },
    {
     "data": {
      "text/html": [
       "Tracking run with wandb version 0.17.6"
      ],
      "text/plain": [
       "<IPython.core.display.HTML object>"
      ]
     },
     "metadata": {},
     "output_type": "display_data"
    },
    {
     "data": {
      "text/html": [
       "Run data is saved locally in <code>/home/jovyan/work/src/wandb/run-20240812_205501-9o8b5wgo</code>"
      ],
      "text/plain": [
       "<IPython.core.display.HTML object>"
      ]
     },
     "metadata": {},
     "output_type": "display_data"
    },
    {
     "data": {
      "text/html": [
       "Syncing run <strong><a href='https://wandb.ai/csc240_lztp/hackathon-2024/runs/9o8b5wgo' target=\"_blank\">fanciful-sweep-11</a></strong> to <a href='https://wandb.ai/csc240_lztp/hackathon-2024' target=\"_blank\">Weights & Biases</a> (<a href='https://wandb.me/run' target=\"_blank\">docs</a>)<br/>Sweep page: <a href='https://wandb.ai/csc240_lztp/hackathon-2024/sweeps/8lf1jk1n' target=\"_blank\">https://wandb.ai/csc240_lztp/hackathon-2024/sweeps/8lf1jk1n</a>"
      ],
      "text/plain": [
       "<IPython.core.display.HTML object>"
      ]
     },
     "metadata": {},
     "output_type": "display_data"
    },
    {
     "data": {
      "text/html": [
       " View project at <a href='https://wandb.ai/csc240_lztp/hackathon-2024' target=\"_blank\">https://wandb.ai/csc240_lztp/hackathon-2024</a>"
      ],
      "text/plain": [
       "<IPython.core.display.HTML object>"
      ]
     },
     "metadata": {},
     "output_type": "display_data"
    },
    {
     "data": {
      "text/html": [
       " View sweep at <a href='https://wandb.ai/csc240_lztp/hackathon-2024/sweeps/8lf1jk1n' target=\"_blank\">https://wandb.ai/csc240_lztp/hackathon-2024/sweeps/8lf1jk1n</a>"
      ],
      "text/plain": [
       "<IPython.core.display.HTML object>"
      ]
     },
     "metadata": {},
     "output_type": "display_data"
    },
    {
     "data": {
      "text/html": [
       " View run at <a href='https://wandb.ai/csc240_lztp/hackathon-2024/runs/9o8b5wgo' target=\"_blank\">https://wandb.ai/csc240_lztp/hackathon-2024/runs/9o8b5wgo</a>"
      ],
      "text/plain": [
       "<IPython.core.display.HTML object>"
      ]
     },
     "metadata": {},
     "output_type": "display_data"
    },
    {
     "data": {
      "application/vnd.jupyter.widget-view+json": {
       "model_id": "24b3289eb35848e3bc73be1dc20a7ca7",
       "version_major": 2,
       "version_minor": 0
      },
      "text/plain": [
       "VBox(children=(Label(value='0.006 MB of 0.006 MB uploaded\\r'), FloatProgress(value=1.0, max=1.0)))"
      ]
     },
     "metadata": {},
     "output_type": "display_data"
    },
    {
     "data": {
      "text/html": [
       "<style>\n",
       "    table.wandb td:nth-child(1) { padding: 0 10px; text-align: left ; width: auto;} td:nth-child(2) {text-align: left ; width: 100%}\n",
       "    .wandb-row { display: flex; flex-direction: row; flex-wrap: wrap; justify-content: flex-start; width: 100% }\n",
       "    .wandb-col { display: flex; flex-direction: column; flex-basis: 100%; flex: 1; padding: 10px; }\n",
       "    </style>\n",
       "<div class=\"wandb-row\"><div class=\"wandb-col\"><h3>Run history:</h3><br/><table class=\"wandb\"><tr><td>epoch</td><td>▁▅█</td></tr><tr><td>loss</td><td>█▄▁</td></tr><tr><td>val_acc</td><td>▁</td></tr><tr><td>val_f1</td><td>▁</td></tr><tr><td>val_mcc</td><td>▁</td></tr></table><br/></div><div class=\"wandb-col\"><h3>Run summary:</h3><br/><table class=\"wandb\"><tr><td>epoch</td><td>3</td></tr><tr><td>loss</td><td>1.11651</td></tr><tr><td>val_acc</td><td>0.51667</td></tr><tr><td>val_f1</td><td>0.57971</td></tr><tr><td>val_mcc</td><td>0.04717</td></tr></table><br/></div></div>"
      ],
      "text/plain": [
       "<IPython.core.display.HTML object>"
      ]
     },
     "metadata": {},
     "output_type": "display_data"
    },
    {
     "data": {
      "text/html": [
       " View run <strong style=\"color:#cdcd00\">fanciful-sweep-11</strong> at: <a href='https://wandb.ai/csc240_lztp/hackathon-2024/runs/9o8b5wgo' target=\"_blank\">https://wandb.ai/csc240_lztp/hackathon-2024/runs/9o8b5wgo</a><br/> View project at: <a href='https://wandb.ai/csc240_lztp/hackathon-2024' target=\"_blank\">https://wandb.ai/csc240_lztp/hackathon-2024</a><br/>Synced 4 W&B file(s), 0 media file(s), 0 artifact file(s) and 0 other file(s)"
      ],
      "text/plain": [
       "<IPython.core.display.HTML object>"
      ]
     },
     "metadata": {},
     "output_type": "display_data"
    },
    {
     "data": {
      "text/html": [
       "Find logs at: <code>./wandb/run-20240812_205501-9o8b5wgo/logs</code>"
      ],
      "text/plain": [
       "<IPython.core.display.HTML object>"
      ]
     },
     "metadata": {},
     "output_type": "display_data"
    },
    {
     "data": {
      "text/html": [
       "The new W&B backend becomes opt-out in version 0.18.0; try it out with `wandb.require(\"core\")`! See https://wandb.me/wandb-core for more information."
      ],
      "text/plain": [
       "<IPython.core.display.HTML object>"
      ]
     },
     "metadata": {},
     "output_type": "display_data"
    },
    {
     "name": "stderr",
     "output_type": "stream",
     "text": [
      "\u001b[34m\u001b[1mwandb\u001b[0m: Agent Starting Run: ia6ohed8 with config:\n",
      "\u001b[34m\u001b[1mwandb\u001b[0m: \tbatch_size: 8\n",
      "\u001b[34m\u001b[1mwandb\u001b[0m: \tembedding_dim: 128\n",
      "\u001b[34m\u001b[1mwandb\u001b[0m: \tepochs: 5\n",
      "\u001b[34m\u001b[1mwandb\u001b[0m: \tlr: 1.5711592297876668e-05\n",
      "\u001b[34m\u001b[1mwandb\u001b[0m: \tmargin: 1.0719894620976047\n"
     ]
    },
    {
     "data": {
      "text/html": [
       "Tracking run with wandb version 0.17.6"
      ],
      "text/plain": [
       "<IPython.core.display.HTML object>"
      ]
     },
     "metadata": {},
     "output_type": "display_data"
    },
    {
     "data": {
      "text/html": [
       "Run data is saved locally in <code>/home/jovyan/work/src/wandb/run-20240812_205527-ia6ohed8</code>"
      ],
      "text/plain": [
       "<IPython.core.display.HTML object>"
      ]
     },
     "metadata": {},
     "output_type": "display_data"
    },
    {
     "data": {
      "text/html": [
       "Syncing run <strong><a href='https://wandb.ai/csc240_lztp/hackathon-2024/runs/ia6ohed8' target=\"_blank\">azure-sweep-12</a></strong> to <a href='https://wandb.ai/csc240_lztp/hackathon-2024' target=\"_blank\">Weights & Biases</a> (<a href='https://wandb.me/run' target=\"_blank\">docs</a>)<br/>Sweep page: <a href='https://wandb.ai/csc240_lztp/hackathon-2024/sweeps/8lf1jk1n' target=\"_blank\">https://wandb.ai/csc240_lztp/hackathon-2024/sweeps/8lf1jk1n</a>"
      ],
      "text/plain": [
       "<IPython.core.display.HTML object>"
      ]
     },
     "metadata": {},
     "output_type": "display_data"
    },
    {
     "data": {
      "text/html": [
       " View project at <a href='https://wandb.ai/csc240_lztp/hackathon-2024' target=\"_blank\">https://wandb.ai/csc240_lztp/hackathon-2024</a>"
      ],
      "text/plain": [
       "<IPython.core.display.HTML object>"
      ]
     },
     "metadata": {},
     "output_type": "display_data"
    },
    {
     "data": {
      "text/html": [
       " View sweep at <a href='https://wandb.ai/csc240_lztp/hackathon-2024/sweeps/8lf1jk1n' target=\"_blank\">https://wandb.ai/csc240_lztp/hackathon-2024/sweeps/8lf1jk1n</a>"
      ],
      "text/plain": [
       "<IPython.core.display.HTML object>"
      ]
     },
     "metadata": {},
     "output_type": "display_data"
    },
    {
     "data": {
      "text/html": [
       " View run at <a href='https://wandb.ai/csc240_lztp/hackathon-2024/runs/ia6ohed8' target=\"_blank\">https://wandb.ai/csc240_lztp/hackathon-2024/runs/ia6ohed8</a>"
      ],
      "text/plain": [
       "<IPython.core.display.HTML object>"
      ]
     },
     "metadata": {},
     "output_type": "display_data"
    },
    {
     "data": {
      "application/vnd.jupyter.widget-view+json": {
       "model_id": "34d86b0de7904fadbe76edc06ee9ddb2",
       "version_major": 2,
       "version_minor": 0
      },
      "text/plain": [
       "VBox(children=(Label(value='0.006 MB of 0.006 MB uploaded\\r'), FloatProgress(value=1.0, max=1.0)))"
      ]
     },
     "metadata": {},
     "output_type": "display_data"
    },
    {
     "data": {
      "text/html": [
       "<style>\n",
       "    table.wandb td:nth-child(1) { padding: 0 10px; text-align: left ; width: auto;} td:nth-child(2) {text-align: left ; width: 100%}\n",
       "    .wandb-row { display: flex; flex-direction: row; flex-wrap: wrap; justify-content: flex-start; width: 100% }\n",
       "    .wandb-col { display: flex; flex-direction: column; flex-basis: 100%; flex: 1; padding: 10px; }\n",
       "    </style>\n",
       "<div class=\"wandb-row\"><div class=\"wandb-col\"><h3>Run history:</h3><br/><table class=\"wandb\"><tr><td>epoch</td><td>▁▃▅▆█</td></tr><tr><td>loss</td><td>█▅▁▂▁</td></tr><tr><td>val_acc</td><td>▁</td></tr><tr><td>val_f1</td><td>▁</td></tr><tr><td>val_mcc</td><td>▁</td></tr></table><br/></div><div class=\"wandb-col\"><h3>Run summary:</h3><br/><table class=\"wandb\"><tr><td>epoch</td><td>5</td></tr><tr><td>loss</td><td>7.19079</td></tr><tr><td>val_acc</td><td>0.46667</td></tr><tr><td>val_f1</td><td>0.6</td></tr><tr><td>val_mcc</td><td>-0.06071</td></tr></table><br/></div></div>"
      ],
      "text/plain": [
       "<IPython.core.display.HTML object>"
      ]
     },
     "metadata": {},
     "output_type": "display_data"
    },
    {
     "data": {
      "text/html": [
       " View run <strong style=\"color:#cdcd00\">azure-sweep-12</strong> at: <a href='https://wandb.ai/csc240_lztp/hackathon-2024/runs/ia6ohed8' target=\"_blank\">https://wandb.ai/csc240_lztp/hackathon-2024/runs/ia6ohed8</a><br/> View project at: <a href='https://wandb.ai/csc240_lztp/hackathon-2024' target=\"_blank\">https://wandb.ai/csc240_lztp/hackathon-2024</a><br/>Synced 4 W&B file(s), 0 media file(s), 0 artifact file(s) and 0 other file(s)"
      ],
      "text/plain": [
       "<IPython.core.display.HTML object>"
      ]
     },
     "metadata": {},
     "output_type": "display_data"
    },
    {
     "data": {
      "text/html": [
       "Find logs at: <code>./wandb/run-20240812_205527-ia6ohed8/logs</code>"
      ],
      "text/plain": [
       "<IPython.core.display.HTML object>"
      ]
     },
     "metadata": {},
     "output_type": "display_data"
    },
    {
     "data": {
      "text/html": [
       "The new W&B backend becomes opt-out in version 0.18.0; try it out with `wandb.require(\"core\")`! See https://wandb.me/wandb-core for more information."
      ],
      "text/plain": [
       "<IPython.core.display.HTML object>"
      ]
     },
     "metadata": {},
     "output_type": "display_data"
    },
    {
     "name": "stderr",
     "output_type": "stream",
     "text": [
      "\u001b[34m\u001b[1mwandb\u001b[0m: Agent Starting Run: jhhxljot with config:\n",
      "\u001b[34m\u001b[1mwandb\u001b[0m: \tbatch_size: 8\n",
      "\u001b[34m\u001b[1mwandb\u001b[0m: \tembedding_dim: 256\n",
      "\u001b[34m\u001b[1mwandb\u001b[0m: \tepochs: 8\n",
      "\u001b[34m\u001b[1mwandb\u001b[0m: \tlr: 1.206606570833793e-05\n",
      "\u001b[34m\u001b[1mwandb\u001b[0m: \tmargin: 1.4019892187710268\n",
      "\u001b[34m\u001b[1mwandb\u001b[0m: Ctrl + C detected. Stopping sweep.\n",
      "\u001b[34m\u001b[1mwandb\u001b[0m: \u001b[33mWARNING\u001b[0m Unable to render progress bar, see the user log for details\n",
      "\u001b[34m\u001b[1mwandb\u001b[0m: \u001b[32m\u001b[41mERROR\u001b[0m Problem finishing run\n",
      "Exception in thread Thread-74 (_run_job):\n",
      "Traceback (most recent call last):\n",
      "  File \"/opt/conda/lib/python3.11/site-packages/wandb/agents/pyagent.py\", line 307, in _run_job\n",
      "    self._function()\n",
      "  File \"/tmp/ipykernel_24976/2606322927.py\", line 20, in train\n",
      "  File \"/opt/conda/lib/python3.11/site-packages/wandb/sdk/wandb_init.py\", line 1191, in init\n",
      "    wandb._sentry.reraise(e)\n",
      "  File \"/opt/conda/lib/python3.11/site-packages/wandb/analytics/sentry.py\", line 155, in reraise\n",
      "    raise exc.with_traceback(sys.exc_info()[2])\n",
      "  File \"/opt/conda/lib/python3.11/site-packages/wandb/sdk/wandb_init.py\", line 1177, in init\n",
      "    return wi.init()\n",
      "           ^^^^^^^^^\n",
      "  File \"/opt/conda/lib/python3.11/site-packages/wandb/sdk/wandb_init.py\", line 842, in init\n",
      "    run._on_start()\n",
      "  File \"/opt/conda/lib/python3.11/site-packages/wandb/sdk/wandb_run.py\", line 2456, in _on_start\n",
      "    self._header(\n",
      "  File \"/opt/conda/lib/python3.11/site-packages/wandb/sdk/wandb_run.py\", line 3644, in _header\n",
      "    Run._header_wandb_version_info(settings=settings, printer=printer)\n",
      "  File \"/opt/conda/lib/python3.11/site-packages/wandb/sdk/wandb_run.py\", line 3677, in _header_wandb_version_info\n",
      "    printer.display(\n",
      "  File \"/opt/conda/lib/python3.11/site-packages/wandb/sdk/lib/printer.py\", line 68, in display\n",
      "    self._display(text, level=level, default_text=default_text)\n",
      "  File \"/opt/conda/lib/python3.11/site-packages/wandb/sdk/lib/printer.py\", line 248, in _display\n",
      "    self._display_fn_mapping(level)(text)\n",
      "  File \"/opt/conda/lib/python3.11/site-packages/wandb/sdk/lib/ipython.py\", line 81, in display_html\n",
      "    return display(HTML(html))\n",
      "           ^^^^^^^^^^^^^^^^^^^\n",
      "  File \"/opt/conda/lib/python3.11/site-packages/IPython/core/display_functions.py\", line 305, in display\n",
      "    publish_display_data(data=format_dict, metadata=md_dict, **kwargs)\n",
      "  File \"/opt/conda/lib/python3.11/site-packages/IPython/core/display_functions.py\", line 93, in publish_display_data\n",
      "    display_pub.publish(\n",
      "  File \"/opt/conda/lib/python3.11/site-packages/wandb/sdk/wandb_init.py\", line 478, in publish\n",
      "    ipython.display_pub._orig_publish(data, metadata=metadata, **kwargs)\n",
      "  File \"/opt/conda/lib/python3.11/site-packages/ipykernel/zmqshell.py\", line 102, in publish\n",
      "    self._flush_streams()\n",
      "  File \"/opt/conda/lib/python3.11/site-packages/ipykernel/zmqshell.py\", line 65, in _flush_streams\n",
      "    sys.stdout.flush()\n",
      "  File \"/opt/conda/lib/python3.11/site-packages/ipykernel/iostream.py\", line 575, in flush\n",
      "    self.pub_thread.schedule(self._flush)\n",
      "  File \"/opt/conda/lib/python3.11/site-packages/ipykernel/iostream.py\", line 267, in schedule\n",
      "    self._event_pipe.send(b\"\")\n",
      "  File \"/opt/conda/lib/python3.11/site-packages/zmq/sugar/socket.py\", line 696, in send\n",
      "    return super().send(data, flags=flags, copy=copy, track=track)\n",
      "           ^^^^^^^^^^^^^^^^^^^^^^^^^^^^^^^^^^^^^^^^^^^^^^^^^^^^^^^\n",
      "  File \"zmq/backend/cython/socket.pyx\", line 742, in zmq.backend.cython.socket.Socket.send\n",
      "  File \"zmq/backend/cython/socket.pyx\", line 783, in zmq.backend.cython.socket.Socket.send\n",
      "  File \"zmq/backend/cython/socket.pyx\", line 138, in zmq.backend.cython.socket._check_closed\n",
      "zmq.error.ZMQError: Socket operation on non-socket\n",
      "\n",
      "During handling of the above exception, another exception occurred:\n",
      "\n",
      "Traceback (most recent call last):\n",
      "  File \"/opt/conda/lib/python3.11/site-packages/wandb/sdk/lib/ipython.py\", line 113, in update\n",
      "    self._progress.value = value\n",
      "    ^^^^^^^^^^^^^^^^^^^^\n",
      "  File \"/opt/conda/lib/python3.11/site-packages/traitlets/traitlets.py\", line 748, in __set__\n",
      "    self.set(obj, value)\n",
      "  File \"/opt/conda/lib/python3.11/site-packages/traitlets/traitlets.py\", line 737, in set\n",
      "    obj._notify_trait(self.name, old_value, new_value)\n",
      "  File \"/opt/conda/lib/python3.11/site-packages/traitlets/traitlets.py\", line 1532, in _notify_trait\n",
      "    self.notify_change(\n",
      "  File \"/opt/conda/lib/python3.11/site-packages/ipywidgets/widgets/widget.py\", line 700, in notify_change\n",
      "    self.send_state(key=name)\n",
      "  File \"/opt/conda/lib/python3.11/site-packages/ipywidgets/widgets/widget.py\", line 586, in send_state\n",
      "    self._send(msg, buffers=buffers)\n",
      "  File \"/opt/conda/lib/python3.11/site-packages/ipywidgets/widgets/widget.py\", line 825, in _send\n",
      "    self.comm.send(data=msg, buffers=buffers)\n",
      "  File \"/opt/conda/lib/python3.11/site-packages/comm/base_comm.py\", line 113, in send\n",
      "    self.publish_msg(\n",
      "  File \"/opt/conda/lib/python3.11/site-packages/ipykernel/comm/comm.py\", line 36, in publish_msg\n",
      "    self.kernel.session.send(\n",
      "  File \"/opt/conda/lib/python3.11/site-packages/jupyter_client/session.py\", line 863, in send\n",
      "    stream.send_multipart(to_send, copy=copy)\n",
      "  File \"/opt/conda/lib/python3.11/site-packages/ipykernel/iostream.py\", line 346, in send_multipart\n",
      "    return self.io_thread.send_multipart(*args, **kwargs)\n",
      "           ^^^^^^^^^^^^^^^^^^^^^^^^^^^^^^^^^^^^^^^^^^^^^^\n",
      "  File \"/opt/conda/lib/python3.11/site-packages/ipykernel/iostream.py\", line 276, in send_multipart\n",
      "    self.schedule(lambda: self._really_send(*args, **kwargs))\n",
      "  File \"/opt/conda/lib/python3.11/site-packages/ipykernel/iostream.py\", line 267, in schedule\n",
      "    self._event_pipe.send(b\"\")\n",
      "  File \"/opt/conda/lib/python3.11/site-packages/zmq/sugar/socket.py\", line 696, in send\n",
      "    return super().send(data, flags=flags, copy=copy, track=track)\n",
      "           ^^^^^^^^^^^^^^^^^^^^^^^^^^^^^^^^^^^^^^^^^^^^^^^^^^^^^^^\n",
      "  File \"zmq/backend/cython/socket.pyx\", line 742, in zmq.backend.cython.socket.Socket.send\n",
      "  File \"zmq/backend/cython/socket.pyx\", line 783, in zmq.backend.cython.socket.Socket.send\n",
      "  File \"zmq/backend/cython/socket.pyx\", line 138, in zmq.backend.cython.socket._check_closed\n",
      "zmq.error.ZMQError: Socket operation on non-socket\n",
      "\n",
      "During handling of the above exception, another exception occurred:\n",
      "\n",
      "Traceback (most recent call last):\n",
      "  File \"/opt/conda/lib/python3.11/site-packages/wandb/sdk/wandb_run.py\", line 2389, in _atexit_cleanup\n",
      "    self._on_finish()\n",
      "  File \"/opt/conda/lib/python3.11/site-packages/wandb/sdk/wandb_run.py\", line 2660, in _on_finish\n",
      "    self._footer_file_pusher_status_info(\n",
      "  File \"/opt/conda/lib/python3.11/site-packages/wandb/sdk/wandb_run.py\", line 3849, in _footer_file_pusher_status_info\n",
      "    Run._footer_single_run_file_pusher_status_info(\n",
      "  File \"/opt/conda/lib/python3.11/site-packages/wandb/sdk/wandb_run.py\", line 3896, in _footer_single_run_file_pusher_status_info\n",
      "    printer.progress_update(line, stats.uploaded_bytes / stats.total_bytes)\n",
      "  File \"/opt/conda/lib/python3.11/site-packages/wandb/sdk/lib/printer.py\", line 288, in progress_update\n",
      "    self._progress.update(percent_done, text)\n",
      "  File \"/opt/conda/lib/python3.11/site-packages/wandb/sdk/lib/ipython.py\", line 121, in update\n",
      "    wandb.termwarn(\n",
      "  File \"/opt/conda/lib/python3.11/site-packages/wandb/errors/term.py\", line 53, in termwarn\n",
      "    _log(\n",
      "  File \"/opt/conda/lib/python3.11/site-packages/wandb/errors/term.py\", line 103, in _log\n",
      "    click.echo(line, file=sys.stderr, nl=newline)\n",
      "  File \"/opt/conda/lib/python3.11/site-packages/click/utils.py\", line 318, in echo\n",
      "    file.write(out)  # type: ignore\n",
      "    ^^^^^^^^^^^^^^^\n",
      "  File \"/opt/conda/lib/python3.11/site-packages/ipykernel/iostream.py\", line 664, in write\n",
      "    self._schedule_flush()\n",
      "  File \"/opt/conda/lib/python3.11/site-packages/ipykernel/iostream.py\", line 561, in _schedule_flush\n",
      "    self.pub_thread.schedule(_schedule_in_thread)\n",
      "  File \"/opt/conda/lib/python3.11/site-packages/ipykernel/iostream.py\", line 267, in schedule\n",
      "    self._event_pipe.send(b\"\")\n",
      "  File \"/opt/conda/lib/python3.11/site-packages/zmq/sugar/socket.py\", line 696, in send\n",
      "    return super().send(data, flags=flags, copy=copy, track=track)\n",
      "           ^^^^^^^^^^^^^^^^^^^^^^^^^^^^^^^^^^^^^^^^^^^^^^^^^^^^^^^\n",
      "  File \"zmq/backend/cython/socket.pyx\", line 742, in zmq.backend.cython.socket.Socket.send\n",
      "  File \"zmq/backend/cython/socket.pyx\", line 783, in zmq.backend.cython.socket.Socket.send\n",
      "  File \"zmq/backend/cython/socket.pyx\", line 138, in zmq.backend.cython.socket._check_closed\n",
      "zmq.error.ZMQError: Socket operation on non-socket\n",
      "\n",
      "During handling of the above exception, another exception occurred:\n",
      "\n",
      "Traceback (most recent call last):\n",
      "  File \"/opt/conda/lib/python3.11/threading.py\", line 1045, in _bootstrap_inner\n",
      "    self.run()\n",
      "  File \"/opt/conda/lib/python3.11/threading.py\", line 982, in run\n",
      "    self._target(*self._args, **self._kwargs)\n",
      "  File \"/opt/conda/lib/python3.11/site-packages/wandb/agents/pyagent.py\", line 312, in _run_job\n",
      "    wandb.finish(exit_code=1)\n",
      "  File \"/opt/conda/lib/python3.11/site-packages/wandb/sdk/wandb_run.py\", line 4306, in finish\n",
      "    wandb.run.finish(exit_code=exit_code, quiet=quiet)\n",
      "  File \"/opt/conda/lib/python3.11/site-packages/wandb/sdk/wandb_run.py\", line 450, in wrapper\n",
      "    return func(self, *args, **kwargs)\n",
      "           ^^^^^^^^^^^^^^^^^^^^^^^^^^^\n",
      "  File \"/opt/conda/lib/python3.11/site-packages/wandb/sdk/wandb_run.py\", line 391, in wrapper\n",
      "    return func(self, *args, **kwargs)\n",
      "           ^^^^^^^^^^^^^^^^^^^^^^^^^^^\n",
      "  File \"/opt/conda/lib/python3.11/site-packages/wandb/sdk/wandb_run.py\", line 2103, in finish\n",
      "    return self._finish(exit_code, quiet)\n",
      "           ^^^^^^^^^^^^^^^^^^^^^^^^^^^^^^\n",
      "  File \"/opt/conda/lib/python3.11/site-packages/wandb/sdk/wandb_run.py\", line 2137, in _finish\n",
      "    self._atexit_cleanup(exit_code=exit_code)\n",
      "  File \"/opt/conda/lib/python3.11/site-packages/wandb/sdk/wandb_run.py\", line 2399, in _atexit_cleanup\n",
      "    wandb.termerror(\"Problem finishing run\")\n",
      "  File \"/opt/conda/lib/python3.11/site-packages/wandb/errors/term.py\", line 64, in termerror\n",
      "    _log(\n",
      "  File \"/opt/conda/lib/python3.11/site-packages/wandb/errors/term.py\", line 103, in _log\n",
      "    click.echo(line, file=sys.stderr, nl=newline)\n",
      "  File \"/opt/conda/lib/python3.11/site-packages/click/utils.py\", line 319, in echo\n",
      "    file.flush()\n",
      "  File \"/opt/conda/lib/python3.11/site-packages/ipykernel/iostream.py\", line 575, in flush\n",
      "    self.pub_thread.schedule(self._flush)\n",
      "  File \"/opt/conda/lib/python3.11/site-packages/ipykernel/iostream.py\", line 267, in schedule\n",
      "    self._event_pipe.send(b\"\")\n",
      "  File \"/opt/conda/lib/python3.11/site-packages/zmq/sugar/socket.py\", line 696, in send\n",
      "    return super().send(data, flags=flags, copy=copy, track=track)\n",
      "           ^^^^^^^^^^^^^^^^^^^^^^^^^^^^^^^^^^^^^^^^^^^^^^^^^^^^^^^\n",
      "  File \"zmq/backend/cython/socket.pyx\", line 742, in zmq.backend.cython.socket.Socket.send\n",
      "  File \"zmq/backend/cython/socket.pyx\", line 783, in zmq.backend.cython.socket.Socket.send\n",
      "  File \"zmq/backend/cython/socket.pyx\", line 138, in zmq.backend.cython.socket._check_closed\n",
      "zmq.error.ZMQError: Socket operation on non-socket\n",
      "Exception in threading.excepthook:\n",
      "Exception ignored in thread started by: <bound method Thread._bootstrap of <Thread(Thread-74 (_run_job), stopped 140240941475392)>>\n",
      "Traceback (most recent call last):\n",
      "  File \"/opt/conda/lib/python3.11/threading.py\", line 1002, in _bootstrap\n",
      "    self._bootstrap_inner()\n",
      "  File \"/opt/conda/lib/python3.11/threading.py\", line 1047, in _bootstrap_inner\n",
      "    self._invoke_excepthook(self)\n",
      "  File \"/opt/conda/lib/python3.11/threading.py\", line 1359, in invoke_excepthook\n",
      "    local_print(\"Exception in threading.excepthook:\",\n",
      "  File \"/opt/conda/lib/python3.11/site-packages/ipykernel/iostream.py\", line 575, in flush\n",
      "    self.pub_thread.schedule(self._flush)\n",
      "  File \"/opt/conda/lib/python3.11/site-packages/ipykernel/iostream.py\", line 267, in schedule\n",
      "    self._event_pipe.send(b\"\")\n",
      "  File \"/opt/conda/lib/python3.11/site-packages/zmq/sugar/socket.py\", line 696, in send\n",
      "    return super().send(data, flags=flags, copy=copy, track=track)\n",
      "           ^^^^^^^^^^^^^^^^^^^^^^^^^^^^^^^^^^^^^^^^^^^^^^^^^^^^^^^\n",
      "  File \"zmq/backend/cython/socket.pyx\", line 742, in zmq.backend.cython.socket.Socket.send\n",
      "  File \"zmq/backend/cython/socket.pyx\", line 783, in zmq.backend.cython.socket.Socket.send\n",
      "  File \"zmq/backend/cython/socket.pyx\", line 138, in zmq.backend.cython.socket._check_closed\n",
      "zmq.error.ZMQError: Socket operation on non-socket\n",
      "Exception ignored in sys.unraisablehook: <built-in function unraisablehook>\n",
      "Traceback (most recent call last):\n",
      "  File \"/opt/conda/lib/python3.11/site-packages/ipykernel/iostream.py\", line 575, in flush\n",
      "    self.pub_thread.schedule(self._flush)\n",
      "  File \"/opt/conda/lib/python3.11/site-packages/ipykernel/iostream.py\", line 267, in schedule\n",
      "    self._event_pipe.send(b\"\")\n",
      "  File \"/opt/conda/lib/python3.11/site-packages/zmq/sugar/socket.py\", line 696, in send\n",
      "    return super().send(data, flags=flags, copy=copy, track=track)\n",
      "           ^^^^^^^^^^^^^^^^^^^^^^^^^^^^^^^^^^^^^^^^^^^^^^^^^^^^^^^\n",
      "  File \"zmq/backend/cython/socket.pyx\", line 742, in zmq.backend.cython.socket.Socket.send\n",
      "  File \"zmq/backend/cython/socket.pyx\", line 783, in zmq.backend.cython.socket.Socket.send\n",
      "  File \"zmq/backend/cython/socket.pyx\", line 138, in zmq.backend.cython.socket._check_closed\n",
      "zmq.error.ZMQError: Socket operation on non-socket\n"
     ]
    }
   ],
   "source": [
    "wandb.agent(sweep_id, function=train, count=30)"
   ]
  },
  {
   "cell_type": "markdown",
   "id": "cc520f6f-3426-4e35-87cb-25b6a5637226",
   "metadata": {},
   "source": [
    "# Test"
   ]
  },
  {
   "cell_type": "code",
   "execution_count": 28,
   "id": "fd3b5f9f-b910-459f-9ac9-b93dbe34aa90",
   "metadata": {},
   "outputs": [
    {
     "name": "stdout",
     "output_type": "stream",
     "text": [
      "{'val_f1': 0.06666666666666667, 'val_acc': 0.5333333333333333, 'val_mcc': 0.13460334176483385}\n"
     ]
    }
   ],
   "source": [
    "model, clf = train(use_wandb=False)\n",
    "X, y = make_binary_task(model, train2_dataloader)\n",
    "clf = LogisticRegression(random_state=42).fit(X, y)"
   ]
  },
  {
   "cell_type": "code",
   "execution_count": null,
   "id": "254712e0-5a36-48ee-b832-dedac9e890ca",
   "metadata": {},
   "outputs": [],
   "source": [
    "X, y = make_binary_task(model, val_dataloader)\n",
    "y_pred = clf.predict(X)\n",
    "y_true = y\n",
    "\n",
    "print(classification_report(y_true, y_pred))"
   ]
  },
  {
   "cell_type": "code",
   "execution_count": null,
   "id": "8c809448-ea98-4d69-84b2-8952c8f1eda1",
   "metadata": {},
   "outputs": [],
   "source": [
    "X_test, y_test = make_binary_task(model, test_dataloader)"
   ]
  },
  {
   "cell_type": "code",
   "execution_count": null,
   "id": "b40f8aa9-e728-40cc-a6da-e1d602adc6d8",
   "metadata": {},
   "outputs": [],
   "source": [
    "y_pred = clf.predict(X_test)\n",
    "y_pred"
   ]
  },
  {
   "cell_type": "code",
   "execution_count": null,
   "id": "db40e5f4-6087-4beb-8712-6d9b0e84eba6",
   "metadata": {},
   "outputs": [],
   "source": []
  }
 ],
 "metadata": {
  "kernelspec": {
   "display_name": "Python 3 (ipykernel)",
   "language": "python",
   "name": "python3"
  },
  "language_info": {
   "codemirror_mode": {
    "name": "ipython",
    "version": 3
   },
   "file_extension": ".py",
   "mimetype": "text/x-python",
   "name": "python",
   "nbconvert_exporter": "python",
   "pygments_lexer": "ipython3",
   "version": "3.11.6"
  }
 },
 "nbformat": 4,
 "nbformat_minor": 5
}
